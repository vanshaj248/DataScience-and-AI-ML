{
 "cells": [
  {
   "cell_type": "markdown",
   "metadata": {
    "_cell_guid": "ce7d6fa0-5c61-0d94-9941-9eef9ea68077",
    "_uuid": "2df33e5389533544ca69f36129ffba91f1adb6e5"
   },
   "source": [
    "# Introduction\n",
    "\n",
    "There already exists a plethora of notebooks discussing the merits of dimensionality reduction methods, in particular the Big 3 of PCA (Principal Component Analysis), LDA ( Linear Discriminant Analysis) and TSNE ( T-Distributed Stochastic Neighbour Embedding). Quite a handful of these have compared one to the other but few have gathered all 3 in one go. Therefore this notebook will aim to provide an introductory exposition on these 3 methods as well as to portray their visualisations interactively and hopefully more intuitively via the Plotly visualisation library. The chapters are structuredas follows:\n",
    "\n",
    " 1. **Principal Component Analysis ( PCA )**  - Unsupervised, linear method\n",
    "\n",
    "\n",
    " 2. **Linear Discriminant Analysis (LDA)** - Supervised, linear method\n",
    "\n",
    "\n",
    " 3. **t-distributed Stochastic Neighbour Embedding (t-SNE)** - Nonlinear, probabilistic method\n",
    "\n",
    "Lets go."
   ]
  },
  {
   "cell_type": "code",
   "execution_count": 1,
   "metadata": {
    "_cell_guid": "bbbfbfb7-4cfd-7c9f-523a-1c4d474e7919",
    "_execution_state": "idle",
    "_uuid": "4bee068051d8d31245eb44efcec101faa7519b36",
    "execution": {
     "iopub.execute_input": "2025-08-23T15:51:00.258684Z",
     "iopub.status.busy": "2025-08-23T15:51:00.258326Z",
     "iopub.status.idle": "2025-08-23T15:51:03.095335Z",
     "shell.execute_reply": "2025-08-23T15:51:03.093654Z",
     "shell.execute_reply.started": "2025-08-23T15:51:00.258603Z"
    },
    "trusted": true
   },
   "outputs": [
    {
     "data": {
      "text/html": [
       "        <script type=\"text/javascript\">\n",
       "        window.PlotlyConfig = {MathJaxConfig: 'local'};\n",
       "        if (window.MathJax && window.MathJax.Hub && window.MathJax.Hub.Config) {window.MathJax.Hub.Config({SVG: {font: \"STIX-Web\"}});}\n",
       "        if (typeof require !== 'undefined') {\n",
       "        require.undef(\"plotly\");\n",
       "        requirejs.config({\n",
       "            paths: {\n",
       "                'plotly': ['https://cdn.plot.ly/plotly-2.35.2.min']\n",
       "            }\n",
       "        });\n",
       "        require(['plotly'], function(Plotly) {\n",
       "            window._Plotly = Plotly;\n",
       "        });\n",
       "        }\n",
       "        </script>\n",
       "        "
      ]
     },
     "metadata": {},
     "output_type": "display_data"
    }
   ],
   "source": [
    "import numpy as np # linear algebra\n",
    "import pandas as pd # data processing, CSV file I/O (e.g. pd.read_csv)\n",
    "\n",
    "import plotly.offline as py\n",
    "py.init_notebook_mode(connected=True)\n",
    "import plotly.graph_objs as go\n",
    "import plotly.tools as tls\n",
    "import seaborn as sns\n",
    "import matplotlib.image as mpimg\n",
    "import matplotlib.pyplot as plt\n",
    "import matplotlib\n",
    "%matplotlib inline\n",
    "\n",
    "# Import the 3 dimensionality reduction methods\n",
    "from sklearn.manifold import TSNE\n",
    "from sklearn.decomposition import PCA\n",
    "from sklearn.discriminant_analysis import LinearDiscriminantAnalysis as LDA"
   ]
  },
  {
   "cell_type": "markdown",
   "metadata": {
    "_cell_guid": "f0ef3f94-be7c-8108-279e-41f8c5a28185",
    "_uuid": "30a04ee76d6633d67d30446dd84c2fd3160ec1c1"
   },
   "source": [
    "**Curse of Dimensionality & Dimensionality Reduction**\n",
    "\n",
    "The term \"Curse of Dimensionality\" has been oft been thrown about, especially when PCA, LDA and TSNE is thrown into the mix. This phrase refers to how our perfectly good and reliable Machine Learning methods may suddenly perform badly when we are dealing in a very high-dimensional space. But what exactly do all these 3 acronyms do? They are essentially transformation methods used for dimensionality reduction. Therefore, if we are able to project our data from a higher-dimensional space to a lower one while keeping most of the relevant information, that would make life a lot easier for our learning methods."
   ]
  },
  {
   "cell_type": "markdown",
   "metadata": {
    "_cell_guid": "8da70ed8-177c-a295-6069-7352a3ff22d6",
    "_uuid": "0c95e9c20988e56008516e7a38c9ed4da033314b"
   },
   "source": [
    "# MNIST Dataset\n",
    "\n",
    "For the purposes of this interactive guide, the MNIST (Mixed National Institute of Standards and Technology) computer vision digit dataset was chosen partly due to its simplicity and also surprisingly deep and informative research that can be done with the dataset. So let's load the training data and see what we have"
   ]
  },
  {
   "cell_type": "code",
   "execution_count": 2,
   "metadata": {
    "_cell_guid": "2781f1bf-44b8-bb42-fa9e-c4f5233d4ed5",
    "_execution_state": "idle",
    "_uuid": "813379999b963b572b5b9631e36296dcdaee483a",
    "trusted": true
   },
   "outputs": [
    {
     "data": {
      "application/vnd.microsoft.datawrangler.viewer.v0+json": {
       "columns": [
        {
         "name": "index",
         "rawType": "int64",
         "type": "integer"
        },
        {
         "name": "label",
         "rawType": "int64",
         "type": "integer"
        },
        {
         "name": "pixel0",
         "rawType": "int64",
         "type": "integer"
        },
        {
         "name": "pixel1",
         "rawType": "int64",
         "type": "integer"
        },
        {
         "name": "pixel2",
         "rawType": "int64",
         "type": "integer"
        },
        {
         "name": "pixel3",
         "rawType": "int64",
         "type": "integer"
        },
        {
         "name": "pixel4",
         "rawType": "int64",
         "type": "integer"
        },
        {
         "name": "pixel5",
         "rawType": "int64",
         "type": "integer"
        },
        {
         "name": "pixel6",
         "rawType": "int64",
         "type": "integer"
        },
        {
         "name": "pixel7",
         "rawType": "int64",
         "type": "integer"
        },
        {
         "name": "pixel8",
         "rawType": "int64",
         "type": "integer"
        },
        {
         "name": "pixel9",
         "rawType": "int64",
         "type": "integer"
        },
        {
         "name": "pixel10",
         "rawType": "int64",
         "type": "integer"
        },
        {
         "name": "pixel11",
         "rawType": "int64",
         "type": "integer"
        },
        {
         "name": "pixel12",
         "rawType": "int64",
         "type": "integer"
        },
        {
         "name": "pixel13",
         "rawType": "int64",
         "type": "integer"
        },
        {
         "name": "pixel14",
         "rawType": "int64",
         "type": "integer"
        },
        {
         "name": "pixel15",
         "rawType": "int64",
         "type": "integer"
        },
        {
         "name": "pixel16",
         "rawType": "int64",
         "type": "integer"
        },
        {
         "name": "pixel17",
         "rawType": "int64",
         "type": "integer"
        },
        {
         "name": "pixel18",
         "rawType": "int64",
         "type": "integer"
        },
        {
         "name": "pixel19",
         "rawType": "int64",
         "type": "integer"
        },
        {
         "name": "pixel20",
         "rawType": "int64",
         "type": "integer"
        },
        {
         "name": "pixel21",
         "rawType": "int64",
         "type": "integer"
        },
        {
         "name": "pixel22",
         "rawType": "int64",
         "type": "integer"
        },
        {
         "name": "pixel23",
         "rawType": "int64",
         "type": "integer"
        },
        {
         "name": "pixel24",
         "rawType": "int64",
         "type": "integer"
        },
        {
         "name": "pixel25",
         "rawType": "int64",
         "type": "integer"
        },
        {
         "name": "pixel26",
         "rawType": "int64",
         "type": "integer"
        },
        {
         "name": "pixel27",
         "rawType": "int64",
         "type": "integer"
        },
        {
         "name": "pixel28",
         "rawType": "int64",
         "type": "integer"
        },
        {
         "name": "pixel29",
         "rawType": "int64",
         "type": "integer"
        },
        {
         "name": "pixel30",
         "rawType": "int64",
         "type": "integer"
        },
        {
         "name": "pixel31",
         "rawType": "int64",
         "type": "integer"
        },
        {
         "name": "pixel32",
         "rawType": "int64",
         "type": "integer"
        },
        {
         "name": "pixel33",
         "rawType": "int64",
         "type": "integer"
        },
        {
         "name": "pixel34",
         "rawType": "int64",
         "type": "integer"
        },
        {
         "name": "pixel35",
         "rawType": "int64",
         "type": "integer"
        },
        {
         "name": "pixel36",
         "rawType": "int64",
         "type": "integer"
        },
        {
         "name": "pixel37",
         "rawType": "int64",
         "type": "integer"
        },
        {
         "name": "pixel38",
         "rawType": "int64",
         "type": "integer"
        },
        {
         "name": "pixel39",
         "rawType": "int64",
         "type": "integer"
        },
        {
         "name": "pixel40",
         "rawType": "int64",
         "type": "integer"
        },
        {
         "name": "pixel41",
         "rawType": "int64",
         "type": "integer"
        },
        {
         "name": "pixel42",
         "rawType": "int64",
         "type": "integer"
        },
        {
         "name": "pixel43",
         "rawType": "int64",
         "type": "integer"
        },
        {
         "name": "pixel44",
         "rawType": "int64",
         "type": "integer"
        },
        {
         "name": "pixel45",
         "rawType": "int64",
         "type": "integer"
        },
        {
         "name": "pixel46",
         "rawType": "int64",
         "type": "integer"
        },
        {
         "name": "pixel47",
         "rawType": "int64",
         "type": "integer"
        },
        {
         "name": "pixel48",
         "rawType": "int64",
         "type": "integer"
        },
        {
         "name": "pixel49",
         "rawType": "int64",
         "type": "integer"
        },
        {
         "name": "pixel50",
         "rawType": "int64",
         "type": "integer"
        },
        {
         "name": "pixel51",
         "rawType": "int64",
         "type": "integer"
        },
        {
         "name": "pixel52",
         "rawType": "int64",
         "type": "integer"
        },
        {
         "name": "pixel53",
         "rawType": "int64",
         "type": "integer"
        },
        {
         "name": "pixel54",
         "rawType": "int64",
         "type": "integer"
        },
        {
         "name": "pixel55",
         "rawType": "int64",
         "type": "integer"
        },
        {
         "name": "pixel56",
         "rawType": "int64",
         "type": "integer"
        },
        {
         "name": "pixel57",
         "rawType": "int64",
         "type": "integer"
        },
        {
         "name": "pixel58",
         "rawType": "int64",
         "type": "integer"
        },
        {
         "name": "pixel59",
         "rawType": "int64",
         "type": "integer"
        },
        {
         "name": "pixel60",
         "rawType": "int64",
         "type": "integer"
        },
        {
         "name": "pixel61",
         "rawType": "int64",
         "type": "integer"
        },
        {
         "name": "pixel62",
         "rawType": "int64",
         "type": "integer"
        },
        {
         "name": "pixel63",
         "rawType": "int64",
         "type": "integer"
        },
        {
         "name": "pixel64",
         "rawType": "int64",
         "type": "integer"
        },
        {
         "name": "pixel65",
         "rawType": "int64",
         "type": "integer"
        },
        {
         "name": "pixel66",
         "rawType": "int64",
         "type": "integer"
        },
        {
         "name": "pixel67",
         "rawType": "int64",
         "type": "integer"
        },
        {
         "name": "pixel68",
         "rawType": "int64",
         "type": "integer"
        },
        {
         "name": "pixel69",
         "rawType": "int64",
         "type": "integer"
        },
        {
         "name": "pixel70",
         "rawType": "int64",
         "type": "integer"
        },
        {
         "name": "pixel71",
         "rawType": "int64",
         "type": "integer"
        },
        {
         "name": "pixel72",
         "rawType": "int64",
         "type": "integer"
        },
        {
         "name": "pixel73",
         "rawType": "int64",
         "type": "integer"
        },
        {
         "name": "pixel74",
         "rawType": "int64",
         "type": "integer"
        },
        {
         "name": "pixel75",
         "rawType": "int64",
         "type": "integer"
        },
        {
         "name": "pixel76",
         "rawType": "int64",
         "type": "integer"
        },
        {
         "name": "pixel77",
         "rawType": "int64",
         "type": "integer"
        },
        {
         "name": "pixel78",
         "rawType": "int64",
         "type": "integer"
        },
        {
         "name": "pixel79",
         "rawType": "int64",
         "type": "integer"
        },
        {
         "name": "pixel80",
         "rawType": "int64",
         "type": "integer"
        },
        {
         "name": "pixel81",
         "rawType": "int64",
         "type": "integer"
        },
        {
         "name": "pixel82",
         "rawType": "int64",
         "type": "integer"
        },
        {
         "name": "pixel83",
         "rawType": "int64",
         "type": "integer"
        },
        {
         "name": "pixel84",
         "rawType": "int64",
         "type": "integer"
        },
        {
         "name": "pixel85",
         "rawType": "int64",
         "type": "integer"
        },
        {
         "name": "pixel86",
         "rawType": "int64",
         "type": "integer"
        },
        {
         "name": "pixel87",
         "rawType": "int64",
         "type": "integer"
        },
        {
         "name": "pixel88",
         "rawType": "int64",
         "type": "integer"
        },
        {
         "name": "pixel89",
         "rawType": "int64",
         "type": "integer"
        },
        {
         "name": "pixel90",
         "rawType": "int64",
         "type": "integer"
        },
        {
         "name": "pixel91",
         "rawType": "int64",
         "type": "integer"
        },
        {
         "name": "pixel92",
         "rawType": "int64",
         "type": "integer"
        },
        {
         "name": "pixel93",
         "rawType": "int64",
         "type": "integer"
        },
        {
         "name": "pixel94",
         "rawType": "int64",
         "type": "integer"
        },
        {
         "name": "pixel95",
         "rawType": "int64",
         "type": "integer"
        },
        {
         "name": "pixel96",
         "rawType": "int64",
         "type": "integer"
        },
        {
         "name": "pixel97",
         "rawType": "int64",
         "type": "integer"
        },
        {
         "name": "pixel98",
         "rawType": "int64",
         "type": "integer"
        },
        {
         "name": "pixel99",
         "rawType": "int64",
         "type": "integer"
        },
        {
         "name": "pixel100",
         "rawType": "int64",
         "type": "integer"
        },
        {
         "name": "pixel101",
         "rawType": "int64",
         "type": "integer"
        },
        {
         "name": "pixel102",
         "rawType": "int64",
         "type": "integer"
        },
        {
         "name": "pixel103",
         "rawType": "int64",
         "type": "integer"
        },
        {
         "name": "pixel104",
         "rawType": "int64",
         "type": "integer"
        },
        {
         "name": "pixel105",
         "rawType": "int64",
         "type": "integer"
        },
        {
         "name": "pixel106",
         "rawType": "int64",
         "type": "integer"
        },
        {
         "name": "pixel107",
         "rawType": "int64",
         "type": "integer"
        },
        {
         "name": "pixel108",
         "rawType": "int64",
         "type": "integer"
        },
        {
         "name": "pixel109",
         "rawType": "int64",
         "type": "integer"
        },
        {
         "name": "pixel110",
         "rawType": "int64",
         "type": "integer"
        },
        {
         "name": "pixel111",
         "rawType": "int64",
         "type": "integer"
        },
        {
         "name": "pixel112",
         "rawType": "int64",
         "type": "integer"
        },
        {
         "name": "pixel113",
         "rawType": "int64",
         "type": "integer"
        },
        {
         "name": "pixel114",
         "rawType": "int64",
         "type": "integer"
        },
        {
         "name": "pixel115",
         "rawType": "int64",
         "type": "integer"
        },
        {
         "name": "pixel116",
         "rawType": "int64",
         "type": "integer"
        },
        {
         "name": "pixel117",
         "rawType": "int64",
         "type": "integer"
        },
        {
         "name": "pixel118",
         "rawType": "int64",
         "type": "integer"
        },
        {
         "name": "pixel119",
         "rawType": "int64",
         "type": "integer"
        },
        {
         "name": "pixel120",
         "rawType": "int64",
         "type": "integer"
        },
        {
         "name": "pixel121",
         "rawType": "int64",
         "type": "integer"
        },
        {
         "name": "pixel122",
         "rawType": "int64",
         "type": "integer"
        },
        {
         "name": "pixel123",
         "rawType": "int64",
         "type": "integer"
        },
        {
         "name": "pixel124",
         "rawType": "int64",
         "type": "integer"
        },
        {
         "name": "pixel125",
         "rawType": "int64",
         "type": "integer"
        },
        {
         "name": "pixel126",
         "rawType": "int64",
         "type": "integer"
        },
        {
         "name": "pixel127",
         "rawType": "int64",
         "type": "integer"
        },
        {
         "name": "pixel128",
         "rawType": "int64",
         "type": "integer"
        },
        {
         "name": "pixel129",
         "rawType": "int64",
         "type": "integer"
        },
        {
         "name": "pixel130",
         "rawType": "int64",
         "type": "integer"
        },
        {
         "name": "pixel131",
         "rawType": "int64",
         "type": "integer"
        },
        {
         "name": "pixel132",
         "rawType": "int64",
         "type": "integer"
        },
        {
         "name": "pixel133",
         "rawType": "int64",
         "type": "integer"
        },
        {
         "name": "pixel134",
         "rawType": "int64",
         "type": "integer"
        },
        {
         "name": "pixel135",
         "rawType": "int64",
         "type": "integer"
        },
        {
         "name": "pixel136",
         "rawType": "int64",
         "type": "integer"
        },
        {
         "name": "pixel137",
         "rawType": "int64",
         "type": "integer"
        },
        {
         "name": "pixel138",
         "rawType": "int64",
         "type": "integer"
        },
        {
         "name": "pixel139",
         "rawType": "int64",
         "type": "integer"
        },
        {
         "name": "pixel140",
         "rawType": "int64",
         "type": "integer"
        },
        {
         "name": "pixel141",
         "rawType": "int64",
         "type": "integer"
        },
        {
         "name": "pixel142",
         "rawType": "int64",
         "type": "integer"
        },
        {
         "name": "pixel143",
         "rawType": "int64",
         "type": "integer"
        },
        {
         "name": "pixel144",
         "rawType": "int64",
         "type": "integer"
        },
        {
         "name": "pixel145",
         "rawType": "int64",
         "type": "integer"
        },
        {
         "name": "pixel146",
         "rawType": "int64",
         "type": "integer"
        },
        {
         "name": "pixel147",
         "rawType": "int64",
         "type": "integer"
        },
        {
         "name": "pixel148",
         "rawType": "int64",
         "type": "integer"
        },
        {
         "name": "pixel149",
         "rawType": "int64",
         "type": "integer"
        },
        {
         "name": "pixel150",
         "rawType": "int64",
         "type": "integer"
        },
        {
         "name": "pixel151",
         "rawType": "int64",
         "type": "integer"
        },
        {
         "name": "pixel152",
         "rawType": "int64",
         "type": "integer"
        },
        {
         "name": "pixel153",
         "rawType": "int64",
         "type": "integer"
        },
        {
         "name": "pixel154",
         "rawType": "int64",
         "type": "integer"
        },
        {
         "name": "pixel155",
         "rawType": "int64",
         "type": "integer"
        },
        {
         "name": "pixel156",
         "rawType": "int64",
         "type": "integer"
        },
        {
         "name": "pixel157",
         "rawType": "int64",
         "type": "integer"
        },
        {
         "name": "pixel158",
         "rawType": "int64",
         "type": "integer"
        },
        {
         "name": "pixel159",
         "rawType": "int64",
         "type": "integer"
        },
        {
         "name": "pixel160",
         "rawType": "int64",
         "type": "integer"
        },
        {
         "name": "pixel161",
         "rawType": "int64",
         "type": "integer"
        },
        {
         "name": "pixel162",
         "rawType": "int64",
         "type": "integer"
        },
        {
         "name": "pixel163",
         "rawType": "int64",
         "type": "integer"
        },
        {
         "name": "pixel164",
         "rawType": "int64",
         "type": "integer"
        },
        {
         "name": "pixel165",
         "rawType": "int64",
         "type": "integer"
        },
        {
         "name": "pixel166",
         "rawType": "int64",
         "type": "integer"
        },
        {
         "name": "pixel167",
         "rawType": "int64",
         "type": "integer"
        },
        {
         "name": "pixel168",
         "rawType": "int64",
         "type": "integer"
        },
        {
         "name": "pixel169",
         "rawType": "int64",
         "type": "integer"
        },
        {
         "name": "pixel170",
         "rawType": "int64",
         "type": "integer"
        },
        {
         "name": "pixel171",
         "rawType": "int64",
         "type": "integer"
        },
        {
         "name": "pixel172",
         "rawType": "int64",
         "type": "integer"
        },
        {
         "name": "pixel173",
         "rawType": "int64",
         "type": "integer"
        },
        {
         "name": "pixel174",
         "rawType": "int64",
         "type": "integer"
        },
        {
         "name": "pixel175",
         "rawType": "int64",
         "type": "integer"
        },
        {
         "name": "pixel176",
         "rawType": "int64",
         "type": "integer"
        },
        {
         "name": "pixel177",
         "rawType": "int64",
         "type": "integer"
        },
        {
         "name": "pixel178",
         "rawType": "int64",
         "type": "integer"
        },
        {
         "name": "pixel179",
         "rawType": "int64",
         "type": "integer"
        },
        {
         "name": "pixel180",
         "rawType": "int64",
         "type": "integer"
        },
        {
         "name": "pixel181",
         "rawType": "int64",
         "type": "integer"
        },
        {
         "name": "pixel182",
         "rawType": "int64",
         "type": "integer"
        },
        {
         "name": "pixel183",
         "rawType": "int64",
         "type": "integer"
        },
        {
         "name": "pixel184",
         "rawType": "int64",
         "type": "integer"
        },
        {
         "name": "pixel185",
         "rawType": "int64",
         "type": "integer"
        },
        {
         "name": "pixel186",
         "rawType": "int64",
         "type": "integer"
        },
        {
         "name": "pixel187",
         "rawType": "int64",
         "type": "integer"
        },
        {
         "name": "pixel188",
         "rawType": "int64",
         "type": "integer"
        },
        {
         "name": "pixel189",
         "rawType": "int64",
         "type": "integer"
        },
        {
         "name": "pixel190",
         "rawType": "int64",
         "type": "integer"
        },
        {
         "name": "pixel191",
         "rawType": "int64",
         "type": "integer"
        },
        {
         "name": "pixel192",
         "rawType": "int64",
         "type": "integer"
        },
        {
         "name": "pixel193",
         "rawType": "int64",
         "type": "integer"
        },
        {
         "name": "pixel194",
         "rawType": "int64",
         "type": "integer"
        },
        {
         "name": "pixel195",
         "rawType": "int64",
         "type": "integer"
        },
        {
         "name": "pixel196",
         "rawType": "int64",
         "type": "integer"
        },
        {
         "name": "pixel197",
         "rawType": "int64",
         "type": "integer"
        },
        {
         "name": "pixel198",
         "rawType": "int64",
         "type": "integer"
        },
        {
         "name": "pixel199",
         "rawType": "int64",
         "type": "integer"
        },
        {
         "name": "pixel200",
         "rawType": "int64",
         "type": "integer"
        },
        {
         "name": "pixel201",
         "rawType": "int64",
         "type": "integer"
        },
        {
         "name": "pixel202",
         "rawType": "int64",
         "type": "integer"
        },
        {
         "name": "pixel203",
         "rawType": "int64",
         "type": "integer"
        },
        {
         "name": "pixel204",
         "rawType": "int64",
         "type": "integer"
        },
        {
         "name": "pixel205",
         "rawType": "int64",
         "type": "integer"
        },
        {
         "name": "pixel206",
         "rawType": "int64",
         "type": "integer"
        },
        {
         "name": "pixel207",
         "rawType": "int64",
         "type": "integer"
        },
        {
         "name": "pixel208",
         "rawType": "int64",
         "type": "integer"
        },
        {
         "name": "pixel209",
         "rawType": "int64",
         "type": "integer"
        },
        {
         "name": "pixel210",
         "rawType": "int64",
         "type": "integer"
        },
        {
         "name": "pixel211",
         "rawType": "int64",
         "type": "integer"
        },
        {
         "name": "pixel212",
         "rawType": "int64",
         "type": "integer"
        },
        {
         "name": "pixel213",
         "rawType": "int64",
         "type": "integer"
        },
        {
         "name": "pixel214",
         "rawType": "int64",
         "type": "integer"
        },
        {
         "name": "pixel215",
         "rawType": "int64",
         "type": "integer"
        },
        {
         "name": "pixel216",
         "rawType": "int64",
         "type": "integer"
        },
        {
         "name": "pixel217",
         "rawType": "int64",
         "type": "integer"
        },
        {
         "name": "pixel218",
         "rawType": "int64",
         "type": "integer"
        },
        {
         "name": "pixel219",
         "rawType": "int64",
         "type": "integer"
        },
        {
         "name": "pixel220",
         "rawType": "int64",
         "type": "integer"
        },
        {
         "name": "pixel221",
         "rawType": "int64",
         "type": "integer"
        },
        {
         "name": "pixel222",
         "rawType": "int64",
         "type": "integer"
        },
        {
         "name": "pixel223",
         "rawType": "int64",
         "type": "integer"
        },
        {
         "name": "pixel224",
         "rawType": "int64",
         "type": "integer"
        },
        {
         "name": "pixel225",
         "rawType": "int64",
         "type": "integer"
        },
        {
         "name": "pixel226",
         "rawType": "int64",
         "type": "integer"
        },
        {
         "name": "pixel227",
         "rawType": "int64",
         "type": "integer"
        },
        {
         "name": "pixel228",
         "rawType": "int64",
         "type": "integer"
        },
        {
         "name": "pixel229",
         "rawType": "int64",
         "type": "integer"
        },
        {
         "name": "pixel230",
         "rawType": "int64",
         "type": "integer"
        },
        {
         "name": "pixel231",
         "rawType": "int64",
         "type": "integer"
        },
        {
         "name": "pixel232",
         "rawType": "int64",
         "type": "integer"
        },
        {
         "name": "pixel233",
         "rawType": "int64",
         "type": "integer"
        },
        {
         "name": "pixel234",
         "rawType": "int64",
         "type": "integer"
        },
        {
         "name": "pixel235",
         "rawType": "int64",
         "type": "integer"
        },
        {
         "name": "pixel236",
         "rawType": "int64",
         "type": "integer"
        },
        {
         "name": "pixel237",
         "rawType": "int64",
         "type": "integer"
        },
        {
         "name": "pixel238",
         "rawType": "int64",
         "type": "integer"
        },
        {
         "name": "pixel239",
         "rawType": "int64",
         "type": "integer"
        },
        {
         "name": "pixel240",
         "rawType": "int64",
         "type": "integer"
        },
        {
         "name": "pixel241",
         "rawType": "int64",
         "type": "integer"
        },
        {
         "name": "pixel242",
         "rawType": "int64",
         "type": "integer"
        },
        {
         "name": "pixel243",
         "rawType": "int64",
         "type": "integer"
        },
        {
         "name": "pixel244",
         "rawType": "int64",
         "type": "integer"
        },
        {
         "name": "pixel245",
         "rawType": "int64",
         "type": "integer"
        },
        {
         "name": "pixel246",
         "rawType": "int64",
         "type": "integer"
        },
        {
         "name": "pixel247",
         "rawType": "int64",
         "type": "integer"
        },
        {
         "name": "pixel248",
         "rawType": "int64",
         "type": "integer"
        },
        {
         "name": "pixel249",
         "rawType": "int64",
         "type": "integer"
        },
        {
         "name": "pixel250",
         "rawType": "int64",
         "type": "integer"
        },
        {
         "name": "pixel251",
         "rawType": "int64",
         "type": "integer"
        },
        {
         "name": "pixel252",
         "rawType": "int64",
         "type": "integer"
        },
        {
         "name": "pixel253",
         "rawType": "int64",
         "type": "integer"
        },
        {
         "name": "pixel254",
         "rawType": "int64",
         "type": "integer"
        },
        {
         "name": "pixel255",
         "rawType": "int64",
         "type": "integer"
        },
        {
         "name": "pixel256",
         "rawType": "int64",
         "type": "integer"
        },
        {
         "name": "pixel257",
         "rawType": "int64",
         "type": "integer"
        },
        {
         "name": "pixel258",
         "rawType": "int64",
         "type": "integer"
        },
        {
         "name": "pixel259",
         "rawType": "int64",
         "type": "integer"
        },
        {
         "name": "pixel260",
         "rawType": "int64",
         "type": "integer"
        },
        {
         "name": "pixel261",
         "rawType": "int64",
         "type": "integer"
        },
        {
         "name": "pixel262",
         "rawType": "int64",
         "type": "integer"
        },
        {
         "name": "pixel263",
         "rawType": "int64",
         "type": "integer"
        },
        {
         "name": "pixel264",
         "rawType": "int64",
         "type": "integer"
        },
        {
         "name": "pixel265",
         "rawType": "int64",
         "type": "integer"
        },
        {
         "name": "pixel266",
         "rawType": "int64",
         "type": "integer"
        },
        {
         "name": "pixel267",
         "rawType": "int64",
         "type": "integer"
        },
        {
         "name": "pixel268",
         "rawType": "int64",
         "type": "integer"
        },
        {
         "name": "pixel269",
         "rawType": "int64",
         "type": "integer"
        },
        {
         "name": "pixel270",
         "rawType": "int64",
         "type": "integer"
        },
        {
         "name": "pixel271",
         "rawType": "int64",
         "type": "integer"
        },
        {
         "name": "pixel272",
         "rawType": "int64",
         "type": "integer"
        },
        {
         "name": "pixel273",
         "rawType": "int64",
         "type": "integer"
        },
        {
         "name": "pixel274",
         "rawType": "int64",
         "type": "integer"
        },
        {
         "name": "pixel275",
         "rawType": "int64",
         "type": "integer"
        },
        {
         "name": "pixel276",
         "rawType": "int64",
         "type": "integer"
        },
        {
         "name": "pixel277",
         "rawType": "int64",
         "type": "integer"
        },
        {
         "name": "pixel278",
         "rawType": "int64",
         "type": "integer"
        },
        {
         "name": "pixel279",
         "rawType": "int64",
         "type": "integer"
        },
        {
         "name": "pixel280",
         "rawType": "int64",
         "type": "integer"
        },
        {
         "name": "pixel281",
         "rawType": "int64",
         "type": "integer"
        },
        {
         "name": "pixel282",
         "rawType": "int64",
         "type": "integer"
        },
        {
         "name": "pixel283",
         "rawType": "int64",
         "type": "integer"
        },
        {
         "name": "pixel284",
         "rawType": "int64",
         "type": "integer"
        },
        {
         "name": "pixel285",
         "rawType": "int64",
         "type": "integer"
        },
        {
         "name": "pixel286",
         "rawType": "int64",
         "type": "integer"
        },
        {
         "name": "pixel287",
         "rawType": "int64",
         "type": "integer"
        },
        {
         "name": "pixel288",
         "rawType": "int64",
         "type": "integer"
        },
        {
         "name": "pixel289",
         "rawType": "int64",
         "type": "integer"
        },
        {
         "name": "pixel290",
         "rawType": "int64",
         "type": "integer"
        },
        {
         "name": "pixel291",
         "rawType": "int64",
         "type": "integer"
        },
        {
         "name": "pixel292",
         "rawType": "int64",
         "type": "integer"
        },
        {
         "name": "pixel293",
         "rawType": "int64",
         "type": "integer"
        },
        {
         "name": "pixel294",
         "rawType": "int64",
         "type": "integer"
        },
        {
         "name": "pixel295",
         "rawType": "int64",
         "type": "integer"
        },
        {
         "name": "pixel296",
         "rawType": "int64",
         "type": "integer"
        },
        {
         "name": "pixel297",
         "rawType": "int64",
         "type": "integer"
        },
        {
         "name": "pixel298",
         "rawType": "int64",
         "type": "integer"
        },
        {
         "name": "pixel299",
         "rawType": "int64",
         "type": "integer"
        },
        {
         "name": "pixel300",
         "rawType": "int64",
         "type": "integer"
        },
        {
         "name": "pixel301",
         "rawType": "int64",
         "type": "integer"
        },
        {
         "name": "pixel302",
         "rawType": "int64",
         "type": "integer"
        },
        {
         "name": "pixel303",
         "rawType": "int64",
         "type": "integer"
        },
        {
         "name": "pixel304",
         "rawType": "int64",
         "type": "integer"
        },
        {
         "name": "pixel305",
         "rawType": "int64",
         "type": "integer"
        },
        {
         "name": "pixel306",
         "rawType": "int64",
         "type": "integer"
        },
        {
         "name": "pixel307",
         "rawType": "int64",
         "type": "integer"
        },
        {
         "name": "pixel308",
         "rawType": "int64",
         "type": "integer"
        },
        {
         "name": "pixel309",
         "rawType": "int64",
         "type": "integer"
        },
        {
         "name": "pixel310",
         "rawType": "int64",
         "type": "integer"
        },
        {
         "name": "pixel311",
         "rawType": "int64",
         "type": "integer"
        },
        {
         "name": "pixel312",
         "rawType": "int64",
         "type": "integer"
        },
        {
         "name": "pixel313",
         "rawType": "int64",
         "type": "integer"
        },
        {
         "name": "pixel314",
         "rawType": "int64",
         "type": "integer"
        },
        {
         "name": "pixel315",
         "rawType": "int64",
         "type": "integer"
        },
        {
         "name": "pixel316",
         "rawType": "int64",
         "type": "integer"
        },
        {
         "name": "pixel317",
         "rawType": "int64",
         "type": "integer"
        },
        {
         "name": "pixel318",
         "rawType": "int64",
         "type": "integer"
        },
        {
         "name": "pixel319",
         "rawType": "int64",
         "type": "integer"
        },
        {
         "name": "pixel320",
         "rawType": "int64",
         "type": "integer"
        },
        {
         "name": "pixel321",
         "rawType": "int64",
         "type": "integer"
        },
        {
         "name": "pixel322",
         "rawType": "int64",
         "type": "integer"
        },
        {
         "name": "pixel323",
         "rawType": "int64",
         "type": "integer"
        },
        {
         "name": "pixel324",
         "rawType": "int64",
         "type": "integer"
        },
        {
         "name": "pixel325",
         "rawType": "int64",
         "type": "integer"
        },
        {
         "name": "pixel326",
         "rawType": "int64",
         "type": "integer"
        },
        {
         "name": "pixel327",
         "rawType": "int64",
         "type": "integer"
        },
        {
         "name": "pixel328",
         "rawType": "int64",
         "type": "integer"
        },
        {
         "name": "pixel329",
         "rawType": "int64",
         "type": "integer"
        },
        {
         "name": "pixel330",
         "rawType": "int64",
         "type": "integer"
        },
        {
         "name": "pixel331",
         "rawType": "int64",
         "type": "integer"
        },
        {
         "name": "pixel332",
         "rawType": "int64",
         "type": "integer"
        },
        {
         "name": "pixel333",
         "rawType": "int64",
         "type": "integer"
        },
        {
         "name": "pixel334",
         "rawType": "int64",
         "type": "integer"
        },
        {
         "name": "pixel335",
         "rawType": "int64",
         "type": "integer"
        },
        {
         "name": "pixel336",
         "rawType": "int64",
         "type": "integer"
        },
        {
         "name": "pixel337",
         "rawType": "int64",
         "type": "integer"
        },
        {
         "name": "pixel338",
         "rawType": "int64",
         "type": "integer"
        },
        {
         "name": "pixel339",
         "rawType": "int64",
         "type": "integer"
        },
        {
         "name": "pixel340",
         "rawType": "int64",
         "type": "integer"
        },
        {
         "name": "pixel341",
         "rawType": "int64",
         "type": "integer"
        },
        {
         "name": "pixel342",
         "rawType": "int64",
         "type": "integer"
        },
        {
         "name": "pixel343",
         "rawType": "int64",
         "type": "integer"
        },
        {
         "name": "pixel344",
         "rawType": "int64",
         "type": "integer"
        },
        {
         "name": "pixel345",
         "rawType": "int64",
         "type": "integer"
        },
        {
         "name": "pixel346",
         "rawType": "int64",
         "type": "integer"
        },
        {
         "name": "pixel347",
         "rawType": "int64",
         "type": "integer"
        },
        {
         "name": "pixel348",
         "rawType": "int64",
         "type": "integer"
        },
        {
         "name": "pixel349",
         "rawType": "int64",
         "type": "integer"
        },
        {
         "name": "pixel350",
         "rawType": "int64",
         "type": "integer"
        },
        {
         "name": "pixel351",
         "rawType": "int64",
         "type": "integer"
        },
        {
         "name": "pixel352",
         "rawType": "int64",
         "type": "integer"
        },
        {
         "name": "pixel353",
         "rawType": "int64",
         "type": "integer"
        },
        {
         "name": "pixel354",
         "rawType": "int64",
         "type": "integer"
        },
        {
         "name": "pixel355",
         "rawType": "int64",
         "type": "integer"
        },
        {
         "name": "pixel356",
         "rawType": "int64",
         "type": "integer"
        },
        {
         "name": "pixel357",
         "rawType": "int64",
         "type": "integer"
        },
        {
         "name": "pixel358",
         "rawType": "int64",
         "type": "integer"
        },
        {
         "name": "pixel359",
         "rawType": "int64",
         "type": "integer"
        },
        {
         "name": "pixel360",
         "rawType": "int64",
         "type": "integer"
        },
        {
         "name": "pixel361",
         "rawType": "int64",
         "type": "integer"
        },
        {
         "name": "pixel362",
         "rawType": "int64",
         "type": "integer"
        },
        {
         "name": "pixel363",
         "rawType": "int64",
         "type": "integer"
        },
        {
         "name": "pixel364",
         "rawType": "int64",
         "type": "integer"
        },
        {
         "name": "pixel365",
         "rawType": "int64",
         "type": "integer"
        },
        {
         "name": "pixel366",
         "rawType": "int64",
         "type": "integer"
        },
        {
         "name": "pixel367",
         "rawType": "int64",
         "type": "integer"
        },
        {
         "name": "pixel368",
         "rawType": "int64",
         "type": "integer"
        },
        {
         "name": "pixel369",
         "rawType": "int64",
         "type": "integer"
        },
        {
         "name": "pixel370",
         "rawType": "int64",
         "type": "integer"
        },
        {
         "name": "pixel371",
         "rawType": "int64",
         "type": "integer"
        },
        {
         "name": "pixel372",
         "rawType": "int64",
         "type": "integer"
        },
        {
         "name": "pixel373",
         "rawType": "int64",
         "type": "integer"
        },
        {
         "name": "pixel374",
         "rawType": "int64",
         "type": "integer"
        },
        {
         "name": "pixel375",
         "rawType": "int64",
         "type": "integer"
        },
        {
         "name": "pixel376",
         "rawType": "int64",
         "type": "integer"
        },
        {
         "name": "pixel377",
         "rawType": "int64",
         "type": "integer"
        },
        {
         "name": "pixel378",
         "rawType": "int64",
         "type": "integer"
        },
        {
         "name": "pixel379",
         "rawType": "int64",
         "type": "integer"
        },
        {
         "name": "pixel380",
         "rawType": "int64",
         "type": "integer"
        },
        {
         "name": "pixel381",
         "rawType": "int64",
         "type": "integer"
        },
        {
         "name": "pixel382",
         "rawType": "int64",
         "type": "integer"
        },
        {
         "name": "pixel383",
         "rawType": "int64",
         "type": "integer"
        },
        {
         "name": "pixel384",
         "rawType": "int64",
         "type": "integer"
        },
        {
         "name": "pixel385",
         "rawType": "int64",
         "type": "integer"
        },
        {
         "name": "pixel386",
         "rawType": "int64",
         "type": "integer"
        },
        {
         "name": "pixel387",
         "rawType": "int64",
         "type": "integer"
        },
        {
         "name": "pixel388",
         "rawType": "int64",
         "type": "integer"
        },
        {
         "name": "pixel389",
         "rawType": "int64",
         "type": "integer"
        },
        {
         "name": "pixel390",
         "rawType": "int64",
         "type": "integer"
        },
        {
         "name": "pixel391",
         "rawType": "int64",
         "type": "integer"
        },
        {
         "name": "pixel392",
         "rawType": "int64",
         "type": "integer"
        },
        {
         "name": "pixel393",
         "rawType": "int64",
         "type": "integer"
        },
        {
         "name": "pixel394",
         "rawType": "int64",
         "type": "integer"
        },
        {
         "name": "pixel395",
         "rawType": "int64",
         "type": "integer"
        },
        {
         "name": "pixel396",
         "rawType": "int64",
         "type": "integer"
        },
        {
         "name": "pixel397",
         "rawType": "int64",
         "type": "integer"
        },
        {
         "name": "pixel398",
         "rawType": "int64",
         "type": "integer"
        },
        {
         "name": "pixel399",
         "rawType": "int64",
         "type": "integer"
        },
        {
         "name": "pixel400",
         "rawType": "int64",
         "type": "integer"
        },
        {
         "name": "pixel401",
         "rawType": "int64",
         "type": "integer"
        },
        {
         "name": "pixel402",
         "rawType": "int64",
         "type": "integer"
        },
        {
         "name": "pixel403",
         "rawType": "int64",
         "type": "integer"
        },
        {
         "name": "pixel404",
         "rawType": "int64",
         "type": "integer"
        },
        {
         "name": "pixel405",
         "rawType": "int64",
         "type": "integer"
        },
        {
         "name": "pixel406",
         "rawType": "int64",
         "type": "integer"
        },
        {
         "name": "pixel407",
         "rawType": "int64",
         "type": "integer"
        },
        {
         "name": "pixel408",
         "rawType": "int64",
         "type": "integer"
        },
        {
         "name": "pixel409",
         "rawType": "int64",
         "type": "integer"
        },
        {
         "name": "pixel410",
         "rawType": "int64",
         "type": "integer"
        },
        {
         "name": "pixel411",
         "rawType": "int64",
         "type": "integer"
        },
        {
         "name": "pixel412",
         "rawType": "int64",
         "type": "integer"
        },
        {
         "name": "pixel413",
         "rawType": "int64",
         "type": "integer"
        },
        {
         "name": "pixel414",
         "rawType": "int64",
         "type": "integer"
        },
        {
         "name": "pixel415",
         "rawType": "int64",
         "type": "integer"
        },
        {
         "name": "pixel416",
         "rawType": "int64",
         "type": "integer"
        },
        {
         "name": "pixel417",
         "rawType": "int64",
         "type": "integer"
        },
        {
         "name": "pixel418",
         "rawType": "int64",
         "type": "integer"
        },
        {
         "name": "pixel419",
         "rawType": "int64",
         "type": "integer"
        },
        {
         "name": "pixel420",
         "rawType": "int64",
         "type": "integer"
        },
        {
         "name": "pixel421",
         "rawType": "int64",
         "type": "integer"
        },
        {
         "name": "pixel422",
         "rawType": "int64",
         "type": "integer"
        },
        {
         "name": "pixel423",
         "rawType": "int64",
         "type": "integer"
        },
        {
         "name": "pixel424",
         "rawType": "int64",
         "type": "integer"
        },
        {
         "name": "pixel425",
         "rawType": "int64",
         "type": "integer"
        },
        {
         "name": "pixel426",
         "rawType": "int64",
         "type": "integer"
        },
        {
         "name": "pixel427",
         "rawType": "int64",
         "type": "integer"
        },
        {
         "name": "pixel428",
         "rawType": "int64",
         "type": "integer"
        },
        {
         "name": "pixel429",
         "rawType": "int64",
         "type": "integer"
        },
        {
         "name": "pixel430",
         "rawType": "int64",
         "type": "integer"
        },
        {
         "name": "pixel431",
         "rawType": "int64",
         "type": "integer"
        },
        {
         "name": "pixel432",
         "rawType": "int64",
         "type": "integer"
        },
        {
         "name": "pixel433",
         "rawType": "int64",
         "type": "integer"
        },
        {
         "name": "pixel434",
         "rawType": "int64",
         "type": "integer"
        },
        {
         "name": "pixel435",
         "rawType": "int64",
         "type": "integer"
        },
        {
         "name": "pixel436",
         "rawType": "int64",
         "type": "integer"
        },
        {
         "name": "pixel437",
         "rawType": "int64",
         "type": "integer"
        },
        {
         "name": "pixel438",
         "rawType": "int64",
         "type": "integer"
        },
        {
         "name": "pixel439",
         "rawType": "int64",
         "type": "integer"
        },
        {
         "name": "pixel440",
         "rawType": "int64",
         "type": "integer"
        },
        {
         "name": "pixel441",
         "rawType": "int64",
         "type": "integer"
        },
        {
         "name": "pixel442",
         "rawType": "int64",
         "type": "integer"
        },
        {
         "name": "pixel443",
         "rawType": "int64",
         "type": "integer"
        },
        {
         "name": "pixel444",
         "rawType": "int64",
         "type": "integer"
        },
        {
         "name": "pixel445",
         "rawType": "int64",
         "type": "integer"
        },
        {
         "name": "pixel446",
         "rawType": "int64",
         "type": "integer"
        },
        {
         "name": "pixel447",
         "rawType": "int64",
         "type": "integer"
        },
        {
         "name": "pixel448",
         "rawType": "int64",
         "type": "integer"
        },
        {
         "name": "pixel449",
         "rawType": "int64",
         "type": "integer"
        },
        {
         "name": "pixel450",
         "rawType": "int64",
         "type": "integer"
        },
        {
         "name": "pixel451",
         "rawType": "int64",
         "type": "integer"
        },
        {
         "name": "pixel452",
         "rawType": "int64",
         "type": "integer"
        },
        {
         "name": "pixel453",
         "rawType": "int64",
         "type": "integer"
        },
        {
         "name": "pixel454",
         "rawType": "int64",
         "type": "integer"
        },
        {
         "name": "pixel455",
         "rawType": "int64",
         "type": "integer"
        },
        {
         "name": "pixel456",
         "rawType": "int64",
         "type": "integer"
        },
        {
         "name": "pixel457",
         "rawType": "int64",
         "type": "integer"
        },
        {
         "name": "pixel458",
         "rawType": "int64",
         "type": "integer"
        },
        {
         "name": "pixel459",
         "rawType": "int64",
         "type": "integer"
        },
        {
         "name": "pixel460",
         "rawType": "int64",
         "type": "integer"
        },
        {
         "name": "pixel461",
         "rawType": "int64",
         "type": "integer"
        },
        {
         "name": "pixel462",
         "rawType": "int64",
         "type": "integer"
        },
        {
         "name": "pixel463",
         "rawType": "int64",
         "type": "integer"
        },
        {
         "name": "pixel464",
         "rawType": "int64",
         "type": "integer"
        },
        {
         "name": "pixel465",
         "rawType": "int64",
         "type": "integer"
        },
        {
         "name": "pixel466",
         "rawType": "int64",
         "type": "integer"
        },
        {
         "name": "pixel467",
         "rawType": "int64",
         "type": "integer"
        },
        {
         "name": "pixel468",
         "rawType": "int64",
         "type": "integer"
        },
        {
         "name": "pixel469",
         "rawType": "int64",
         "type": "integer"
        },
        {
         "name": "pixel470",
         "rawType": "int64",
         "type": "integer"
        },
        {
         "name": "pixel471",
         "rawType": "int64",
         "type": "integer"
        },
        {
         "name": "pixel472",
         "rawType": "int64",
         "type": "integer"
        },
        {
         "name": "pixel473",
         "rawType": "int64",
         "type": "integer"
        },
        {
         "name": "pixel474",
         "rawType": "int64",
         "type": "integer"
        },
        {
         "name": "pixel475",
         "rawType": "int64",
         "type": "integer"
        },
        {
         "name": "pixel476",
         "rawType": "int64",
         "type": "integer"
        },
        {
         "name": "pixel477",
         "rawType": "int64",
         "type": "integer"
        },
        {
         "name": "pixel478",
         "rawType": "int64",
         "type": "integer"
        },
        {
         "name": "pixel479",
         "rawType": "int64",
         "type": "integer"
        },
        {
         "name": "pixel480",
         "rawType": "int64",
         "type": "integer"
        },
        {
         "name": "pixel481",
         "rawType": "int64",
         "type": "integer"
        },
        {
         "name": "pixel482",
         "rawType": "int64",
         "type": "integer"
        },
        {
         "name": "pixel483",
         "rawType": "int64",
         "type": "integer"
        },
        {
         "name": "pixel484",
         "rawType": "int64",
         "type": "integer"
        },
        {
         "name": "pixel485",
         "rawType": "int64",
         "type": "integer"
        },
        {
         "name": "pixel486",
         "rawType": "int64",
         "type": "integer"
        },
        {
         "name": "pixel487",
         "rawType": "int64",
         "type": "integer"
        },
        {
         "name": "pixel488",
         "rawType": "int64",
         "type": "integer"
        },
        {
         "name": "pixel489",
         "rawType": "int64",
         "type": "integer"
        },
        {
         "name": "pixel490",
         "rawType": "int64",
         "type": "integer"
        },
        {
         "name": "pixel491",
         "rawType": "int64",
         "type": "integer"
        },
        {
         "name": "pixel492",
         "rawType": "int64",
         "type": "integer"
        },
        {
         "name": "pixel493",
         "rawType": "int64",
         "type": "integer"
        },
        {
         "name": "pixel494",
         "rawType": "int64",
         "type": "integer"
        },
        {
         "name": "pixel495",
         "rawType": "int64",
         "type": "integer"
        },
        {
         "name": "pixel496",
         "rawType": "int64",
         "type": "integer"
        },
        {
         "name": "pixel497",
         "rawType": "int64",
         "type": "integer"
        },
        {
         "name": "pixel498",
         "rawType": "int64",
         "type": "integer"
        },
        {
         "name": "pixel499",
         "rawType": "int64",
         "type": "integer"
        },
        {
         "name": "pixel500",
         "rawType": "int64",
         "type": "integer"
        },
        {
         "name": "pixel501",
         "rawType": "int64",
         "type": "integer"
        },
        {
         "name": "pixel502",
         "rawType": "int64",
         "type": "integer"
        },
        {
         "name": "pixel503",
         "rawType": "int64",
         "type": "integer"
        },
        {
         "name": "pixel504",
         "rawType": "int64",
         "type": "integer"
        },
        {
         "name": "pixel505",
         "rawType": "int64",
         "type": "integer"
        },
        {
         "name": "pixel506",
         "rawType": "int64",
         "type": "integer"
        },
        {
         "name": "pixel507",
         "rawType": "int64",
         "type": "integer"
        },
        {
         "name": "pixel508",
         "rawType": "int64",
         "type": "integer"
        },
        {
         "name": "pixel509",
         "rawType": "int64",
         "type": "integer"
        },
        {
         "name": "pixel510",
         "rawType": "int64",
         "type": "integer"
        },
        {
         "name": "pixel511",
         "rawType": "int64",
         "type": "integer"
        },
        {
         "name": "pixel512",
         "rawType": "int64",
         "type": "integer"
        },
        {
         "name": "pixel513",
         "rawType": "int64",
         "type": "integer"
        },
        {
         "name": "pixel514",
         "rawType": "int64",
         "type": "integer"
        },
        {
         "name": "pixel515",
         "rawType": "int64",
         "type": "integer"
        },
        {
         "name": "pixel516",
         "rawType": "int64",
         "type": "integer"
        },
        {
         "name": "pixel517",
         "rawType": "int64",
         "type": "integer"
        },
        {
         "name": "pixel518",
         "rawType": "int64",
         "type": "integer"
        },
        {
         "name": "pixel519",
         "rawType": "int64",
         "type": "integer"
        },
        {
         "name": "pixel520",
         "rawType": "int64",
         "type": "integer"
        },
        {
         "name": "pixel521",
         "rawType": "int64",
         "type": "integer"
        },
        {
         "name": "pixel522",
         "rawType": "int64",
         "type": "integer"
        },
        {
         "name": "pixel523",
         "rawType": "int64",
         "type": "integer"
        },
        {
         "name": "pixel524",
         "rawType": "int64",
         "type": "integer"
        },
        {
         "name": "pixel525",
         "rawType": "int64",
         "type": "integer"
        },
        {
         "name": "pixel526",
         "rawType": "int64",
         "type": "integer"
        },
        {
         "name": "pixel527",
         "rawType": "int64",
         "type": "integer"
        },
        {
         "name": "pixel528",
         "rawType": "int64",
         "type": "integer"
        },
        {
         "name": "pixel529",
         "rawType": "int64",
         "type": "integer"
        },
        {
         "name": "pixel530",
         "rawType": "int64",
         "type": "integer"
        },
        {
         "name": "pixel531",
         "rawType": "int64",
         "type": "integer"
        },
        {
         "name": "pixel532",
         "rawType": "int64",
         "type": "integer"
        },
        {
         "name": "pixel533",
         "rawType": "int64",
         "type": "integer"
        },
        {
         "name": "pixel534",
         "rawType": "int64",
         "type": "integer"
        },
        {
         "name": "pixel535",
         "rawType": "int64",
         "type": "integer"
        },
        {
         "name": "pixel536",
         "rawType": "int64",
         "type": "integer"
        },
        {
         "name": "pixel537",
         "rawType": "int64",
         "type": "integer"
        },
        {
         "name": "pixel538",
         "rawType": "int64",
         "type": "integer"
        },
        {
         "name": "pixel539",
         "rawType": "int64",
         "type": "integer"
        },
        {
         "name": "pixel540",
         "rawType": "int64",
         "type": "integer"
        },
        {
         "name": "pixel541",
         "rawType": "int64",
         "type": "integer"
        },
        {
         "name": "pixel542",
         "rawType": "int64",
         "type": "integer"
        },
        {
         "name": "pixel543",
         "rawType": "int64",
         "type": "integer"
        },
        {
         "name": "pixel544",
         "rawType": "int64",
         "type": "integer"
        },
        {
         "name": "pixel545",
         "rawType": "int64",
         "type": "integer"
        },
        {
         "name": "pixel546",
         "rawType": "int64",
         "type": "integer"
        },
        {
         "name": "pixel547",
         "rawType": "int64",
         "type": "integer"
        },
        {
         "name": "pixel548",
         "rawType": "int64",
         "type": "integer"
        },
        {
         "name": "pixel549",
         "rawType": "int64",
         "type": "integer"
        },
        {
         "name": "pixel550",
         "rawType": "int64",
         "type": "integer"
        },
        {
         "name": "pixel551",
         "rawType": "int64",
         "type": "integer"
        },
        {
         "name": "pixel552",
         "rawType": "int64",
         "type": "integer"
        },
        {
         "name": "pixel553",
         "rawType": "int64",
         "type": "integer"
        },
        {
         "name": "pixel554",
         "rawType": "int64",
         "type": "integer"
        },
        {
         "name": "pixel555",
         "rawType": "int64",
         "type": "integer"
        },
        {
         "name": "pixel556",
         "rawType": "int64",
         "type": "integer"
        },
        {
         "name": "pixel557",
         "rawType": "int64",
         "type": "integer"
        },
        {
         "name": "pixel558",
         "rawType": "int64",
         "type": "integer"
        },
        {
         "name": "pixel559",
         "rawType": "int64",
         "type": "integer"
        },
        {
         "name": "pixel560",
         "rawType": "int64",
         "type": "integer"
        },
        {
         "name": "pixel561",
         "rawType": "int64",
         "type": "integer"
        },
        {
         "name": "pixel562",
         "rawType": "int64",
         "type": "integer"
        },
        {
         "name": "pixel563",
         "rawType": "int64",
         "type": "integer"
        },
        {
         "name": "pixel564",
         "rawType": "int64",
         "type": "integer"
        },
        {
         "name": "pixel565",
         "rawType": "int64",
         "type": "integer"
        },
        {
         "name": "pixel566",
         "rawType": "int64",
         "type": "integer"
        },
        {
         "name": "pixel567",
         "rawType": "int64",
         "type": "integer"
        },
        {
         "name": "pixel568",
         "rawType": "int64",
         "type": "integer"
        },
        {
         "name": "pixel569",
         "rawType": "int64",
         "type": "integer"
        },
        {
         "name": "pixel570",
         "rawType": "int64",
         "type": "integer"
        },
        {
         "name": "pixel571",
         "rawType": "int64",
         "type": "integer"
        },
        {
         "name": "pixel572",
         "rawType": "int64",
         "type": "integer"
        },
        {
         "name": "pixel573",
         "rawType": "int64",
         "type": "integer"
        },
        {
         "name": "pixel574",
         "rawType": "int64",
         "type": "integer"
        },
        {
         "name": "pixel575",
         "rawType": "int64",
         "type": "integer"
        },
        {
         "name": "pixel576",
         "rawType": "int64",
         "type": "integer"
        },
        {
         "name": "pixel577",
         "rawType": "int64",
         "type": "integer"
        },
        {
         "name": "pixel578",
         "rawType": "int64",
         "type": "integer"
        },
        {
         "name": "pixel579",
         "rawType": "int64",
         "type": "integer"
        },
        {
         "name": "pixel580",
         "rawType": "int64",
         "type": "integer"
        },
        {
         "name": "pixel581",
         "rawType": "int64",
         "type": "integer"
        },
        {
         "name": "pixel582",
         "rawType": "int64",
         "type": "integer"
        },
        {
         "name": "pixel583",
         "rawType": "int64",
         "type": "integer"
        },
        {
         "name": "pixel584",
         "rawType": "int64",
         "type": "integer"
        },
        {
         "name": "pixel585",
         "rawType": "int64",
         "type": "integer"
        },
        {
         "name": "pixel586",
         "rawType": "int64",
         "type": "integer"
        },
        {
         "name": "pixel587",
         "rawType": "int64",
         "type": "integer"
        },
        {
         "name": "pixel588",
         "rawType": "int64",
         "type": "integer"
        },
        {
         "name": "pixel589",
         "rawType": "int64",
         "type": "integer"
        },
        {
         "name": "pixel590",
         "rawType": "int64",
         "type": "integer"
        },
        {
         "name": "pixel591",
         "rawType": "int64",
         "type": "integer"
        },
        {
         "name": "pixel592",
         "rawType": "int64",
         "type": "integer"
        },
        {
         "name": "pixel593",
         "rawType": "int64",
         "type": "integer"
        },
        {
         "name": "pixel594",
         "rawType": "int64",
         "type": "integer"
        },
        {
         "name": "pixel595",
         "rawType": "int64",
         "type": "integer"
        },
        {
         "name": "pixel596",
         "rawType": "int64",
         "type": "integer"
        },
        {
         "name": "pixel597",
         "rawType": "int64",
         "type": "integer"
        },
        {
         "name": "pixel598",
         "rawType": "int64",
         "type": "integer"
        },
        {
         "name": "pixel599",
         "rawType": "int64",
         "type": "integer"
        },
        {
         "name": "pixel600",
         "rawType": "int64",
         "type": "integer"
        },
        {
         "name": "pixel601",
         "rawType": "int64",
         "type": "integer"
        },
        {
         "name": "pixel602",
         "rawType": "int64",
         "type": "integer"
        },
        {
         "name": "pixel603",
         "rawType": "int64",
         "type": "integer"
        },
        {
         "name": "pixel604",
         "rawType": "int64",
         "type": "integer"
        },
        {
         "name": "pixel605",
         "rawType": "int64",
         "type": "integer"
        },
        {
         "name": "pixel606",
         "rawType": "int64",
         "type": "integer"
        },
        {
         "name": "pixel607",
         "rawType": "int64",
         "type": "integer"
        },
        {
         "name": "pixel608",
         "rawType": "int64",
         "type": "integer"
        },
        {
         "name": "pixel609",
         "rawType": "int64",
         "type": "integer"
        },
        {
         "name": "pixel610",
         "rawType": "int64",
         "type": "integer"
        },
        {
         "name": "pixel611",
         "rawType": "int64",
         "type": "integer"
        },
        {
         "name": "pixel612",
         "rawType": "int64",
         "type": "integer"
        },
        {
         "name": "pixel613",
         "rawType": "int64",
         "type": "integer"
        },
        {
         "name": "pixel614",
         "rawType": "int64",
         "type": "integer"
        },
        {
         "name": "pixel615",
         "rawType": "int64",
         "type": "integer"
        },
        {
         "name": "pixel616",
         "rawType": "int64",
         "type": "integer"
        },
        {
         "name": "pixel617",
         "rawType": "int64",
         "type": "integer"
        },
        {
         "name": "pixel618",
         "rawType": "int64",
         "type": "integer"
        },
        {
         "name": "pixel619",
         "rawType": "int64",
         "type": "integer"
        },
        {
         "name": "pixel620",
         "rawType": "int64",
         "type": "integer"
        },
        {
         "name": "pixel621",
         "rawType": "int64",
         "type": "integer"
        },
        {
         "name": "pixel622",
         "rawType": "int64",
         "type": "integer"
        },
        {
         "name": "pixel623",
         "rawType": "int64",
         "type": "integer"
        },
        {
         "name": "pixel624",
         "rawType": "int64",
         "type": "integer"
        },
        {
         "name": "pixel625",
         "rawType": "int64",
         "type": "integer"
        },
        {
         "name": "pixel626",
         "rawType": "int64",
         "type": "integer"
        },
        {
         "name": "pixel627",
         "rawType": "int64",
         "type": "integer"
        },
        {
         "name": "pixel628",
         "rawType": "int64",
         "type": "integer"
        },
        {
         "name": "pixel629",
         "rawType": "int64",
         "type": "integer"
        },
        {
         "name": "pixel630",
         "rawType": "int64",
         "type": "integer"
        },
        {
         "name": "pixel631",
         "rawType": "int64",
         "type": "integer"
        },
        {
         "name": "pixel632",
         "rawType": "int64",
         "type": "integer"
        },
        {
         "name": "pixel633",
         "rawType": "int64",
         "type": "integer"
        },
        {
         "name": "pixel634",
         "rawType": "int64",
         "type": "integer"
        },
        {
         "name": "pixel635",
         "rawType": "int64",
         "type": "integer"
        },
        {
         "name": "pixel636",
         "rawType": "int64",
         "type": "integer"
        },
        {
         "name": "pixel637",
         "rawType": "int64",
         "type": "integer"
        },
        {
         "name": "pixel638",
         "rawType": "int64",
         "type": "integer"
        },
        {
         "name": "pixel639",
         "rawType": "int64",
         "type": "integer"
        },
        {
         "name": "pixel640",
         "rawType": "int64",
         "type": "integer"
        },
        {
         "name": "pixel641",
         "rawType": "int64",
         "type": "integer"
        },
        {
         "name": "pixel642",
         "rawType": "int64",
         "type": "integer"
        },
        {
         "name": "pixel643",
         "rawType": "int64",
         "type": "integer"
        },
        {
         "name": "pixel644",
         "rawType": "int64",
         "type": "integer"
        },
        {
         "name": "pixel645",
         "rawType": "int64",
         "type": "integer"
        },
        {
         "name": "pixel646",
         "rawType": "int64",
         "type": "integer"
        },
        {
         "name": "pixel647",
         "rawType": "int64",
         "type": "integer"
        },
        {
         "name": "pixel648",
         "rawType": "int64",
         "type": "integer"
        },
        {
         "name": "pixel649",
         "rawType": "int64",
         "type": "integer"
        },
        {
         "name": "pixel650",
         "rawType": "int64",
         "type": "integer"
        },
        {
         "name": "pixel651",
         "rawType": "int64",
         "type": "integer"
        },
        {
         "name": "pixel652",
         "rawType": "int64",
         "type": "integer"
        },
        {
         "name": "pixel653",
         "rawType": "int64",
         "type": "integer"
        },
        {
         "name": "pixel654",
         "rawType": "int64",
         "type": "integer"
        },
        {
         "name": "pixel655",
         "rawType": "int64",
         "type": "integer"
        },
        {
         "name": "pixel656",
         "rawType": "int64",
         "type": "integer"
        },
        {
         "name": "pixel657",
         "rawType": "int64",
         "type": "integer"
        },
        {
         "name": "pixel658",
         "rawType": "int64",
         "type": "integer"
        },
        {
         "name": "pixel659",
         "rawType": "int64",
         "type": "integer"
        },
        {
         "name": "pixel660",
         "rawType": "int64",
         "type": "integer"
        },
        {
         "name": "pixel661",
         "rawType": "int64",
         "type": "integer"
        },
        {
         "name": "pixel662",
         "rawType": "int64",
         "type": "integer"
        },
        {
         "name": "pixel663",
         "rawType": "int64",
         "type": "integer"
        },
        {
         "name": "pixel664",
         "rawType": "int64",
         "type": "integer"
        },
        {
         "name": "pixel665",
         "rawType": "int64",
         "type": "integer"
        },
        {
         "name": "pixel666",
         "rawType": "int64",
         "type": "integer"
        },
        {
         "name": "pixel667",
         "rawType": "int64",
         "type": "integer"
        },
        {
         "name": "pixel668",
         "rawType": "int64",
         "type": "integer"
        },
        {
         "name": "pixel669",
         "rawType": "int64",
         "type": "integer"
        },
        {
         "name": "pixel670",
         "rawType": "int64",
         "type": "integer"
        },
        {
         "name": "pixel671",
         "rawType": "int64",
         "type": "integer"
        },
        {
         "name": "pixel672",
         "rawType": "int64",
         "type": "integer"
        },
        {
         "name": "pixel673",
         "rawType": "int64",
         "type": "integer"
        },
        {
         "name": "pixel674",
         "rawType": "int64",
         "type": "integer"
        },
        {
         "name": "pixel675",
         "rawType": "int64",
         "type": "integer"
        },
        {
         "name": "pixel676",
         "rawType": "int64",
         "type": "integer"
        },
        {
         "name": "pixel677",
         "rawType": "int64",
         "type": "integer"
        },
        {
         "name": "pixel678",
         "rawType": "int64",
         "type": "integer"
        },
        {
         "name": "pixel679",
         "rawType": "int64",
         "type": "integer"
        },
        {
         "name": "pixel680",
         "rawType": "int64",
         "type": "integer"
        },
        {
         "name": "pixel681",
         "rawType": "int64",
         "type": "integer"
        },
        {
         "name": "pixel682",
         "rawType": "int64",
         "type": "integer"
        },
        {
         "name": "pixel683",
         "rawType": "int64",
         "type": "integer"
        },
        {
         "name": "pixel684",
         "rawType": "int64",
         "type": "integer"
        },
        {
         "name": "pixel685",
         "rawType": "int64",
         "type": "integer"
        },
        {
         "name": "pixel686",
         "rawType": "int64",
         "type": "integer"
        },
        {
         "name": "pixel687",
         "rawType": "int64",
         "type": "integer"
        },
        {
         "name": "pixel688",
         "rawType": "int64",
         "type": "integer"
        },
        {
         "name": "pixel689",
         "rawType": "int64",
         "type": "integer"
        },
        {
         "name": "pixel690",
         "rawType": "int64",
         "type": "integer"
        },
        {
         "name": "pixel691",
         "rawType": "int64",
         "type": "integer"
        },
        {
         "name": "pixel692",
         "rawType": "int64",
         "type": "integer"
        },
        {
         "name": "pixel693",
         "rawType": "int64",
         "type": "integer"
        },
        {
         "name": "pixel694",
         "rawType": "int64",
         "type": "integer"
        },
        {
         "name": "pixel695",
         "rawType": "int64",
         "type": "integer"
        },
        {
         "name": "pixel696",
         "rawType": "int64",
         "type": "integer"
        },
        {
         "name": "pixel697",
         "rawType": "int64",
         "type": "integer"
        },
        {
         "name": "pixel698",
         "rawType": "int64",
         "type": "integer"
        },
        {
         "name": "pixel699",
         "rawType": "int64",
         "type": "integer"
        },
        {
         "name": "pixel700",
         "rawType": "int64",
         "type": "integer"
        },
        {
         "name": "pixel701",
         "rawType": "int64",
         "type": "integer"
        },
        {
         "name": "pixel702",
         "rawType": "int64",
         "type": "integer"
        },
        {
         "name": "pixel703",
         "rawType": "int64",
         "type": "integer"
        },
        {
         "name": "pixel704",
         "rawType": "int64",
         "type": "integer"
        },
        {
         "name": "pixel705",
         "rawType": "int64",
         "type": "integer"
        },
        {
         "name": "pixel706",
         "rawType": "int64",
         "type": "integer"
        },
        {
         "name": "pixel707",
         "rawType": "int64",
         "type": "integer"
        },
        {
         "name": "pixel708",
         "rawType": "int64",
         "type": "integer"
        },
        {
         "name": "pixel709",
         "rawType": "int64",
         "type": "integer"
        },
        {
         "name": "pixel710",
         "rawType": "int64",
         "type": "integer"
        },
        {
         "name": "pixel711",
         "rawType": "int64",
         "type": "integer"
        },
        {
         "name": "pixel712",
         "rawType": "int64",
         "type": "integer"
        },
        {
         "name": "pixel713",
         "rawType": "int64",
         "type": "integer"
        },
        {
         "name": "pixel714",
         "rawType": "int64",
         "type": "integer"
        },
        {
         "name": "pixel715",
         "rawType": "int64",
         "type": "integer"
        },
        {
         "name": "pixel716",
         "rawType": "int64",
         "type": "integer"
        },
        {
         "name": "pixel717",
         "rawType": "int64",
         "type": "integer"
        },
        {
         "name": "pixel718",
         "rawType": "int64",
         "type": "integer"
        },
        {
         "name": "pixel719",
         "rawType": "int64",
         "type": "integer"
        },
        {
         "name": "pixel720",
         "rawType": "int64",
         "type": "integer"
        },
        {
         "name": "pixel721",
         "rawType": "int64",
         "type": "integer"
        },
        {
         "name": "pixel722",
         "rawType": "int64",
         "type": "integer"
        },
        {
         "name": "pixel723",
         "rawType": "int64",
         "type": "integer"
        },
        {
         "name": "pixel724",
         "rawType": "int64",
         "type": "integer"
        },
        {
         "name": "pixel725",
         "rawType": "int64",
         "type": "integer"
        },
        {
         "name": "pixel726",
         "rawType": "int64",
         "type": "integer"
        },
        {
         "name": "pixel727",
         "rawType": "int64",
         "type": "integer"
        },
        {
         "name": "pixel728",
         "rawType": "int64",
         "type": "integer"
        },
        {
         "name": "pixel729",
         "rawType": "int64",
         "type": "integer"
        },
        {
         "name": "pixel730",
         "rawType": "int64",
         "type": "integer"
        },
        {
         "name": "pixel731",
         "rawType": "int64",
         "type": "integer"
        },
        {
         "name": "pixel732",
         "rawType": "int64",
         "type": "integer"
        },
        {
         "name": "pixel733",
         "rawType": "int64",
         "type": "integer"
        },
        {
         "name": "pixel734",
         "rawType": "int64",
         "type": "integer"
        },
        {
         "name": "pixel735",
         "rawType": "int64",
         "type": "integer"
        },
        {
         "name": "pixel736",
         "rawType": "int64",
         "type": "integer"
        },
        {
         "name": "pixel737",
         "rawType": "int64",
         "type": "integer"
        },
        {
         "name": "pixel738",
         "rawType": "int64",
         "type": "integer"
        },
        {
         "name": "pixel739",
         "rawType": "int64",
         "type": "integer"
        },
        {
         "name": "pixel740",
         "rawType": "int64",
         "type": "integer"
        },
        {
         "name": "pixel741",
         "rawType": "int64",
         "type": "integer"
        },
        {
         "name": "pixel742",
         "rawType": "int64",
         "type": "integer"
        },
        {
         "name": "pixel743",
         "rawType": "int64",
         "type": "integer"
        },
        {
         "name": "pixel744",
         "rawType": "int64",
         "type": "integer"
        },
        {
         "name": "pixel745",
         "rawType": "int64",
         "type": "integer"
        },
        {
         "name": "pixel746",
         "rawType": "int64",
         "type": "integer"
        },
        {
         "name": "pixel747",
         "rawType": "int64",
         "type": "integer"
        },
        {
         "name": "pixel748",
         "rawType": "int64",
         "type": "integer"
        },
        {
         "name": "pixel749",
         "rawType": "int64",
         "type": "integer"
        },
        {
         "name": "pixel750",
         "rawType": "int64",
         "type": "integer"
        },
        {
         "name": "pixel751",
         "rawType": "int64",
         "type": "integer"
        },
        {
         "name": "pixel752",
         "rawType": "int64",
         "type": "integer"
        },
        {
         "name": "pixel753",
         "rawType": "int64",
         "type": "integer"
        },
        {
         "name": "pixel754",
         "rawType": "int64",
         "type": "integer"
        },
        {
         "name": "pixel755",
         "rawType": "int64",
         "type": "integer"
        },
        {
         "name": "pixel756",
         "rawType": "int64",
         "type": "integer"
        },
        {
         "name": "pixel757",
         "rawType": "int64",
         "type": "integer"
        },
        {
         "name": "pixel758",
         "rawType": "int64",
         "type": "integer"
        },
        {
         "name": "pixel759",
         "rawType": "int64",
         "type": "integer"
        },
        {
         "name": "pixel760",
         "rawType": "int64",
         "type": "integer"
        },
        {
         "name": "pixel761",
         "rawType": "int64",
         "type": "integer"
        },
        {
         "name": "pixel762",
         "rawType": "int64",
         "type": "integer"
        },
        {
         "name": "pixel763",
         "rawType": "int64",
         "type": "integer"
        },
        {
         "name": "pixel764",
         "rawType": "int64",
         "type": "integer"
        },
        {
         "name": "pixel765",
         "rawType": "int64",
         "type": "integer"
        },
        {
         "name": "pixel766",
         "rawType": "int64",
         "type": "integer"
        },
        {
         "name": "pixel767",
         "rawType": "int64",
         "type": "integer"
        },
        {
         "name": "pixel768",
         "rawType": "int64",
         "type": "integer"
        },
        {
         "name": "pixel769",
         "rawType": "int64",
         "type": "integer"
        },
        {
         "name": "pixel770",
         "rawType": "int64",
         "type": "integer"
        },
        {
         "name": "pixel771",
         "rawType": "int64",
         "type": "integer"
        },
        {
         "name": "pixel772",
         "rawType": "int64",
         "type": "integer"
        },
        {
         "name": "pixel773",
         "rawType": "int64",
         "type": "integer"
        },
        {
         "name": "pixel774",
         "rawType": "int64",
         "type": "integer"
        },
        {
         "name": "pixel775",
         "rawType": "int64",
         "type": "integer"
        },
        {
         "name": "pixel776",
         "rawType": "int64",
         "type": "integer"
        },
        {
         "name": "pixel777",
         "rawType": "int64",
         "type": "integer"
        },
        {
         "name": "pixel778",
         "rawType": "int64",
         "type": "integer"
        },
        {
         "name": "pixel779",
         "rawType": "int64",
         "type": "integer"
        },
        {
         "name": "pixel780",
         "rawType": "int64",
         "type": "integer"
        },
        {
         "name": "pixel781",
         "rawType": "int64",
         "type": "integer"
        },
        {
         "name": "pixel782",
         "rawType": "int64",
         "type": "integer"
        },
        {
         "name": "pixel783",
         "rawType": "int64",
         "type": "integer"
        }
       ],
       "ref": "38aef23a-744a-4470-bae9-9769b20ea205",
       "rows": [
        [
         "0",
         "1",
         "0",
         "0",
         "0",
         "0",
         "0",
         "0",
         "0",
         "0",
         "0",
         "0",
         "0",
         "0",
         "0",
         "0",
         "0",
         "0",
         "0",
         "0",
         "0",
         "0",
         "0",
         "0",
         "0",
         "0",
         "0",
         "0",
         "0",
         "0",
         "0",
         "0",
         "0",
         "0",
         "0",
         "0",
         "0",
         "0",
         "0",
         "0",
         "0",
         "0",
         "0",
         "0",
         "0",
         "0",
         "0",
         "0",
         "0",
         "0",
         "0",
         "0",
         "0",
         "0",
         "0",
         "0",
         "0",
         "0",
         "0",
         "0",
         "0",
         "0",
         "0",
         "0",
         "0",
         "0",
         "0",
         "0",
         "0",
         "0",
         "0",
         "0",
         "0",
         "0",
         "0",
         "0",
         "0",
         "0",
         "0",
         "0",
         "0",
         "0",
         "0",
         "0",
         "0",
         "0",
         "0",
         "0",
         "0",
         "0",
         "0",
         "0",
         "0",
         "0",
         "0",
         "0",
         "0",
         "0",
         "0",
         "0",
         "0",
         "0",
         "0",
         "0",
         "0",
         "0",
         "0",
         "0",
         "0",
         "0",
         "0",
         "0",
         "0",
         "0",
         "0",
         "0",
         "0",
         "0",
         "0",
         "0",
         "0",
         "0",
         "0",
         "0",
         "0",
         "0",
         "0",
         "0",
         "0",
         "0",
         "0",
         "0",
         "0",
         "0",
         "188",
         "255",
         "94",
         "0",
         "0",
         "0",
         "0",
         "0",
         "0",
         "0",
         "0",
         "0",
         "0",
         "0",
         "0",
         "0",
         "0",
         "0",
         "0",
         "0",
         "0",
         "0",
         "0",
         "0",
         "0",
         "0",
         "0",
         "191",
         "250",
         "253",
         "93",
         "0",
         "0",
         "0",
         "0",
         "0",
         "0",
         "0",
         "0",
         "0",
         "0",
         "0",
         "0",
         "0",
         "0",
         "0",
         "0",
         "0",
         "0",
         "0",
         "0",
         "0",
         "0",
         "0",
         "123",
         "248",
         "253",
         "167",
         "10",
         "0",
         "0",
         "0",
         "0",
         "0",
         "0",
         "0",
         "0",
         "0",
         "0",
         "0",
         "0",
         "0",
         "0",
         "0",
         "0",
         "0",
         "0",
         "0",
         "0",
         "0",
         "0",
         "80",
         "247",
         "253",
         "208",
         "13",
         "0",
         "0",
         "0",
         "0",
         "0",
         "0",
         "0",
         "0",
         "0",
         "0",
         "0",
         "0",
         "0",
         "0",
         "0",
         "0",
         "0",
         "0",
         "0",
         "0",
         "0",
         "0",
         "29",
         "207",
         "253",
         "235",
         "77",
         "0",
         "0",
         "0",
         "0",
         "0",
         "0",
         "0",
         "0",
         "0",
         "0",
         "0",
         "0",
         "0",
         "0",
         "0",
         "0",
         "0",
         "0",
         "0",
         "0",
         "0",
         "0",
         "54",
         "209",
         "253",
         "253",
         "88",
         "0",
         "0",
         "0",
         "0",
         "0",
         "0",
         "0",
         "0",
         "0",
         "0",
         "0",
         "0",
         "0",
         "0",
         "0",
         "0",
         "0",
         "0",
         "0",
         "0",
         "0",
         "0",
         "93",
         "254",
         "253",
         "238",
         "170",
         "17",
         "0",
         "0",
         "0",
         "0",
         "0",
         "0",
         "0",
         "0",
         "0",
         "0",
         "0",
         "0",
         "0",
         "0",
         "0",
         "0",
         "0",
         "0",
         "0",
         "0",
         "0",
         "23",
         "210",
         "254",
         "253",
         "159",
         "0",
         "0",
         "0",
         "0",
         "0",
         "0",
         "0",
         "0",
         "0",
         "0",
         "0",
         "0",
         "0",
         "0",
         "0",
         "0",
         "0",
         "0",
         "0",
         "0",
         "0",
         "0",
         "16",
         "209",
         "253",
         "254",
         "240",
         "81",
         "0",
         "0",
         "0",
         "0",
         "0",
         "0",
         "0",
         "0",
         "0",
         "0",
         "0",
         "0",
         "0",
         "0",
         "0",
         "0",
         "0",
         "0",
         "0",
         "0",
         "0",
         "0",
         "27",
         "253",
         "253",
         "254",
         "13",
         "0",
         "0",
         "0",
         "0",
         "0",
         "0",
         "0",
         "0",
         "0",
         "0",
         "0",
         "0",
         "0",
         "0",
         "0",
         "0",
         "0",
         "0",
         "0",
         "0",
         "0",
         "0",
         "20",
         "206",
         "254",
         "254",
         "198",
         "7",
         "0",
         "0",
         "0",
         "0",
         "0",
         "0",
         "0",
         "0",
         "0",
         "0",
         "0",
         "0",
         "0",
         "0",
         "0",
         "0",
         "0",
         "0",
         "0",
         "0",
         "0",
         "0",
         "168",
         "253",
         "253",
         "196",
         "7",
         "0",
         "0",
         "0",
         "0",
         "0",
         "0",
         "0",
         "0",
         "0",
         "0",
         "0",
         "0",
         "0",
         "0",
         "0",
         "0",
         "0",
         "0",
         "0",
         "0",
         "0",
         "0",
         "20",
         "203",
         "253",
         "248",
         "76",
         "0",
         "0",
         "0",
         "0",
         "0",
         "0",
         "0",
         "0",
         "0",
         "0",
         "0",
         "0",
         "0",
         "0",
         "0",
         "0",
         "0",
         "0",
         "0",
         "0",
         "0",
         "0",
         "22",
         "188",
         "253",
         "245",
         "93",
         "0",
         "0",
         "0",
         "0",
         "0",
         "0",
         "0",
         "0",
         "0",
         "0",
         "0",
         "0",
         "0",
         "0",
         "0",
         "0",
         "0",
         "0",
         "0",
         "0",
         "0",
         "0",
         "0",
         "103",
         "253",
         "253",
         "191",
         "0",
         "0",
         "0",
         "0",
         "0",
         "0",
         "0",
         "0",
         "0",
         "0",
         "0",
         "0",
         "0",
         "0",
         "0",
         "0",
         "0",
         "0",
         "0",
         "0",
         "0",
         "0",
         "0",
         "89",
         "240",
         "253",
         "195",
         "25",
         "0",
         "0",
         "0",
         "0",
         "0",
         "0",
         "0",
         "0",
         "0",
         "0",
         "0",
         "0",
         "0",
         "0",
         "0",
         "0",
         "0",
         "0",
         "0",
         "0",
         "0",
         "0",
         "15",
         "220",
         "253",
         "253",
         "80",
         "0",
         "0",
         "0",
         "0",
         "0",
         "0",
         "0",
         "0",
         "0",
         "0",
         "0",
         "0",
         "0",
         "0",
         "0",
         "0",
         "0",
         "0",
         "0",
         "0",
         "0",
         "0",
         "0",
         "94",
         "253",
         "253",
         "253",
         "94",
         "0",
         "0",
         "0",
         "0",
         "0",
         "0",
         "0",
         "0",
         "0",
         "0",
         "0",
         "0",
         "0",
         "0",
         "0",
         "0",
         "0",
         "0",
         "0",
         "0",
         "0",
         "0",
         "0",
         "89",
         "251",
         "253",
         "250",
         "131",
         "0",
         "0",
         "0",
         "0",
         "0",
         "0",
         "0",
         "0",
         "0",
         "0",
         "0",
         "0",
         "0",
         "0",
         "0",
         "0",
         "0",
         "0",
         "0",
         "0",
         "0",
         "0",
         "0",
         "0",
         "214",
         "218",
         "95",
         "0",
         "0",
         "0",
         "0",
         "0",
         "0",
         "0",
         "0",
         "0",
         "0",
         "0",
         "0",
         "0",
         "0",
         "0",
         "0",
         "0",
         "0",
         "0",
         "0",
         "0",
         "0",
         "0",
         "0",
         "0",
         "0",
         "0",
         "0",
         "0",
         "0",
         "0",
         "0",
         "0",
         "0",
         "0",
         "0",
         "0",
         "0",
         "0",
         "0",
         "0",
         "0",
         "0",
         "0",
         "0",
         "0",
         "0",
         "0",
         "0",
         "0",
         "0",
         "0",
         "0",
         "0",
         "0",
         "0",
         "0",
         "0",
         "0",
         "0",
         "0",
         "0",
         "0",
         "0",
         "0",
         "0",
         "0",
         "0",
         "0",
         "0",
         "0",
         "0",
         "0",
         "0",
         "0",
         "0",
         "0",
         "0",
         "0",
         "0",
         "0",
         "0",
         "0",
         "0",
         "0",
         "0",
         "0",
         "0",
         "0",
         "0",
         "0",
         "0",
         "0",
         "0",
         "0",
         "0",
         "0",
         "0",
         "0",
         "0",
         "0",
         "0",
         "0",
         "0",
         "0",
         "0",
         "0",
         "0",
         "0",
         "0",
         "0",
         "0",
         "0",
         "0",
         "0",
         "0",
         "0",
         "0",
         "0",
         "0",
         "0",
         "0",
         "0",
         "0",
         "0",
         "0",
         "0",
         "0",
         "0"
        ],
        [
         "1",
         "0",
         "0",
         "0",
         "0",
         "0",
         "0",
         "0",
         "0",
         "0",
         "0",
         "0",
         "0",
         "0",
         "0",
         "0",
         "0",
         "0",
         "0",
         "0",
         "0",
         "0",
         "0",
         "0",
         "0",
         "0",
         "0",
         "0",
         "0",
         "0",
         "0",
         "0",
         "0",
         "0",
         "0",
         "0",
         "0",
         "0",
         "0",
         "0",
         "0",
         "0",
         "0",
         "0",
         "0",
         "0",
         "0",
         "0",
         "0",
         "0",
         "0",
         "0",
         "0",
         "0",
         "0",
         "0",
         "0",
         "0",
         "0",
         "0",
         "0",
         "0",
         "0",
         "0",
         "0",
         "0",
         "0",
         "0",
         "0",
         "0",
         "0",
         "0",
         "0",
         "0",
         "0",
         "0",
         "0",
         "0",
         "0",
         "0",
         "0",
         "0",
         "0",
         "0",
         "0",
         "0",
         "0",
         "0",
         "0",
         "0",
         "0",
         "0",
         "0",
         "0",
         "0",
         "0",
         "0",
         "0",
         "0",
         "0",
         "0",
         "0",
         "0",
         "0",
         "0",
         "0",
         "0",
         "0",
         "0",
         "0",
         "0",
         "0",
         "0",
         "0",
         "0",
         "0",
         "0",
         "0",
         "0",
         "0",
         "0",
         "0",
         "0",
         "0",
         "18",
         "30",
         "137",
         "137",
         "192",
         "86",
         "72",
         "1",
         "0",
         "0",
         "0",
         "0",
         "0",
         "0",
         "0",
         "0",
         "0",
         "0",
         "0",
         "0",
         "0",
         "0",
         "0",
         "0",
         "0",
         "0",
         "13",
         "86",
         "250",
         "254",
         "254",
         "254",
         "254",
         "217",
         "246",
         "151",
         "32",
         "0",
         "0",
         "0",
         "0",
         "0",
         "0",
         "0",
         "0",
         "0",
         "0",
         "0",
         "0",
         "0",
         "0",
         "0",
         "0",
         "16",
         "179",
         "254",
         "254",
         "254",
         "254",
         "254",
         "254",
         "254",
         "254",
         "254",
         "231",
         "54",
         "15",
         "0",
         "0",
         "0",
         "0",
         "0",
         "0",
         "0",
         "0",
         "0",
         "0",
         "0",
         "0",
         "0",
         "0",
         "72",
         "254",
         "254",
         "254",
         "254",
         "254",
         "254",
         "254",
         "254",
         "254",
         "254",
         "254",
         "254",
         "104",
         "0",
         "0",
         "0",
         "0",
         "0",
         "0",
         "0",
         "0",
         "0",
         "0",
         "0",
         "0",
         "0",
         "61",
         "191",
         "254",
         "254",
         "254",
         "254",
         "254",
         "109",
         "83",
         "199",
         "254",
         "254",
         "254",
         "254",
         "243",
         "85",
         "0",
         "0",
         "0",
         "0",
         "0",
         "0",
         "0",
         "0",
         "0",
         "0",
         "0",
         "0",
         "172",
         "254",
         "254",
         "254",
         "202",
         "147",
         "147",
         "45",
         "0",
         "11",
         "29",
         "200",
         "254",
         "254",
         "254",
         "171",
         "0",
         "0",
         "0",
         "0",
         "0",
         "0",
         "0",
         "0",
         "0",
         "0",
         "0",
         "1",
         "174",
         "254",
         "254",
         "89",
         "67",
         "0",
         "0",
         "0",
         "0",
         "0",
         "0",
         "128",
         "252",
         "254",
         "254",
         "212",
         "76",
         "0",
         "0",
         "0",
         "0",
         "0",
         "0",
         "0",
         "0",
         "0",
         "0",
         "47",
         "254",
         "254",
         "254",
         "29",
         "0",
         "0",
         "0",
         "0",
         "0",
         "0",
         "0",
         "0",
         "83",
         "254",
         "254",
         "254",
         "153",
         "0",
         "0",
         "0",
         "0",
         "0",
         "0",
         "0",
         "0",
         "0",
         "0",
         "80",
         "254",
         "254",
         "240",
         "24",
         "0",
         "0",
         "0",
         "0",
         "0",
         "0",
         "0",
         "0",
         "25",
         "240",
         "254",
         "254",
         "153",
         "0",
         "0",
         "0",
         "0",
         "0",
         "0",
         "0",
         "0",
         "0",
         "0",
         "64",
         "254",
         "254",
         "186",
         "7",
         "0",
         "0",
         "0",
         "0",
         "0",
         "0",
         "0",
         "0",
         "0",
         "166",
         "254",
         "254",
         "224",
         "12",
         "0",
         "0",
         "0",
         "0",
         "0",
         "0",
         "0",
         "0",
         "14",
         "232",
         "254",
         "254",
         "254",
         "29",
         "0",
         "0",
         "0",
         "0",
         "0",
         "0",
         "0",
         "0",
         "0",
         "75",
         "254",
         "254",
         "254",
         "17",
         "0",
         "0",
         "0",
         "0",
         "0",
         "0",
         "0",
         "0",
         "18",
         "254",
         "254",
         "254",
         "254",
         "29",
         "0",
         "0",
         "0",
         "0",
         "0",
         "0",
         "0",
         "0",
         "0",
         "48",
         "254",
         "254",
         "254",
         "17",
         "0",
         "0",
         "0",
         "0",
         "0",
         "0",
         "0",
         "0",
         "2",
         "163",
         "254",
         "254",
         "254",
         "29",
         "0",
         "0",
         "0",
         "0",
         "0",
         "0",
         "0",
         "0",
         "0",
         "48",
         "254",
         "254",
         "254",
         "17",
         "0",
         "0",
         "0",
         "0",
         "0",
         "0",
         "0",
         "0",
         "0",
         "94",
         "254",
         "254",
         "254",
         "200",
         "12",
         "0",
         "0",
         "0",
         "0",
         "0",
         "0",
         "0",
         "16",
         "209",
         "254",
         "254",
         "150",
         "1",
         "0",
         "0",
         "0",
         "0",
         "0",
         "0",
         "0",
         "0",
         "0",
         "15",
         "206",
         "254",
         "254",
         "254",
         "202",
         "66",
         "0",
         "0",
         "0",
         "0",
         "0",
         "21",
         "161",
         "254",
         "254",
         "245",
         "31",
         "0",
         "0",
         "0",
         "0",
         "0",
         "0",
         "0",
         "0",
         "0",
         "0",
         "0",
         "60",
         "212",
         "254",
         "254",
         "254",
         "194",
         "48",
         "48",
         "34",
         "41",
         "48",
         "209",
         "254",
         "254",
         "254",
         "171",
         "0",
         "0",
         "0",
         "0",
         "0",
         "0",
         "0",
         "0",
         "0",
         "0",
         "0",
         "0",
         "0",
         "86",
         "243",
         "254",
         "254",
         "254",
         "254",
         "254",
         "233",
         "243",
         "254",
         "254",
         "254",
         "254",
         "254",
         "86",
         "0",
         "0",
         "0",
         "0",
         "0",
         "0",
         "0",
         "0",
         "0",
         "0",
         "0",
         "0",
         "0",
         "0",
         "114",
         "254",
         "254",
         "254",
         "254",
         "254",
         "254",
         "254",
         "254",
         "254",
         "254",
         "239",
         "86",
         "11",
         "0",
         "0",
         "0",
         "0",
         "0",
         "0",
         "0",
         "0",
         "0",
         "0",
         "0",
         "0",
         "0",
         "0",
         "13",
         "182",
         "254",
         "254",
         "254",
         "254",
         "254",
         "254",
         "254",
         "254",
         "243",
         "70",
         "0",
         "0",
         "0",
         "0",
         "0",
         "0",
         "0",
         "0",
         "0",
         "0",
         "0",
         "0",
         "0",
         "0",
         "0",
         "0",
         "0",
         "8",
         "76",
         "146",
         "254",
         "255",
         "254",
         "255",
         "146",
         "19",
         "15",
         "0",
         "0",
         "0",
         "0",
         "0",
         "0",
         "0",
         "0",
         "0",
         "0",
         "0",
         "0",
         "0",
         "0",
         "0",
         "0",
         "0",
         "0",
         "0",
         "0",
         "0",
         "0",
         "0",
         "0",
         "0",
         "0",
         "0",
         "0",
         "0",
         "0",
         "0",
         "0",
         "0",
         "0",
         "0",
         "0",
         "0",
         "0",
         "0",
         "0",
         "0",
         "0",
         "0",
         "0",
         "0",
         "0",
         "0",
         "0",
         "0",
         "0",
         "0",
         "0",
         "0",
         "0",
         "0",
         "0",
         "0",
         "0",
         "0",
         "0",
         "0",
         "0",
         "0",
         "0",
         "0",
         "0",
         "0",
         "0",
         "0",
         "0",
         "0",
         "0",
         "0",
         "0",
         "0",
         "0",
         "0",
         "0",
         "0",
         "0",
         "0",
         "0",
         "0",
         "0",
         "0",
         "0",
         "0",
         "0",
         "0",
         "0",
         "0",
         "0",
         "0",
         "0",
         "0",
         "0",
         "0",
         "0",
         "0",
         "0",
         "0",
         "0",
         "0",
         "0",
         "0",
         "0",
         "0",
         "0",
         "0",
         "0",
         "0",
         "0",
         "0",
         "0",
         "0",
         "0",
         "0",
         "0",
         "0",
         "0",
         "0"
        ],
        [
         "2",
         "1",
         "0",
         "0",
         "0",
         "0",
         "0",
         "0",
         "0",
         "0",
         "0",
         "0",
         "0",
         "0",
         "0",
         "0",
         "0",
         "0",
         "0",
         "0",
         "0",
         "0",
         "0",
         "0",
         "0",
         "0",
         "0",
         "0",
         "0",
         "0",
         "0",
         "0",
         "0",
         "0",
         "0",
         "0",
         "0",
         "0",
         "0",
         "0",
         "0",
         "0",
         "0",
         "0",
         "0",
         "0",
         "0",
         "0",
         "0",
         "0",
         "0",
         "0",
         "0",
         "0",
         "0",
         "0",
         "0",
         "0",
         "0",
         "0",
         "0",
         "0",
         "0",
         "0",
         "0",
         "0",
         "0",
         "0",
         "0",
         "0",
         "0",
         "0",
         "0",
         "0",
         "0",
         "0",
         "0",
         "0",
         "0",
         "0",
         "0",
         "0",
         "0",
         "0",
         "0",
         "0",
         "0",
         "0",
         "0",
         "0",
         "0",
         "0",
         "0",
         "0",
         "0",
         "0",
         "0",
         "0",
         "0",
         "0",
         "0",
         "0",
         "0",
         "0",
         "0",
         "0",
         "0",
         "0",
         "0",
         "0",
         "0",
         "0",
         "0",
         "0",
         "0",
         "0",
         "0",
         "0",
         "0",
         "0",
         "0",
         "0",
         "0",
         "0",
         "0",
         "0",
         "3",
         "141",
         "139",
         "3",
         "0",
         "0",
         "0",
         "0",
         "0",
         "0",
         "0",
         "0",
         "0",
         "0",
         "0",
         "0",
         "0",
         "0",
         "0",
         "0",
         "0",
         "0",
         "0",
         "0",
         "0",
         "0",
         "0",
         "0",
         "9",
         "254",
         "254",
         "8",
         "0",
         "0",
         "0",
         "0",
         "0",
         "0",
         "0",
         "0",
         "0",
         "0",
         "0",
         "0",
         "0",
         "0",
         "0",
         "0",
         "0",
         "0",
         "0",
         "0",
         "0",
         "0",
         "0",
         "0",
         "9",
         "254",
         "254",
         "8",
         "0",
         "0",
         "0",
         "0",
         "0",
         "0",
         "0",
         "0",
         "0",
         "0",
         "0",
         "0",
         "0",
         "0",
         "0",
         "0",
         "0",
         "0",
         "0",
         "0",
         "0",
         "0",
         "0",
         "0",
         "9",
         "254",
         "254",
         "106",
         "0",
         "0",
         "0",
         "0",
         "0",
         "0",
         "0",
         "0",
         "0",
         "0",
         "0",
         "0",
         "0",
         "0",
         "0",
         "0",
         "0",
         "0",
         "0",
         "0",
         "0",
         "0",
         "0",
         "0",
         "9",
         "254",
         "254",
         "184",
         "0",
         "0",
         "0",
         "0",
         "0",
         "0",
         "0",
         "0",
         "0",
         "0",
         "0",
         "0",
         "0",
         "0",
         "0",
         "0",
         "0",
         "0",
         "0",
         "0",
         "0",
         "0",
         "0",
         "0",
         "9",
         "254",
         "254",
         "184",
         "0",
         "0",
         "0",
         "0",
         "0",
         "0",
         "0",
         "0",
         "0",
         "0",
         "0",
         "0",
         "0",
         "0",
         "0",
         "0",
         "0",
         "0",
         "0",
         "0",
         "0",
         "0",
         "0",
         "0",
         "9",
         "254",
         "254",
         "184",
         "0",
         "0",
         "0",
         "0",
         "0",
         "0",
         "0",
         "0",
         "0",
         "0",
         "0",
         "0",
         "0",
         "0",
         "0",
         "0",
         "0",
         "0",
         "0",
         "0",
         "0",
         "0",
         "0",
         "0",
         "6",
         "185",
         "254",
         "184",
         "0",
         "0",
         "0",
         "0",
         "0",
         "0",
         "0",
         "0",
         "0",
         "0",
         "0",
         "0",
         "0",
         "0",
         "0",
         "0",
         "0",
         "0",
         "0",
         "0",
         "0",
         "0",
         "0",
         "0",
         "0",
         "89",
         "254",
         "184",
         "0",
         "0",
         "0",
         "0",
         "0",
         "0",
         "0",
         "0",
         "0",
         "0",
         "0",
         "0",
         "0",
         "0",
         "0",
         "0",
         "0",
         "0",
         "0",
         "0",
         "0",
         "0",
         "0",
         "0",
         "4",
         "146",
         "254",
         "184",
         "0",
         "0",
         "0",
         "0",
         "0",
         "0",
         "0",
         "0",
         "0",
         "0",
         "0",
         "0",
         "0",
         "0",
         "0",
         "0",
         "0",
         "0",
         "0",
         "0",
         "0",
         "0",
         "0",
         "0",
         "9",
         "254",
         "254",
         "184",
         "0",
         "0",
         "0",
         "0",
         "0",
         "0",
         "0",
         "0",
         "0",
         "0",
         "0",
         "0",
         "0",
         "0",
         "0",
         "0",
         "0",
         "0",
         "0",
         "0",
         "0",
         "0",
         "0",
         "0",
         "9",
         "254",
         "254",
         "184",
         "0",
         "0",
         "0",
         "0",
         "0",
         "0",
         "0",
         "0",
         "0",
         "0",
         "0",
         "0",
         "0",
         "0",
         "0",
         "0",
         "0",
         "0",
         "0",
         "0",
         "0",
         "0",
         "0",
         "0",
         "9",
         "254",
         "254",
         "184",
         "0",
         "0",
         "0",
         "0",
         "0",
         "0",
         "0",
         "0",
         "0",
         "0",
         "0",
         "0",
         "0",
         "0",
         "0",
         "0",
         "0",
         "0",
         "0",
         "0",
         "0",
         "0",
         "0",
         "0",
         "9",
         "254",
         "254",
         "184",
         "0",
         "0",
         "0",
         "0",
         "0",
         "0",
         "0",
         "0",
         "0",
         "0",
         "0",
         "0",
         "0",
         "0",
         "0",
         "0",
         "0",
         "0",
         "0",
         "0",
         "0",
         "0",
         "0",
         "0",
         "9",
         "254",
         "254",
         "184",
         "0",
         "0",
         "0",
         "0",
         "0",
         "0",
         "0",
         "0",
         "0",
         "0",
         "0",
         "0",
         "0",
         "0",
         "0",
         "0",
         "0",
         "0",
         "0",
         "0",
         "0",
         "0",
         "0",
         "0",
         "156",
         "254",
         "254",
         "184",
         "0",
         "0",
         "0",
         "0",
         "0",
         "0",
         "0",
         "0",
         "0",
         "0",
         "0",
         "0",
         "0",
         "0",
         "0",
         "0",
         "0",
         "0",
         "0",
         "0",
         "0",
         "0",
         "0",
         "0",
         "185",
         "255",
         "255",
         "184",
         "0",
         "0",
         "0",
         "0",
         "0",
         "0",
         "0",
         "0",
         "0",
         "0",
         "0",
         "0",
         "0",
         "0",
         "0",
         "0",
         "0",
         "0",
         "0",
         "0",
         "0",
         "0",
         "0",
         "0",
         "185",
         "254",
         "254",
         "184",
         "0",
         "0",
         "0",
         "0",
         "0",
         "0",
         "0",
         "0",
         "0",
         "0",
         "0",
         "0",
         "0",
         "0",
         "0",
         "0",
         "0",
         "0",
         "0",
         "0",
         "0",
         "0",
         "0",
         "0",
         "185",
         "254",
         "254",
         "184",
         "0",
         "0",
         "0",
         "0",
         "0",
         "0",
         "0",
         "0",
         "0",
         "0",
         "0",
         "0",
         "0",
         "0",
         "0",
         "0",
         "0",
         "0",
         "0",
         "0",
         "0",
         "0",
         "0",
         "0",
         "63",
         "254",
         "254",
         "62",
         "0",
         "0",
         "0",
         "0",
         "0",
         "0",
         "0",
         "0",
         "0",
         "0",
         "0",
         "0",
         "0",
         "0",
         "0",
         "0",
         "0",
         "0",
         "0",
         "0",
         "0",
         "0",
         "0",
         "0",
         "0",
         "0",
         "0",
         "0",
         "0",
         "0",
         "0",
         "0",
         "0",
         "0",
         "0",
         "0",
         "0",
         "0",
         "0",
         "0",
         "0",
         "0",
         "0",
         "0",
         "0",
         "0",
         "0",
         "0",
         "0",
         "0",
         "0",
         "0",
         "0",
         "0",
         "0",
         "0",
         "0",
         "0",
         "0",
         "0",
         "0",
         "0",
         "0",
         "0",
         "0",
         "0",
         "0",
         "0",
         "0",
         "0",
         "0",
         "0",
         "0",
         "0",
         "0",
         "0",
         "0",
         "0",
         "0",
         "0",
         "0",
         "0",
         "0",
         "0",
         "0",
         "0",
         "0",
         "0",
         "0",
         "0",
         "0",
         "0",
         "0",
         "0",
         "0",
         "0",
         "0",
         "0",
         "0",
         "0",
         "0",
         "0",
         "0",
         "0",
         "0",
         "0",
         "0",
         "0",
         "0",
         "0",
         "0",
         "0",
         "0",
         "0",
         "0",
         "0",
         "0",
         "0",
         "0",
         "0",
         "0",
         "0",
         "0",
         "0"
        ],
        [
         "3",
         "4",
         "0",
         "0",
         "0",
         "0",
         "0",
         "0",
         "0",
         "0",
         "0",
         "0",
         "0",
         "0",
         "0",
         "0",
         "0",
         "0",
         "0",
         "0",
         "0",
         "0",
         "0",
         "0",
         "0",
         "0",
         "0",
         "0",
         "0",
         "0",
         "0",
         "0",
         "0",
         "0",
         "0",
         "0",
         "0",
         "0",
         "0",
         "0",
         "0",
         "0",
         "0",
         "0",
         "0",
         "0",
         "0",
         "0",
         "0",
         "0",
         "0",
         "0",
         "0",
         "0",
         "0",
         "0",
         "0",
         "0",
         "0",
         "0",
         "0",
         "0",
         "0",
         "0",
         "0",
         "0",
         "0",
         "0",
         "0",
         "0",
         "0",
         "0",
         "0",
         "0",
         "0",
         "0",
         "0",
         "0",
         "0",
         "0",
         "0",
         "0",
         "0",
         "0",
         "0",
         "0",
         "0",
         "0",
         "0",
         "0",
         "0",
         "0",
         "0",
         "0",
         "0",
         "0",
         "0",
         "0",
         "0",
         "0",
         "0",
         "0",
         "0",
         "0",
         "0",
         "0",
         "0",
         "0",
         "0",
         "0",
         "0",
         "0",
         "0",
         "0",
         "0",
         "0",
         "0",
         "0",
         "0",
         "0",
         "0",
         "0",
         "0",
         "0",
         "0",
         "0",
         "0",
         "0",
         "0",
         "0",
         "0",
         "0",
         "0",
         "0",
         "0",
         "0",
         "0",
         "0",
         "0",
         "0",
         "0",
         "0",
         "0",
         "0",
         "0",
         "0",
         "0",
         "0",
         "220",
         "179",
         "6",
         "0",
         "0",
         "0",
         "0",
         "0",
         "0",
         "0",
         "0",
         "9",
         "77",
         "0",
         "0",
         "0",
         "0",
         "0",
         "0",
         "0",
         "0",
         "0",
         "0",
         "0",
         "0",
         "0",
         "0",
         "0",
         "28",
         "247",
         "17",
         "0",
         "0",
         "0",
         "0",
         "0",
         "0",
         "0",
         "0",
         "27",
         "202",
         "0",
         "0",
         "0",
         "0",
         "0",
         "0",
         "0",
         "0",
         "0",
         "0",
         "0",
         "0",
         "0",
         "0",
         "0",
         "0",
         "242",
         "155",
         "0",
         "0",
         "0",
         "0",
         "0",
         "0",
         "0",
         "0",
         "27",
         "254",
         "63",
         "0",
         "0",
         "0",
         "0",
         "0",
         "0",
         "0",
         "0",
         "0",
         "0",
         "0",
         "0",
         "0",
         "0",
         "0",
         "160",
         "207",
         "6",
         "0",
         "0",
         "0",
         "0",
         "0",
         "0",
         "0",
         "27",
         "254",
         "65",
         "0",
         "0",
         "0",
         "0",
         "0",
         "0",
         "0",
         "0",
         "0",
         "0",
         "0",
         "0",
         "0",
         "0",
         "0",
         "127",
         "254",
         "21",
         "0",
         "0",
         "0",
         "0",
         "0",
         "0",
         "0",
         "20",
         "239",
         "65",
         "0",
         "0",
         "0",
         "0",
         "0",
         "0",
         "0",
         "0",
         "0",
         "0",
         "0",
         "0",
         "0",
         "0",
         "0",
         "77",
         "254",
         "21",
         "0",
         "0",
         "0",
         "0",
         "0",
         "0",
         "0",
         "0",
         "195",
         "65",
         "0",
         "0",
         "0",
         "0",
         "0",
         "0",
         "0",
         "0",
         "0",
         "0",
         "0",
         "0",
         "0",
         "0",
         "0",
         "70",
         "254",
         "21",
         "0",
         "0",
         "0",
         "0",
         "0",
         "0",
         "0",
         "0",
         "195",
         "142",
         "0",
         "0",
         "0",
         "0",
         "0",
         "0",
         "0",
         "0",
         "0",
         "0",
         "0",
         "0",
         "0",
         "0",
         "0",
         "56",
         "251",
         "21",
         "0",
         "0",
         "0",
         "0",
         "0",
         "0",
         "0",
         "0",
         "195",
         "227",
         "0",
         "0",
         "0",
         "0",
         "0",
         "0",
         "0",
         "0",
         "0",
         "0",
         "0",
         "0",
         "0",
         "0",
         "0",
         "0",
         "222",
         "153",
         "5",
         "0",
         "0",
         "0",
         "0",
         "0",
         "0",
         "0",
         "120",
         "240",
         "13",
         "0",
         "0",
         "0",
         "0",
         "0",
         "0",
         "0",
         "0",
         "0",
         "0",
         "0",
         "0",
         "0",
         "0",
         "0",
         "67",
         "251",
         "40",
         "0",
         "0",
         "0",
         "0",
         "0",
         "0",
         "0",
         "94",
         "255",
         "69",
         "0",
         "0",
         "0",
         "0",
         "0",
         "0",
         "0",
         "0",
         "0",
         "0",
         "0",
         "0",
         "0",
         "0",
         "0",
         "0",
         "234",
         "184",
         "0",
         "0",
         "0",
         "0",
         "0",
         "0",
         "0",
         "19",
         "245",
         "69",
         "0",
         "0",
         "0",
         "0",
         "0",
         "0",
         "0",
         "0",
         "0",
         "0",
         "0",
         "0",
         "0",
         "0",
         "0",
         "0",
         "234",
         "169",
         "0",
         "0",
         "0",
         "0",
         "0",
         "0",
         "0",
         "3",
         "199",
         "182",
         "10",
         "0",
         "0",
         "0",
         "0",
         "0",
         "0",
         "0",
         "0",
         "0",
         "0",
         "0",
         "0",
         "0",
         "0",
         "0",
         "154",
         "205",
         "4",
         "0",
         "0",
         "26",
         "72",
         "128",
         "203",
         "208",
         "254",
         "254",
         "131",
         "0",
         "0",
         "0",
         "0",
         "0",
         "0",
         "0",
         "0",
         "0",
         "0",
         "0",
         "0",
         "0",
         "0",
         "0",
         "61",
         "254",
         "129",
         "113",
         "186",
         "245",
         "251",
         "189",
         "75",
         "56",
         "136",
         "254",
         "73",
         "0",
         "0",
         "0",
         "0",
         "0",
         "0",
         "0",
         "0",
         "0",
         "0",
         "0",
         "0",
         "0",
         "0",
         "0",
         "15",
         "216",
         "233",
         "233",
         "159",
         "104",
         "52",
         "0",
         "0",
         "0",
         "38",
         "254",
         "73",
         "0",
         "0",
         "0",
         "0",
         "0",
         "0",
         "0",
         "0",
         "0",
         "0",
         "0",
         "0",
         "0",
         "0",
         "0",
         "0",
         "0",
         "0",
         "0",
         "0",
         "0",
         "0",
         "0",
         "0",
         "0",
         "18",
         "254",
         "73",
         "0",
         "0",
         "0",
         "0",
         "0",
         "0",
         "0",
         "0",
         "0",
         "0",
         "0",
         "0",
         "0",
         "0",
         "0",
         "0",
         "0",
         "0",
         "0",
         "0",
         "0",
         "0",
         "0",
         "0",
         "0",
         "18",
         "254",
         "73",
         "0",
         "0",
         "0",
         "0",
         "0",
         "0",
         "0",
         "0",
         "0",
         "0",
         "0",
         "0",
         "0",
         "0",
         "0",
         "0",
         "0",
         "0",
         "0",
         "0",
         "0",
         "0",
         "0",
         "0",
         "0",
         "5",
         "206",
         "106",
         "0",
         "0",
         "0",
         "0",
         "0",
         "0",
         "0",
         "0",
         "0",
         "0",
         "0",
         "0",
         "0",
         "0",
         "0",
         "0",
         "0",
         "0",
         "0",
         "0",
         "0",
         "0",
         "0",
         "0",
         "0",
         "0",
         "186",
         "159",
         "0",
         "0",
         "0",
         "0",
         "0",
         "0",
         "0",
         "0",
         "0",
         "0",
         "0",
         "0",
         "0",
         "0",
         "0",
         "0",
         "0",
         "0",
         "0",
         "0",
         "0",
         "0",
         "0",
         "0",
         "0",
         "6",
         "209",
         "101",
         "0",
         "0",
         "0",
         "0",
         "0",
         "0",
         "0",
         "0",
         "0",
         "0",
         "0",
         "0",
         "0",
         "0",
         "0",
         "0",
         "0",
         "0",
         "0",
         "0",
         "0",
         "0",
         "0",
         "0",
         "0",
         "0",
         "0",
         "0",
         "0",
         "0",
         "0",
         "0",
         "0",
         "0",
         "0",
         "0",
         "0",
         "0",
         "0",
         "0",
         "0",
         "0",
         "0",
         "0",
         "0",
         "0",
         "0",
         "0",
         "0",
         "0",
         "0",
         "0",
         "0",
         "0",
         "0",
         "0",
         "0",
         "0",
         "0",
         "0",
         "0",
         "0",
         "0",
         "0",
         "0",
         "0",
         "0",
         "0",
         "0",
         "0",
         "0",
         "0",
         "0",
         "0",
         "0",
         "0",
         "0",
         "0",
         "0",
         "0",
         "0",
         "0",
         "0",
         "0",
         "0",
         "0",
         "0",
         "0",
         "0",
         "0"
        ],
        [
         "4",
         "0",
         "0",
         "0",
         "0",
         "0",
         "0",
         "0",
         "0",
         "0",
         "0",
         "0",
         "0",
         "0",
         "0",
         "0",
         "0",
         "0",
         "0",
         "0",
         "0",
         "0",
         "0",
         "0",
         "0",
         "0",
         "0",
         "0",
         "0",
         "0",
         "0",
         "0",
         "0",
         "0",
         "0",
         "0",
         "0",
         "0",
         "0",
         "0",
         "0",
         "0",
         "0",
         "0",
         "0",
         "0",
         "0",
         "0",
         "0",
         "0",
         "0",
         "0",
         "0",
         "0",
         "0",
         "0",
         "0",
         "0",
         "0",
         "0",
         "0",
         "0",
         "0",
         "0",
         "0",
         "0",
         "0",
         "0",
         "0",
         "0",
         "0",
         "0",
         "0",
         "0",
         "0",
         "0",
         "0",
         "0",
         "0",
         "0",
         "0",
         "0",
         "0",
         "0",
         "0",
         "0",
         "0",
         "0",
         "0",
         "0",
         "0",
         "0",
         "0",
         "0",
         "0",
         "0",
         "0",
         "0",
         "0",
         "0",
         "0",
         "0",
         "0",
         "0",
         "0",
         "0",
         "0",
         "0",
         "0",
         "0",
         "0",
         "0",
         "0",
         "0",
         "0",
         "0",
         "0",
         "0",
         "0",
         "0",
         "0",
         "0",
         "0",
         "1",
         "25",
         "130",
         "155",
         "254",
         "254",
         "254",
         "157",
         "30",
         "2",
         "0",
         "0",
         "0",
         "0",
         "0",
         "0",
         "0",
         "0",
         "0",
         "0",
         "0",
         "0",
         "0",
         "0",
         "0",
         "0",
         "0",
         "8",
         "103",
         "253",
         "253",
         "253",
         "253",
         "253",
         "253",
         "253",
         "253",
         "114",
         "2",
         "0",
         "0",
         "0",
         "0",
         "0",
         "0",
         "0",
         "0",
         "0",
         "0",
         "0",
         "0",
         "0",
         "0",
         "0",
         "11",
         "208",
         "253",
         "253",
         "253",
         "253",
         "253",
         "253",
         "253",
         "253",
         "253",
         "253",
         "107",
         "0",
         "0",
         "0",
         "0",
         "0",
         "0",
         "0",
         "0",
         "0",
         "0",
         "0",
         "0",
         "0",
         "0",
         "0",
         "31",
         "253",
         "253",
         "253",
         "253",
         "253",
         "253",
         "253",
         "253",
         "253",
         "253",
         "253",
         "215",
         "101",
         "3",
         "0",
         "0",
         "0",
         "0",
         "0",
         "0",
         "0",
         "0",
         "0",
         "0",
         "0",
         "0",
         "23",
         "210",
         "253",
         "253",
         "253",
         "248",
         "161",
         "222",
         "222",
         "246",
         "253",
         "253",
         "253",
         "253",
         "253",
         "39",
         "0",
         "0",
         "0",
         "0",
         "0",
         "0",
         "0",
         "0",
         "0",
         "0",
         "0",
         "0",
         "136",
         "253",
         "253",
         "253",
         "229",
         "77",
         "0",
         "0",
         "0",
         "70",
         "218",
         "253",
         "253",
         "253",
         "253",
         "215",
         "91",
         "0",
         "0",
         "0",
         "0",
         "0",
         "0",
         "0",
         "0",
         "0",
         "0",
         "5",
         "214",
         "253",
         "253",
         "253",
         "195",
         "0",
         "0",
         "0",
         "0",
         "0",
         "104",
         "224",
         "253",
         "253",
         "253",
         "253",
         "215",
         "29",
         "0",
         "0",
         "0",
         "0",
         "0",
         "0",
         "0",
         "0",
         "0",
         "116",
         "253",
         "253",
         "253",
         "247",
         "75",
         "0",
         "0",
         "0",
         "0",
         "0",
         "0",
         "26",
         "200",
         "253",
         "253",
         "253",
         "253",
         "216",
         "4",
         "0",
         "0",
         "0",
         "0",
         "0",
         "0",
         "0",
         "0",
         "254",
         "253",
         "253",
         "253",
         "195",
         "0",
         "0",
         "0",
         "0",
         "0",
         "0",
         "0",
         "0",
         "26",
         "200",
         "253",
         "253",
         "253",
         "253",
         "5",
         "0",
         "0",
         "0",
         "0",
         "0",
         "0",
         "0",
         "0",
         "254",
         "253",
         "253",
         "253",
         "99",
         "0",
         "0",
         "0",
         "0",
         "0",
         "0",
         "0",
         "0",
         "0",
         "25",
         "231",
         "253",
         "253",
         "253",
         "36",
         "0",
         "0",
         "0",
         "0",
         "0",
         "0",
         "0",
         "0",
         "254",
         "253",
         "253",
         "253",
         "99",
         "0",
         "0",
         "0",
         "0",
         "0",
         "0",
         "0",
         "0",
         "0",
         "0",
         "223",
         "253",
         "253",
         "253",
         "129",
         "0",
         "0",
         "0",
         "0",
         "0",
         "0",
         "0",
         "0",
         "254",
         "253",
         "253",
         "253",
         "99",
         "0",
         "0",
         "0",
         "0",
         "0",
         "0",
         "0",
         "0",
         "0",
         "0",
         "127",
         "253",
         "253",
         "253",
         "129",
         "0",
         "0",
         "0",
         "0",
         "0",
         "0",
         "0",
         "0",
         "254",
         "253",
         "253",
         "253",
         "99",
         "0",
         "0",
         "0",
         "0",
         "0",
         "0",
         "0",
         "0",
         "0",
         "0",
         "139",
         "253",
         "253",
         "253",
         "90",
         "0",
         "0",
         "0",
         "0",
         "0",
         "0",
         "0",
         "0",
         "254",
         "253",
         "253",
         "253",
         "99",
         "0",
         "0",
         "0",
         "0",
         "0",
         "0",
         "0",
         "0",
         "0",
         "78",
         "248",
         "253",
         "253",
         "253",
         "5",
         "0",
         "0",
         "0",
         "0",
         "0",
         "0",
         "0",
         "0",
         "254",
         "253",
         "253",
         "253",
         "216",
         "34",
         "0",
         "0",
         "0",
         "0",
         "0",
         "0",
         "0",
         "33",
         "152",
         "253",
         "253",
         "253",
         "107",
         "1",
         "0",
         "0",
         "0",
         "0",
         "0",
         "0",
         "0",
         "0",
         "206",
         "253",
         "253",
         "253",
         "253",
         "140",
         "0",
         "0",
         "0",
         "0",
         "0",
         "30",
         "139",
         "234",
         "253",
         "253",
         "253",
         "154",
         "2",
         "0",
         "0",
         "0",
         "0",
         "0",
         "0",
         "0",
         "0",
         "0",
         "16",
         "205",
         "253",
         "253",
         "253",
         "250",
         "208",
         "106",
         "106",
         "106",
         "200",
         "237",
         "253",
         "253",
         "253",
         "253",
         "209",
         "22",
         "0",
         "0",
         "0",
         "0",
         "0",
         "0",
         "0",
         "0",
         "0",
         "0",
         "0",
         "82",
         "253",
         "253",
         "253",
         "253",
         "253",
         "253",
         "253",
         "253",
         "253",
         "253",
         "253",
         "253",
         "253",
         "209",
         "22",
         "0",
         "0",
         "0",
         "0",
         "0",
         "0",
         "0",
         "0",
         "0",
         "0",
         "0",
         "0",
         "1",
         "91",
         "253",
         "253",
         "253",
         "253",
         "253",
         "253",
         "253",
         "253",
         "253",
         "253",
         "213",
         "90",
         "7",
         "0",
         "0",
         "0",
         "0",
         "0",
         "0",
         "0",
         "0",
         "0",
         "0",
         "0",
         "0",
         "0",
         "0",
         "1",
         "18",
         "129",
         "208",
         "253",
         "253",
         "253",
         "253",
         "159",
         "129",
         "90",
         "4",
         "0",
         "0",
         "0",
         "0",
         "0",
         "0",
         "0",
         "0",
         "0",
         "0",
         "0",
         "0",
         "0",
         "0",
         "0",
         "0",
         "0",
         "0",
         "0",
         "0",
         "0",
         "0",
         "0",
         "0",
         "0",
         "0",
         "0",
         "0",
         "0",
         "0",
         "0",
         "0",
         "0",
         "0",
         "0",
         "0",
         "0",
         "0",
         "0",
         "0",
         "0",
         "0",
         "0",
         "0",
         "0",
         "0",
         "0",
         "0",
         "0",
         "0",
         "0",
         "0",
         "0",
         "0",
         "0",
         "0",
         "0",
         "0",
         "0",
         "0",
         "0",
         "0",
         "0",
         "0",
         "0",
         "0",
         "0",
         "0",
         "0",
         "0",
         "0",
         "0",
         "0",
         "0",
         "0",
         "0",
         "0",
         "0",
         "0",
         "0",
         "0",
         "0",
         "0",
         "0",
         "0",
         "0",
         "0",
         "0",
         "0",
         "0",
         "0",
         "0",
         "0",
         "0",
         "0",
         "0",
         "0",
         "0",
         "0",
         "0",
         "0",
         "0",
         "0",
         "0",
         "0",
         "0",
         "0",
         "0",
         "0",
         "0",
         "0",
         "0",
         "0",
         "0",
         "0",
         "0",
         "0",
         "0",
         "0",
         "0",
         "0"
        ]
       ],
       "shape": {
        "columns": 785,
        "rows": 5
       }
      },
      "text/html": [
       "<div>\n",
       "<style scoped>\n",
       "    .dataframe tbody tr th:only-of-type {\n",
       "        vertical-align: middle;\n",
       "    }\n",
       "\n",
       "    .dataframe tbody tr th {\n",
       "        vertical-align: top;\n",
       "    }\n",
       "\n",
       "    .dataframe thead th {\n",
       "        text-align: right;\n",
       "    }\n",
       "</style>\n",
       "<table border=\"1\" class=\"dataframe\">\n",
       "  <thead>\n",
       "    <tr style=\"text-align: right;\">\n",
       "      <th></th>\n",
       "      <th>label</th>\n",
       "      <th>pixel0</th>\n",
       "      <th>pixel1</th>\n",
       "      <th>pixel2</th>\n",
       "      <th>pixel3</th>\n",
       "      <th>pixel4</th>\n",
       "      <th>pixel5</th>\n",
       "      <th>pixel6</th>\n",
       "      <th>pixel7</th>\n",
       "      <th>pixel8</th>\n",
       "      <th>...</th>\n",
       "      <th>pixel774</th>\n",
       "      <th>pixel775</th>\n",
       "      <th>pixel776</th>\n",
       "      <th>pixel777</th>\n",
       "      <th>pixel778</th>\n",
       "      <th>pixel779</th>\n",
       "      <th>pixel780</th>\n",
       "      <th>pixel781</th>\n",
       "      <th>pixel782</th>\n",
       "      <th>pixel783</th>\n",
       "    </tr>\n",
       "  </thead>\n",
       "  <tbody>\n",
       "    <tr>\n",
       "      <th>0</th>\n",
       "      <td>1</td>\n",
       "      <td>0</td>\n",
       "      <td>0</td>\n",
       "      <td>0</td>\n",
       "      <td>0</td>\n",
       "      <td>0</td>\n",
       "      <td>0</td>\n",
       "      <td>0</td>\n",
       "      <td>0</td>\n",
       "      <td>0</td>\n",
       "      <td>...</td>\n",
       "      <td>0</td>\n",
       "      <td>0</td>\n",
       "      <td>0</td>\n",
       "      <td>0</td>\n",
       "      <td>0</td>\n",
       "      <td>0</td>\n",
       "      <td>0</td>\n",
       "      <td>0</td>\n",
       "      <td>0</td>\n",
       "      <td>0</td>\n",
       "    </tr>\n",
       "    <tr>\n",
       "      <th>1</th>\n",
       "      <td>0</td>\n",
       "      <td>0</td>\n",
       "      <td>0</td>\n",
       "      <td>0</td>\n",
       "      <td>0</td>\n",
       "      <td>0</td>\n",
       "      <td>0</td>\n",
       "      <td>0</td>\n",
       "      <td>0</td>\n",
       "      <td>0</td>\n",
       "      <td>...</td>\n",
       "      <td>0</td>\n",
       "      <td>0</td>\n",
       "      <td>0</td>\n",
       "      <td>0</td>\n",
       "      <td>0</td>\n",
       "      <td>0</td>\n",
       "      <td>0</td>\n",
       "      <td>0</td>\n",
       "      <td>0</td>\n",
       "      <td>0</td>\n",
       "    </tr>\n",
       "    <tr>\n",
       "      <th>2</th>\n",
       "      <td>1</td>\n",
       "      <td>0</td>\n",
       "      <td>0</td>\n",
       "      <td>0</td>\n",
       "      <td>0</td>\n",
       "      <td>0</td>\n",
       "      <td>0</td>\n",
       "      <td>0</td>\n",
       "      <td>0</td>\n",
       "      <td>0</td>\n",
       "      <td>...</td>\n",
       "      <td>0</td>\n",
       "      <td>0</td>\n",
       "      <td>0</td>\n",
       "      <td>0</td>\n",
       "      <td>0</td>\n",
       "      <td>0</td>\n",
       "      <td>0</td>\n",
       "      <td>0</td>\n",
       "      <td>0</td>\n",
       "      <td>0</td>\n",
       "    </tr>\n",
       "    <tr>\n",
       "      <th>3</th>\n",
       "      <td>4</td>\n",
       "      <td>0</td>\n",
       "      <td>0</td>\n",
       "      <td>0</td>\n",
       "      <td>0</td>\n",
       "      <td>0</td>\n",
       "      <td>0</td>\n",
       "      <td>0</td>\n",
       "      <td>0</td>\n",
       "      <td>0</td>\n",
       "      <td>...</td>\n",
       "      <td>0</td>\n",
       "      <td>0</td>\n",
       "      <td>0</td>\n",
       "      <td>0</td>\n",
       "      <td>0</td>\n",
       "      <td>0</td>\n",
       "      <td>0</td>\n",
       "      <td>0</td>\n",
       "      <td>0</td>\n",
       "      <td>0</td>\n",
       "    </tr>\n",
       "    <tr>\n",
       "      <th>4</th>\n",
       "      <td>0</td>\n",
       "      <td>0</td>\n",
       "      <td>0</td>\n",
       "      <td>0</td>\n",
       "      <td>0</td>\n",
       "      <td>0</td>\n",
       "      <td>0</td>\n",
       "      <td>0</td>\n",
       "      <td>0</td>\n",
       "      <td>0</td>\n",
       "      <td>...</td>\n",
       "      <td>0</td>\n",
       "      <td>0</td>\n",
       "      <td>0</td>\n",
       "      <td>0</td>\n",
       "      <td>0</td>\n",
       "      <td>0</td>\n",
       "      <td>0</td>\n",
       "      <td>0</td>\n",
       "      <td>0</td>\n",
       "      <td>0</td>\n",
       "    </tr>\n",
       "  </tbody>\n",
       "</table>\n",
       "<p>5 rows × 785 columns</p>\n",
       "</div>"
      ],
      "text/plain": [
       "   label  pixel0  pixel1  pixel2  pixel3  pixel4  pixel5  pixel6  pixel7  \\\n",
       "0      1       0       0       0       0       0       0       0       0   \n",
       "1      0       0       0       0       0       0       0       0       0   \n",
       "2      1       0       0       0       0       0       0       0       0   \n",
       "3      4       0       0       0       0       0       0       0       0   \n",
       "4      0       0       0       0       0       0       0       0       0   \n",
       "\n",
       "   pixel8  ...  pixel774  pixel775  pixel776  pixel777  pixel778  pixel779  \\\n",
       "0       0  ...         0         0         0         0         0         0   \n",
       "1       0  ...         0         0         0         0         0         0   \n",
       "2       0  ...         0         0         0         0         0         0   \n",
       "3       0  ...         0         0         0         0         0         0   \n",
       "4       0  ...         0         0         0         0         0         0   \n",
       "\n",
       "   pixel780  pixel781  pixel782  pixel783  \n",
       "0         0         0         0         0  \n",
       "1         0         0         0         0  \n",
       "2         0         0         0         0  \n",
       "3         0         0         0         0  \n",
       "4         0         0         0         0  \n",
       "\n",
       "[5 rows x 785 columns]"
      ]
     },
     "execution_count": 2,
     "metadata": {},
     "output_type": "execute_result"
    }
   ],
   "source": [
    "train = pd.read_csv('/Users/vanshaj/Downloads/digit-recognizer/train.csv')\n",
    "train.head()"
   ]
  },
  {
   "cell_type": "code",
   "execution_count": 3,
   "metadata": {
    "_cell_guid": "d3ff48ed-51af-d315-df10-64024922a932",
    "_execution_state": "idle",
    "_uuid": "5b0c47777a5f3114b4962d5fcdb2032f2f503a87",
    "trusted": true
   },
   "outputs": [
    {
     "name": "stdout",
     "output_type": "stream",
     "text": [
      "(42000, 785)\n"
     ]
    }
   ],
   "source": [
    "print(train.shape)"
   ]
  },
  {
   "cell_type": "markdown",
   "metadata": {
    "_cell_guid": "6b142c78-a513-0a7c-a8fd-83c55b81a74b",
    "_uuid": "8a0fdbc22dc99b05f10d7839cfc4a1a428a5e5dc"
   },
   "source": [
    "The MNIST set consists of 42,000 rows and 785 columns. There are 28 x 28 pixel images of digits  ( contributing to 784 columns) as well as one extra label column which is essentially a class label to state whether the row-wise contribution to each digit gives a 1 or a 9. Each row component contains a value between one and zero and this describes the intensity of each pixel. "
   ]
  },
  {
   "cell_type": "markdown",
   "metadata": {
    "_cell_guid": "be6a870b-3b43-7384-55f4-3ed8c5464c10",
    "_uuid": "2bb683c300bddb2ae2ca9915a2c7cdcfd0294872"
   },
   "source": [
    "**Pearson Correlation Plot**\n",
    "\n",
    "Since we are still having the problem that our dataset consists of a relatively large number of features (columns),  it is perfect time to introduce Dimensionality Reduction methods. Before we start off, let's conduct some cleaning of the train data by saving the label feature and then removing it from the dataframe"
   ]
  },
  {
   "cell_type": "code",
   "execution_count": null,
   "metadata": {
    "_cell_guid": "94b43e7c-fcca-c363-d10a-9407c1dda252",
    "_execution_state": "idle",
    "_uuid": "8e92dba75c5d2886b7343de960907659513ee60e",
    "trusted": true
   },
   "outputs": [],
   "source": [
    "# save the labels to a Pandas series target\n",
    "target = train['label']\n",
    "# Drop the label feature\n",
    "train = train.drop(\"label\",axis=1)"
   ]
  },
  {
   "cell_type": "markdown",
   "metadata": {
    "_cell_guid": "e28f547a-7691-4664-ae63-ee1fefde9e76",
    "_uuid": "b3617c18ebb55b6d3b5e57bfb7b4d4231a28ef9e"
   },
   "source": [
    "# 1. Principal Component Analysis (PCA)\n",
    "\n",
    "In a nutshell, PCA is a linear transformation algorithm that seeks to project the original features of our data onto a smaller set of features ( or subspace ) while still retaining most of the information. To do this the algorithm tries to find the most appropriate directions/angles ( which are the principal components ) that maximise the variance in the new subspace. Why maximise the variance though? \n",
    "\n",
    "To answer the question, more context has to be given about the PCA method. One has to understand that the principal components are orthogonal to each other ( think right angle ). As such when generating the covariance matrix ( measure of how related 2 variables are to each other ) in our new subspace, the off-diagonal values of the covariance matrix will be zero and only the diagonals ( or eigenvalues) will be non-zero. It is these diagonal values that represent the *variances* of the principal components that we are talking about or information about the variability of our features. \n",
    "\n",
    "Therefore when PCA seeks to maximise this variance, the method is trying to find directions ( principal components ) that contain the largest spread/subset of data points or information ( variance ) relative to all the data points present. For a brilliant and detailed description on this, check out this stackexchange thread: \n",
    "\n",
    "[PCA and proportion of variance explained][1] by amoeba\n",
    "\n",
    "  [1]: http://stats.stackexchange.com/a/140579/3277"
   ]
  },
  {
   "cell_type": "markdown",
   "metadata": {
    "_cell_guid": "ec9f7dff-e524-340b-fbba-09a47af726d4",
    "_uuid": "777890904ab0b2c4fe772191f25781c9719ceb48"
   },
   "source": [
    "### Calculating the Eigenvectors\n",
    "\n",
    "Now it may be informative to observe how the variances look like for the digits in the MNIST dataset. Therefore to achieve this, let us calculate the eigenvectors and eigenvalues of the covarience matrix as follows:"
   ]
  },
  {
   "cell_type": "code",
   "execution_count": null,
   "metadata": {
    "_cell_guid": "62e6276a-dac3-8131-aeb3-1e37588c538b",
    "_execution_state": "idle",
    "_uuid": "701c41fb0ddbc20fbf86f0fec5e778e95c284a77",
    "trusted": true
   },
   "outputs": [],
   "source": [
    "# Standardize the data\n",
    "from sklearn.preprocessing import StandardScaler\n",
    "X = train.values\n",
    "X_std = StandardScaler().fit_transform(X)\n",
    "\n",
    "# Calculating Eigenvectors and eigenvalues of Cov matirx\n",
    "mean_vec = np.mean(X_std, axis=0)\n",
    "cov_mat = np.cov(X_std.T)\n",
    "eig_vals, eig_vecs = np.linalg.eig(cov_mat)\n",
    "# Create a list of (eigenvalue, eigenvector) tuples\n",
    "eig_pairs = [ (np.abs(eig_vals[i]),eig_vecs[:,i]) for i in range(len(eig_vals))]\n",
    "\n",
    "# Sort the eigenvalue, eigenvector pair from high to low\n",
    "eig_pairs.sort(key = lambda x: x[0], reverse= True)\n",
    "\n",
    "# Calculation of Explained Variance from the eigenvalues\n",
    "tot = sum(eig_vals)\n",
    "var_exp = [(i/tot)*100 for i in sorted(eig_vals, reverse=True)] # Individual explained variance\n",
    "cum_var_exp = np.cumsum(var_exp) # Cumulative explained variance"
   ]
  },
  {
   "cell_type": "markdown",
   "metadata": {
    "_cell_guid": "e78d6ebc-5a06-57ee-ca95-70976aa54fe6",
    "_uuid": "6fb55e246b170981440c4eab01ef98924213cf13"
   },
   "source": [
    "Now having calculated both our Individual Explained Variance and Cumulative Explained Variance values, let's use the Plotly visualisation package to produce an interactive chart to showcase this."
   ]
  },
  {
   "cell_type": "code",
   "execution_count": null,
   "metadata": {
    "_cell_guid": "4610eb60-0877-8e8d-8dc7-99fdef818dfb",
    "_uuid": "862a68c5415a187d5f36f44e886d90554fa2a0dd",
    "trusted": true
   },
   "outputs": [],
   "source": [
    "trace1 = go.Scatter(\n",
    "    x=list(range(784)),\n",
    "    y= cum_var_exp,\n",
    "    mode='lines+markers',\n",
    "    name=\"'Cumulative Explained Variance'\",\n",
    "#     hoverinfo= cum_var_exp,\n",
    "    line=dict(\n",
    "        shape='spline',\n",
    "        color = 'goldenrod'\n",
    "    )\n",
    ")\n",
    "trace2 = go.Scatter(\n",
    "    x=list(range(784)),\n",
    "    y= var_exp,\n",
    "    mode='lines+markers',\n",
    "    name=\"'Individual Explained Variance'\",\n",
    "#     hoverinfo= var_exp,\n",
    "    line=dict(\n",
    "        shape='linear',\n",
    "        color = 'black'\n",
    "    )\n",
    ")\n",
    "fig = tls.make_subplots(insets=[{'cell': (1,1), 'l': 0.7, 'b': 0.5}],\n",
    "                          print_grid=True)\n",
    "\n",
    "fig.append_trace(trace1, 1, 1)\n",
    "fig.append_trace(trace2,1,1)\n",
    "fig.layout.title = 'Explained Variance plots - Full and Zoomed-in'\n",
    "fig.layout.xaxis = dict(range=[0, 80], title = 'Feature columns')\n",
    "fig.layout.yaxis = dict(range=[0, 60], title = 'Explained Variance')\n",
    "# fig['data'] = []\n",
    "# fig['data'].append(go.Scatter(x= list(range(784)) , y=cum_var_exp, xaxis='x2', yaxis='y2', name = 'Cumulative Explained Variance'))\n",
    "# fig['data'].append(go.Scatter(x= list(range(784)) , y=cum_var_exp, xaxis='x2', yaxis='y2', name = 'Cumulative Explained Variance'))\n",
    "\n",
    "# fig['data'] = go.Scatter(x= list(range(784)) , y=cum_var_exp, xaxis='x2', yaxis='y2', name = 'Cumulative Explained Variance')]\n",
    "# fig['data'] += [go.Scatter(x=list(range(784)), y=var_exp, xaxis='x2', yaxis='y2',name = 'Individual Explained Variance')]\n",
    "\n",
    "# # fig['data'] = data\n",
    "# # fig['layout'] = layout\n",
    "# # fig['data'] += data2\n",
    "# # fig['layout'] += layout2\n",
    "# py.iplot(fig, filename='inset example')"
   ]
  },
  {
   "cell_type": "markdown",
   "metadata": {
    "_cell_guid": "31ecbb1a-c10e-696b-1367-00cca3af1ce2",
    "_uuid": "ec573d8f4cdec34b175175bd1b2c7046d37dedf3"
   },
   "source": [
    "*PLEASE CLICK AND MOVE THE SCATTER PLOTS ABOVE. THEY ARE INTERACTIVE. DOUBLE CLICK TO GET BACK TO THE ORIGINAL VIEW*"
   ]
  },
  {
   "cell_type": "markdown",
   "metadata": {
    "_cell_guid": "a5e0c94e-e947-e69e-6856-70a65b17226b",
    "_uuid": "044e8a973587d22ed711c6fd59d6ba3aa58b5d84"
   },
   "source": [
    "**Takeaway from the Plot**\n",
    "\n",
    "There are two plots above, a smaller one embedded within the larger plot. The smaller plot ( Green and Red) shows the distribution of the Individual and Explained variances across all features while the larger plot ( Golden and black ) portrays a zoomed section of the explained variances only.\n",
    "\n",
    "As we can see, out of our 784 features or columns approximately 90% of the Explained Variance can be described by using just over 200 over features. So if one wanted to implement a PCA on this, extracting the top 200 features would be a very logical choice as they already account for the majority of the data.\n",
    "In the section below, I will use the immensely powerful Sklearn toolkit and its built-in PCA method. Unfortunately for brevity I will not be covering how to implement PCA from scratch, partly due to the multitude of resources already available. One excellent article to check out for this would be:\n",
    "\n",
    "[Principal Component Analysis in 3 Simple Steps][1] by Sebastian Raschka \n",
    "\n",
    "  [1]: http://sebastianraschka.com/Articles/2015_pca_in_3_steps.html"
   ]
  },
  {
   "cell_type": "markdown",
   "metadata": {
    "_cell_guid": "2b275af4-75f0-c8c9-6290-6915aca59f32",
    "_uuid": "a22ad858c0ed030f0d7ccb3628d7250107f06017"
   },
   "source": [
    "**Visualizing the Eigenvalues**\n",
    "\n",
    "As alluded to above, since the PCA method seeks to obtain the optimal directions (or eigenvectors) that captures the most variance ( spreads out the data points the most ). Therefore it may be informative ( and cool) to visualise these directions and their associated eigenvalues. For the purposes of this notebook and for speed, I will invoke PCA to only extract the top 30 eigenvalues ( using Sklearn's .components_ call) from the digit dataset and visually compare the top 5 eigenvalues to some of the other smaller ones to see if we can glean any insights as follows:"
   ]
  },
  {
   "cell_type": "code",
   "execution_count": null,
   "metadata": {
    "_cell_guid": "fbadd9b0-7ded-4123-5305-bc4efa1f442d",
    "_execution_state": "idle",
    "_uuid": "0a0258f5ceb12a3bb479854b1eee7f49d77929c0",
    "trusted": true
   },
   "outputs": [],
   "source": [
    "# Invoke SKlearn's PCA method\n",
    "n_components = 30\n",
    "pca = PCA(n_components=n_components).fit(train.values)\n",
    "\n",
    "eigenvalues = pca.components_.reshape(n_components, 28, 28)\n",
    "\n",
    "# Extracting the PCA components ( eignevalues )\n",
    "#eigenvalues = pca.components_.reshape(n_components, 28, 28)\n",
    "eigenvalues = pca.components_"
   ]
  },
  {
   "cell_type": "code",
   "execution_count": null,
   "metadata": {
    "_cell_guid": "8a416e93-6c34-77c5-46df-0bacffa85d79",
    "_execution_state": "idle",
    "_uuid": "2009f34b080f277f960d33659d8e10d5e5e2b699",
    "trusted": true
   },
   "outputs": [],
   "source": [
    "n_row = 4\n",
    "n_col = 7\n",
    "\n",
    "# Plot the first 8 eignenvalues\n",
    "plt.figure(figsize=(13,12))\n",
    "for i in list(range(n_row * n_col)):\n",
    "    offset =0\n",
    "    plt.subplot(n_row, n_col, i + 1)\n",
    "    plt.imshow(eigenvalues[i].reshape(28,28), cmap='jet')\n",
    "    title_text = 'Eigenvalue ' + str(i + 1)\n",
    "    plt.title(title_text, size=6.5)\n",
    "    plt.xticks(())\n",
    "    plt.yticks(())\n",
    "plt.show()"
   ]
  },
  {
   "cell_type": "markdown",
   "metadata": {
    "_cell_guid": "b9e9a313-512f-9447-b2be-9d6ba24a1fab",
    "_uuid": "8540cc2b0fe3bf8cbb68c291a0dd5932c86083ad"
   },
   "source": [
    "**Takeaway from the Plots**\n",
    "\n",
    "The subplots above portray the top 30 optimal directions or principal component axes that the PCA method has decided to generate for our digit dataset. Of interest is when one compares the first component \"Eigenvalue 1\" to the 28th component \"Eigenvalue 28\", it is obvious that more complicated directions or components are being generated in the search to maximise variance in the new feature subspace."
   ]
  },
  {
   "cell_type": "markdown",
   "metadata": {
    "_cell_guid": "c99fd7fe-ac7f-3587-9d63-94b8d117ef0b",
    "_uuid": "2999204986538d328107e3bfc84daa74a46653e4"
   },
   "source": [
    "**Visualising the MNIST Digit set on its own**\n",
    "\n",
    "Now just for the fun and curiosity of it, let's plot the actual MNIST digit set to see what the underlying dataset actually represents, rather than being caught up with just looking at 1 and 0's."
   ]
  },
  {
   "cell_type": "code",
   "execution_count": null,
   "metadata": {
    "_cell_guid": "5782183e-6370-302e-fe43-d5641f6b0463",
    "_uuid": "ea560c57efd0c57948d2ecbd2ac19eb4008a27b9",
    "trusted": true
   },
   "outputs": [],
   "source": [
    "# plot some of the numbers\n",
    "plt.figure(figsize=(14,12))\n",
    "for digit_num in range(0,70):\n",
    "    plt.subplot(7,10,digit_num+1)\n",
    "    grid_data = train.iloc[digit_num].as_matrix().reshape(28,28)  # reshape from 1d to 2d pixel array\n",
    "    plt.imshow(grid_data, interpolation = \"none\", cmap = \"afmhot\")\n",
    "    plt.xticks([])\n",
    "    plt.yticks([])\n",
    "plt.tight_layout()"
   ]
  },
  {
   "cell_type": "markdown",
   "metadata": {
    "_cell_guid": "08b6de1e-2527-9728-462d-aa523e6c6444",
    "_uuid": "599261d28d78a8996fabfb025c69401ccaf4b270"
   },
   "source": [
    "Phew, they are definitely digits all right. So let's proceed onto the main event."
   ]
  },
  {
   "cell_type": "markdown",
   "metadata": {
    "_cell_guid": "e397d459-99cf-553c-e546-de4a40189274",
    "_uuid": "a78027bf4d6eef8067e1a8c27ed1181255fe35cf"
   },
   "source": [
    "###PCA Implementation via Sklearn\n",
    "\n",
    "Now using the Sklearn toolkit, we implement the Principal Component Analysis algorithm as follows:"
   ]
  },
  {
   "cell_type": "code",
   "execution_count": null,
   "metadata": {
    "_cell_guid": "de0e84b4-a031-3d0d-cb13-e782345984bc",
    "_uuid": "710528b4eef44b1fa2475a0f6d688b55c7ab2a24",
    "trusted": true
   },
   "outputs": [],
   "source": [
    "# Delete our earlier created X object\n",
    "del X\n",
    "# Taking only the first N rows to speed things up\n",
    "X= train[:6000].values\n",
    "del train\n",
    "# Standardising the values\n",
    "X_std = StandardScaler().fit_transform(X)\n",
    "\n",
    "# Call the PCA method with 5 components. \n",
    "pca = PCA(n_components=5)\n",
    "pca.fit(X_std)\n",
    "X_5d = pca.transform(X_std)\n",
    "\n",
    "# For cluster coloring in our Plotly plots, remember to also restrict the target values \n",
    "Target = target[:6000]"
   ]
  },
  {
   "cell_type": "markdown",
   "metadata": {
    "_cell_guid": "055bc33a-a723-ee81-0486-bf60b0009c7b",
    "_uuid": "e339b0bb6e5a0a959882a7fd42d672cf27731549"
   },
   "source": [
    "What the chunk of code does above is to first normalise the data (actually no need to do so for this data set as they are all 1's and 0's) using Sklearn's convenient StandardScaler call.\n",
    "\n",
    "Next we invoke Sklearn's inbuilt PCA function by providing into its argument *n_components*, the number of components/dimensions we would like to project the data onto. In practise, one would educate and motivate the choice of components for example by looking at the proportion of variance captured vs each feature's eigenvalue, such as in our Explained Variance plots. To be honest, there are a multitude of papers in the literature with research on what should be a good indicator on choice of components. Here are some references for the interested: However for the essence of this notebook being a guide of sorts, I have just decided to take a PCA on 5 components ( against perhaps taking 200 over components).\n",
    "\n",
    "Finally I call both fit and transform methods which fits the PCA model with the standardised digit data set and then does a transformation by applying the dimensionality reduction on the data."
   ]
  },
  {
   "cell_type": "markdown",
   "metadata": {
    "_cell_guid": "71ae5da5-57a1-51b3-0cfb-0b446d9513ce",
    "_uuid": "7606ae9da733df4fce38d641bb11b318c10dd85e"
   },
   "source": [
    "###Interactive visualisations of PCA representation\n",
    "\n",
    "When it comes to these dimensionality reduction methods, scatter plots are most commonly implemented because they allow for great and convenient visualisations of clustering ( if any existed ) and this will be exactly what we will be doing as we plot the first 2 principal components as follows:"
   ]
  },
  {
   "cell_type": "code",
   "execution_count": null,
   "metadata": {
    "_cell_guid": "e3beda90-8af6-2491-9c30-ee4a6cbd171c",
    "_uuid": "0d36b2e6443b3e1744eba21e2f4c0e399d7ece20",
    "trusted": true
   },
   "outputs": [],
   "source": [
    "trace0 = go.Scatter(\n",
    "    x = X_5d[:,0],\n",
    "    y = X_5d[:,1],\n",
    "#     name = Target,\n",
    "#     hoveron = Target,\n",
    "    mode = 'markers',\n",
    "    text = Target,\n",
    "    showlegend = False,\n",
    "    marker = dict(\n",
    "        size = 8,\n",
    "        color = Target,\n",
    "        colorscale ='Jet',\n",
    "        showscale = False,\n",
    "        line = dict(\n",
    "            width = 2,\n",
    "            color = 'rgb(255, 255, 255)'\n",
    "        ),\n",
    "        opacity = 0.8\n",
    "    )\n",
    ")\n",
    "data = [trace0]\n",
    "\n",
    "layout = go.Layout(\n",
    "    title= 'Principal Component Analysis (PCA)',\n",
    "    hovermode= 'closest',\n",
    "    xaxis= dict(\n",
    "         title= 'First Principal Component',\n",
    "        ticklen= 5,\n",
    "        zeroline= False,\n",
    "        gridwidth= 2,\n",
    "    ),\n",
    "    yaxis=dict(\n",
    "        title= 'Second Principal Component',\n",
    "        ticklen= 5,\n",
    "        gridwidth= 2,\n",
    "    ),\n",
    "    showlegend= True\n",
    ")\n",
    "\n",
    "\n",
    "fig = dict(data=data, layout=layout)\n",
    "py.iplot(fig, filename='styled-scatter')"
   ]
  },
  {
   "cell_type": "markdown",
   "metadata": {
    "_cell_guid": "a00e1f9a-b6d9-2d33-f3aa-f0c1498bc3ab",
    "_uuid": "ccfcc18ad5a030322423a229e3f86a75e904244b"
   },
   "source": [
    "*PLEASE CLICK AND MOVE THE SCATTER PLOTS ABOVE. THEY ARE INTERACTIVE. DOUBLE CLICK TO GET BACK TO THE ORIGINAL VIEW*"
   ]
  },
  {
   "cell_type": "markdown",
   "metadata": {
    "_cell_guid": "60b92aaf-2a4b-d6cf-c619-5950c1c24aa1",
    "_uuid": "21e744544e883f5a1f8d7f87bb349c22fb1bb86b"
   },
   "source": [
    "**Takeaway from the Plot**\n",
    "\n",
    "As observed from the scatter plot, you can just about make out a few discernible clusters evinced from the collective blotches of colors. These clusters represent the underlying digit that each data point should contribute to and one may therefore be tempted to think that it was quite a piece of cake in implementing and visualising PCA in this section.\n",
    "\n",
    "However, the devil lies in the tiny details of the python implementation because as alluded to earlier, PCA is actually in fact an unsupervised method which does not depend on class labels. I have sneakily snuck in class labelings whilst generating the scatter plots therefore resulting in the clusters of colours as you see them."
   ]
  },
  {
   "cell_type": "markdown",
   "metadata": {
    "_cell_guid": "dd4ed15c-3fb1-4dc0-b897-dbfb34227aec",
    "_uuid": "e4dcc3eac49185a8cb14f76286fe6920f577d249"
   },
   "source": [
    "###K-Means Clustering to identify possible classes\n",
    "\n",
    "Imagine just for a moment that we were not provided with the class labels to this digit set because after all PCA is an unsupervised method. Therefore how would we be able to separate out our data points in the new feature space? We can apply a clustering algorithm on our new PCA projection data and hopefully arrive at distinct clusters which would tell us something about the underlying class separation in the data. \n",
    "\n",
    "To start off, we set up a KMeans clustering method with Sklearn's *KMeans* call and use the *fit_predict* method to compute cluster centers and predict cluster indices for the first and second PCA projections (to see if we can observe any appreciable clusters)."
   ]
  },
  {
   "cell_type": "code",
   "execution_count": null,
   "metadata": {
    "_cell_guid": "f936510e-920f-ab32-952d-3ae28b86a2e3",
    "_uuid": "8034c5a96dfa75f9f2b76f86289e2ac36887b372",
    "trusted": true
   },
   "outputs": [],
   "source": [
    "from sklearn.cluster import KMeans # KMeans clustering \n",
    "# Set a KMeans clustering with 9 components ( 9 chosen sneakily ;) as hopefully we get back our 9 class labels)\n",
    "kmeans = KMeans(n_clusters=9)\n",
    "# Compute cluster centers and predict cluster indices\n",
    "X_clustered = kmeans.fit_predict(X_5d)\n",
    "\n",
    "trace_Kmeans = go.Scatter(x=X_5d[:, 0], y= X_5d[:, 1], mode=\"markers\",\n",
    "                    showlegend=False,\n",
    "                    marker=dict(\n",
    "                            size=8,\n",
    "                            color = X_clustered,\n",
    "                            colorscale = 'Portland',\n",
    "                            showscale=False, \n",
    "                            line = dict(\n",
    "            width = 2,\n",
    "            color = 'rgb(255, 255, 255)'\n",
    "        )\n",
    "                   ))\n",
    "\n",
    "layout = go.Layout(\n",
    "    title= 'KMeans Clustering',\n",
    "    hovermode= 'closest',\n",
    "    xaxis= dict(\n",
    "         title= 'First Principal Component',\n",
    "        ticklen= 5,\n",
    "        zeroline= False,\n",
    "        gridwidth= 2,\n",
    "    ),\n",
    "    yaxis=dict(\n",
    "        title= 'Second Principal Component',\n",
    "        ticklen= 5,\n",
    "        gridwidth= 2,\n",
    "    ),\n",
    "    showlegend= True\n",
    ")\n",
    "\n",
    "data = [trace_Kmeans]\n",
    "fig1 = dict(data=data, layout= layout)\n",
    "# fig1.append_trace(contour_list)\n",
    "py.iplot(fig1, filename=\"svm\")"
   ]
  },
  {
   "cell_type": "markdown",
   "metadata": {
    "_cell_guid": "ba5dda9f-bb59-9d3b-bdee-05ca234f2dea",
    "_uuid": "d56a803caa184b448251f2049b49a242f309d207"
   },
   "source": [
    "**Takeaway from the Plot**\n",
    "\n",
    "Visually, the clusters generated by the KMeans algorithm appear to provide a clearer demarcation amongst clusters as compared to naively adding in class labels into our PCA projections. This should come as no surprise as PCA is meant to be an unsupervised method and therefore not optimised for separating different class labels. This particular task however is accomplished by the very next method that we will talk about."
   ]
  },
  {
   "cell_type": "markdown",
   "metadata": {
    "_cell_guid": "d95e7384-75bf-4bd7-957a-bb5b976d2cda",
    "_uuid": "a4b09ba3598d504c2af5d68d372c0683e1b2114b"
   },
   "source": [
    "# 2. Linear Discriminant Analysis (LDA)\n",
    "\n",
    "LDA, much like PCA is also a linear transformation method commonly used in dimensionality reduction tasks. However unlike the latter which is an unsupervised learning algorithm, LDA falls into the class of supervised learning methods. As such the goal of LDA is that with available information about class labels, LDA will seek to maximise the separation between the different classes by computing the component axes (linear discriminants ) which does this."
   ]
  },
  {
   "cell_type": "code",
   "execution_count": null,
   "metadata": {
    "_cell_guid": "4a6f6d80-45e8-2ba6-ae30-2dc002a370da",
    "_uuid": "edeb0f15442865f9afedd0dcaaa26d63239b2c9d",
    "trusted": true
   },
   "outputs": [],
   "source": [
    "from IPython.display import display, Math, Latex"
   ]
  },
  {
   "cell_type": "markdown",
   "metadata": {
    "_cell_guid": "05107565-572f-8bc6-fb44-d90561ff4f7e",
    "_uuid": "5b6d1ee2d07016d8894c7df6e0b07f13ed2ef9ec"
   },
   "source": [
    "### LDA Implementation from Scratch\n",
    "\n",
    "The objective of LDA is to preserve the class separation information whilst still  reducing the dimensions of the dataset. As such implementing the method from scratch can roughly be split into 4 distinct stages as below. As an aside, since this section will be quite equation heavy therefore we will also be embedding some mathematical equations into the upcoming sections. The good thing about IPython notebook is that you can render your equations (LaTeX) automatically by putting them within the **$$** symbol, courtesy of the use of MathJax - a JavaScript equation display engine.\n",
    "\n",
    "**A. Projected Means**\n",
    "\n",
    "Since this method was designed to take into account class labels we therefore first need to establish a suitable metric with which to measure the 'distance' or separation between different classes. Let's assume that we have a set of data points *x* that belong to one particular class *w*. Therefore in LDA the first step is to the project these points onto a new line, Y that contains the class-specific information via the transformation  \n",
    "\n",
    "$$Y = \\omega^\\intercal x $$\n",
    "\n",
    "With this the idea is to find some method that maximises the separation of these new projected variables. To do so, we first calculate the projected mean.\n",
    "\n",
    "**B.  Scatter Matrices and their solutions**\n",
    "Having introduced our projected means, we now need to find a function that can represent the difference between the means and then maximise it. Like in linear regression, where the most basic case is to find the line of best fit we need to find the equivalent of the variance in this context. And hence this is where we introduce scatter matrices where the scatter is the equivalent of the variance.\n",
    "\n",
    "$$ \\tilde{S}^{2} = (y - \\tilde{mu})^{2}$$\n",
    "\n",
    "\n",
    "**C.  Selecting Optimal Projection Matrices**\n",
    "\n",
    "**D.  Transforming features onto new subspace**"
   ]
  },
  {
   "cell_type": "markdown",
   "metadata": {
    "_cell_guid": "c4608299-d551-758a-0759-d7cd09bb7bed",
    "_uuid": "f5b2bda1a9e24b739332426c64c225a2ff903f6a"
   },
   "source": [
    "*SECTION STILL UNDER-WAY*"
   ]
  },
  {
   "cell_type": "markdown",
   "metadata": {
    "_cell_guid": "58b10a24-b7ae-f62d-d879-62283b2e70e9",
    "_uuid": "d2cd51cad2d47f771c07350fde71d893040a50fb"
   },
   "source": [
    "###LDA Implementation via Sklearn\n",
    "\n",
    "Having gone through the nitty-gritty details of the LDA implementation in theory, let us now implement the method in practise. Surprise, surprise we find that the Sklearn toolkit also comes with its own inbuilt LDA function and hence we invoke an LDA model as follows:"
   ]
  },
  {
   "cell_type": "code",
   "execution_count": null,
   "metadata": {
    "_cell_guid": "0007390c-f795-3c20-c100-56bb8d8a98b6",
    "_uuid": "1257fba566db293d32a9c108827f538406efd657",
    "trusted": true
   },
   "outputs": [],
   "source": [
    "lda = LDA(n_components=5)\n",
    "# Taking in as second argument the Target as labels\n",
    "X_LDA_2D = lda.fit_transform(X_std, Target.values )"
   ]
  },
  {
   "cell_type": "markdown",
   "metadata": {
    "_cell_guid": "8bea4e96-efb5-5229-de62-aaebeaa3a3e4",
    "_uuid": "5c641d7989fbf1ad7d193f664134f61b72dc7772"
   },
   "source": [
    "The syntax for the LDA implementation is very much akin to that of PCA whereby one calls the fit and transform methods which fits the LDA model with the data and then does a transformation by applying the LDA dimensionality reduction to it. However since LDA is a supervised learning algorithm , there is a second argument to the method that the user must provide and this would be the class labels, which in this case is the target labels of the digits."
   ]
  },
  {
   "cell_type": "markdown",
   "metadata": {
    "_cell_guid": "e2937679-f1ac-70d8-0d8c-c1b406a00607",
    "_uuid": "9da97173a301b123a681607caeca5b52edb8dd0b"
   },
   "source": [
    "###Interactive visualisations of LDA representation"
   ]
  },
  {
   "cell_type": "code",
   "execution_count": null,
   "metadata": {
    "_cell_guid": "27306c3e-5e63-a2fb-e448-4a7e2bdd46c3",
    "_uuid": "97be08521701f2981a8d84c8b402b18ff816989b",
    "trusted": true
   },
   "outputs": [],
   "source": [
    "8# Using the Plotly library again\n",
    "traceLDA = go.Scatter(\n",
    "    x = X_LDA_2D[:,0],\n",
    "    y = X_LDA_2D[:,1],\n",
    "#     name = Target,\n",
    "#     hoveron = Target,\n",
    "    mode = 'markers',\n",
    "    text = Target,\n",
    "    showlegend = True,\n",
    "    marker = dict(\n",
    "        size = 8,\n",
    "        color = Target,\n",
    "        colorscale ='Jet',\n",
    "        showscale = False,\n",
    "        line = dict(\n",
    "            width = 2,\n",
    "            color = 'rgb(255, 255, 255)'\n",
    "        ),\n",
    "        opacity = 0.8\n",
    "    )\n",
    ")\n",
    "data = [traceLDA]\n",
    "\n",
    "layout = go.Layout(\n",
    "    title= 'Linear Discriminant Analysis (LDA)',\n",
    "    hovermode= 'closest',\n",
    "    xaxis= dict(\n",
    "         title= 'First Linear Discriminant',\n",
    "        ticklen= 5,\n",
    "        zeroline= False,\n",
    "        gridwidth= 2,\n",
    "    ),\n",
    "    yaxis=dict(\n",
    "        title= 'Second Linear Discriminant',\n",
    "        ticklen= 5,\n",
    "        gridwidth= 2,\n",
    "    ),\n",
    "    showlegend= False\n",
    ")\n",
    "\n",
    "fig = dict(data=data, layout=layout)\n",
    "py.iplot(fig, filename='styled-scatter')"
   ]
  },
  {
   "cell_type": "markdown",
   "metadata": {
    "_cell_guid": "c584b009-4da0-435d-2c07-ba7c6a68f0c4",
    "_uuid": "72bda03b8436a71318007a1d6633c173a3eeab55"
   },
   "source": [
    "*PLEASE CLICK AND MOVE THE SCATTER PLOTS ABOVE. THEY ARE INTERACTIVE. DOUBLE CLICK TO GET BACK TO THE ORIGINAL VIEW*"
   ]
  },
  {
   "cell_type": "markdown",
   "metadata": {
    "_cell_guid": "586ee60c-6fc0-bd09-7538-76e89a8b6112",
    "_uuid": "4118f7aaeea3aa1c38c63b1364224f08f6d025d8"
   },
   "source": [
    "From the scatter plot above, we can see that the data points are more clearly clustered when using LDA with as compared to implementing PCA with class labels. This is an inherent advantage in having class labels to supervise the method with. In short picking the right tool for the right job."
   ]
  },
  {
   "cell_type": "markdown",
   "metadata": {
    "_cell_guid": "2b82a157-9ed2-434d-f0d2-bc4ce2d7dd35",
    "_uuid": "4ce19a7210f72ca995209cb7cb308a8eb38c5940"
   },
   "source": [
    "#3. T-SNE ( t-Distributed Stochastic Neighbour Embedding )\n",
    "\n",
    "The t-SNE method has become widely popular ever since it was introduced by van der Maaten and Hinton in 2008. Unlike the previous two linear methods of PCA and LDA discussed above, t-SNE is a non-linear, probabilistic dimensionality reduction method.\n",
    "\n",
    "The internal mechanisms of the algorithm \n",
    "Therefore instead of looking at directions/axes which maximise information or class separation, T-SNE aims to convert the Euclidean distances between points into conditional probabilities. A Student-t distribution is then applied on these probabilities which serve as metrics to calculate the similarity between one datapoint to another. \n",
    "\n",
    "However this brief summary does no justice in any manner or shape to the original t-SNE paper by Maaten and Hinton so please do check the original out [here][1].\n",
    "\n",
    "  [1]: http://www.cs.toronto.edu/~hinton/absps/tsne.pdf"
   ]
  },
  {
   "cell_type": "code",
   "execution_count": null,
   "metadata": {
    "_cell_guid": "b5014801-7844-c15a-ba52-0b56db349bfc",
    "_uuid": "a0ec94827504c34633463548a25e043dc5df0cca",
    "trusted": true
   },
   "outputs": [],
   "source": [
    "# Invoking the t-SNE method\n",
    "tsne = TSNE(n_components=2)\n",
    "tsne_results = tsne.fit_transform(X_std) "
   ]
  },
  {
   "cell_type": "markdown",
   "metadata": {
    "_cell_guid": "b5a3b5ce-1f73-38d8-c796-85781af080ba",
    "_uuid": "80b3d48e65b0ca81a5348151890ae91a95db4570"
   },
   "source": [
    "Having invoked the t-SNE algorithm by simply calling *TSNE()* we fit the digit data to the model and reduce its dimensions with *fit_transform*. Finally let's plot the first two components in the new feature space in a scatter plot"
   ]
  },
  {
   "cell_type": "code",
   "execution_count": null,
   "metadata": {
    "_cell_guid": "a7ac8bb6-f011-1a9f-df75-6c701d6a4d72",
    "_uuid": "9e20d7ce20113cbee610e974c8c16590ec8e7a1c",
    "trusted": true
   },
   "outputs": [],
   "source": [
    "traceTSNE = go.Scatter(\n",
    "    x = tsne_results[:,0],\n",
    "    y = tsne_results[:,1],\n",
    "    name = Target,\n",
    "     hoveron = Target,\n",
    "    mode = 'markers',\n",
    "    text = Target,\n",
    "    showlegend = True,\n",
    "    marker = dict(\n",
    "        size = 8,\n",
    "        color = Target,\n",
    "        colorscale ='Jet',\n",
    "        showscale = False,\n",
    "        line = dict(\n",
    "            width = 2,\n",
    "            color = 'rgb(255, 255, 255)'\n",
    "        ),\n",
    "        opacity = 0.8\n",
    "    )\n",
    ")\n",
    "data = [traceTSNE]\n",
    "\n",
    "layout = dict(title = 'TSNE (T-Distributed Stochastic Neighbour Embedding)',\n",
    "              hovermode= 'closest',\n",
    "              yaxis = dict(zeroline = False),\n",
    "              xaxis = dict(zeroline = False),\n",
    "              showlegend= False,\n",
    "\n",
    "             )\n",
    "\n",
    "fig = dict(data=data, layout=layout)\n",
    "py.iplot(fig, filename='styled-scatter')"
   ]
  },
  {
   "cell_type": "markdown",
   "metadata": {
    "_cell_guid": "1fb052f0-b629-c64f-6fc9-599d03b6e427",
    "_uuid": "ee5d09d5e1e441bdca9f649d828650b58f7e31ba"
   },
   "source": [
    "*PLEASE CLICK AND MOVE THE SCATTER PLOTS ABOVE. THEY ARE INTERACTIVE. DOUBLE CLICK TO GET BACK TO THE ORIGINAL VIEW*"
   ]
  },
  {
   "cell_type": "markdown",
   "metadata": {
    "_cell_guid": "60ec5748-d1cc-2ace-8ef3-3e52a6e4647b",
    "_uuid": "4de036df06c419a2bcb00f08182b87f7fabfda11"
   },
   "source": [
    "**Takeaway from the Plots**\n",
    "\n",
    "From the t-SNE scatter plot the first thing that strikes is that clusters ( and even subclusters ) are very well defined and segregated resulting in Jackson-Pollock like Modern Art visuals, even more so than the PCA and LDA methods. This ability to provide very good cluster visualisations can be boiled down to the topology-preserving attributes of the algorithm. \n",
    "\n",
    "However t-SNE is not without its drawbacks. Multiple local minima may occur as the algorithm is identifying clusters/sub-clusters and this can be evinced from the scatter plot, where we can see that clusters of the same colour exist as 2 sub-clusters in different areas of the plot."
   ]
  },
  {
   "cell_type": "markdown",
   "metadata": {
    "_cell_guid": "8a4ff611-c401-9919-8faf-27d5b311a5db",
    "_uuid": "3b3d1bd37e10e27a7cbdd2a9aedb7cd68b5b6436"
   },
   "source": [
    "# Concluding Remarks\n",
    "\n",
    "In conclusion, this notebook has introduced and briefly covered three different dimensionality reduction methods commonly used by ML practitioners - PCA, LDA and t-SNE. We touched on the concepts of finding principal components and linear discriminants as well as the topology preserving capabilities of t-SNE. We've also discussed the relative merits of using supervised and unsupervised methods as well as the KMeans clustering technique when it comes to an unsupervised scenario.  \n",
    "\n",
    "Apart from these three common reduction methods, there exists a whole host of other dimensionality reduction methods not discussed in this notebook. Just to name a few, they include methods like Sammon's Mapping, Multi-dimensional Scaling or even some graph based visualisation methods.  \n",
    "\n",
    "I hope this notebook has been useful especially with regards to introducing the concepts of dimensionality reduction if it is new to you. And the key takeaway would be that each method has its own pros and cons and are not to be used as a one-size-fits-all/I-will-only-use-my-favourite method but rather to be implemented as the situation calls for it. \n",
    "\n",
    "Peace out "
   ]
  }
 ],
 "metadata": {
  "_change_revision": 0,
  "_is_fork": false,
  "kaggle": {
   "accelerator": "none",
   "dataSources": [
    {
     "databundleVersionId": 861823,
     "sourceId": 3004,
     "sourceType": "competition"
    }
   ],
   "dockerImageVersionId": 11105,
   "isGpuEnabled": false,
   "isInternetEnabled": false,
   "language": "python",
   "sourceType": "notebook"
  },
  "kernelspec": {
   "display_name": "Python 3",
   "language": "python",
   "name": "python3"
  },
  "language_info": {
   "codemirror_mode": {
    "name": "ipython",
    "version": 3
   },
   "file_extension": ".py",
   "mimetype": "text/x-python",
   "name": "python",
   "nbconvert_exporter": "python",
   "pygments_lexer": "ipython3",
   "version": "3.12.11"
  }
 },
 "nbformat": 4,
 "nbformat_minor": 4
}
