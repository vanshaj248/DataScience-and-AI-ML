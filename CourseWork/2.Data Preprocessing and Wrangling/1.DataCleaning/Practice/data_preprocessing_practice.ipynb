{
 "cells": [
  {
   "cell_type": "markdown",
   "id": "b3213080",
   "metadata": {},
   "source": [
    "# 🧹 Data Preprocessing Practice Notebook\n",
    "This notebook will help you practice key data cleaning and preprocessing steps."
   ]
  },
  {
   "cell_type": "markdown",
   "id": "30d948bd",
   "metadata": {},
   "source": [
    "## 1. Load Dataset"
   ]
  },
  {
   "cell_type": "code",
   "execution_count": 2,
   "id": "f63733d4",
   "metadata": {},
   "outputs": [
    {
     "data": {
      "application/vnd.microsoft.datawrangler.viewer.v0+json": {
       "columns": [
        {
         "name": "index",
         "rawType": "int64",
         "type": "integer"
        },
        {
         "name": "id",
         "rawType": "int64",
         "type": "integer"
        },
        {
         "name": "name",
         "rawType": "object",
         "type": "string"
        },
        {
         "name": "age",
         "rawType": "float64",
         "type": "float"
        },
        {
         "name": "salary",
         "rawType": "float64",
         "type": "float"
        },
        {
         "name": "joining_date",
         "rawType": "object",
         "type": "string"
        },
        {
         "name": "gender",
         "rawType": "object",
         "type": "string"
        },
        {
         "name": "city",
         "rawType": "object",
         "type": "string"
        }
       ],
       "ref": "c85f4592-e69c-4e47-b4d3-827f4d04fbba",
       "rows": [
        [
         "0",
         "1",
         "Alice",
         "25.0",
         "50000.0",
         "2020-01-10",
         "Male",
         "New York"
        ],
        [
         "1",
         "2",
         "Bob",
         null,
         "60000.0",
         "01/15/2021",
         "M",
         "new york"
        ],
        [
         "2",
         "3",
         "Charlie",
         "35.0",
         null,
         "March 5, 2021",
         "male",
         "NEW YORK"
        ],
        [
         "3",
         "4",
         "alice",
         "45.0",
         "80000.0",
         "2021-04-12",
         "Female",
         "Los Angeles"
        ],
        [
         "4",
         "5",
         "BOB",
         "200.0",
         "1200000.0",
         "12-05-2021",
         "F",
         "los angeles"
        ]
       ],
       "shape": {
        "columns": 7,
        "rows": 5
       }
      },
      "text/html": [
       "<div>\n",
       "<style scoped>\n",
       "    .dataframe tbody tr th:only-of-type {\n",
       "        vertical-align: middle;\n",
       "    }\n",
       "\n",
       "    .dataframe tbody tr th {\n",
       "        vertical-align: top;\n",
       "    }\n",
       "\n",
       "    .dataframe thead th {\n",
       "        text-align: right;\n",
       "    }\n",
       "</style>\n",
       "<table border=\"1\" class=\"dataframe\">\n",
       "  <thead>\n",
       "    <tr style=\"text-align: right;\">\n",
       "      <th></th>\n",
       "      <th>id</th>\n",
       "      <th>name</th>\n",
       "      <th>age</th>\n",
       "      <th>salary</th>\n",
       "      <th>joining_date</th>\n",
       "      <th>gender</th>\n",
       "      <th>city</th>\n",
       "    </tr>\n",
       "  </thead>\n",
       "  <tbody>\n",
       "    <tr>\n",
       "      <th>0</th>\n",
       "      <td>1</td>\n",
       "      <td>Alice</td>\n",
       "      <td>25.0</td>\n",
       "      <td>50000.0</td>\n",
       "      <td>2020-01-10</td>\n",
       "      <td>Male</td>\n",
       "      <td>New York</td>\n",
       "    </tr>\n",
       "    <tr>\n",
       "      <th>1</th>\n",
       "      <td>2</td>\n",
       "      <td>Bob</td>\n",
       "      <td>NaN</td>\n",
       "      <td>60000.0</td>\n",
       "      <td>01/15/2021</td>\n",
       "      <td>M</td>\n",
       "      <td>new york</td>\n",
       "    </tr>\n",
       "    <tr>\n",
       "      <th>2</th>\n",
       "      <td>3</td>\n",
       "      <td>Charlie</td>\n",
       "      <td>35.0</td>\n",
       "      <td>NaN</td>\n",
       "      <td>March 5, 2021</td>\n",
       "      <td>male</td>\n",
       "      <td>NEW YORK</td>\n",
       "    </tr>\n",
       "    <tr>\n",
       "      <th>3</th>\n",
       "      <td>4</td>\n",
       "      <td>alice</td>\n",
       "      <td>45.0</td>\n",
       "      <td>80000.0</td>\n",
       "      <td>2021-04-12</td>\n",
       "      <td>Female</td>\n",
       "      <td>Los Angeles</td>\n",
       "    </tr>\n",
       "    <tr>\n",
       "      <th>4</th>\n",
       "      <td>5</td>\n",
       "      <td>BOB</td>\n",
       "      <td>200.0</td>\n",
       "      <td>1200000.0</td>\n",
       "      <td>12-05-2021</td>\n",
       "      <td>F</td>\n",
       "      <td>los angeles</td>\n",
       "    </tr>\n",
       "  </tbody>\n",
       "</table>\n",
       "</div>"
      ],
      "text/plain": [
       "   id     name    age     salary   joining_date  gender         city\n",
       "0   1    Alice   25.0    50000.0     2020-01-10    Male     New York\n",
       "1   2      Bob    NaN    60000.0     01/15/2021       M     new york\n",
       "2   3  Charlie   35.0        NaN  March 5, 2021    male     NEW YORK\n",
       "3   4    alice   45.0    80000.0     2021-04-12  Female  Los Angeles\n",
       "4   5      BOB  200.0  1200000.0     12-05-2021       F  los angeles"
      ]
     },
     "execution_count": 2,
     "metadata": {},
     "output_type": "execute_result"
    }
   ],
   "source": [
    "import pandas as pd\n",
    "\n",
    "# Load the synthetic dirty dataset\n",
    "df = pd.read_csv('dirty_data.csv')\n",
    "df.head()"
   ]
  },
  {
   "cell_type": "markdown",
   "id": "3ecb2fe2",
   "metadata": {},
   "source": [
    "## 2. Handling Missing Values"
   ]
  },
  {
   "cell_type": "code",
   "execution_count": 3,
   "id": "2b7050d3",
   "metadata": {},
   "outputs": [
    {
     "data": {
      "application/vnd.microsoft.datawrangler.viewer.v0+json": {
       "columns": [
        {
         "name": "index",
         "rawType": "int64",
         "type": "integer"
        },
        {
         "name": "id",
         "rawType": "int64",
         "type": "integer"
        },
        {
         "name": "name",
         "rawType": "object",
         "type": "string"
        },
        {
         "name": "age",
         "rawType": "float64",
         "type": "float"
        },
        {
         "name": "salary",
         "rawType": "float64",
         "type": "float"
        },
        {
         "name": "joining_date",
         "rawType": "object",
         "type": "string"
        },
        {
         "name": "gender",
         "rawType": "object",
         "type": "string"
        },
        {
         "name": "city",
         "rawType": "object",
         "type": "string"
        },
        {
         "name": "age_mean",
         "rawType": "float64",
         "type": "float"
        },
        {
         "name": "age_median",
         "rawType": "float64",
         "type": "float"
        },
        {
         "name": "age_mode",
         "rawType": "float64",
         "type": "float"
        }
       ],
       "ref": "9e5d9649-e96b-4746-960e-1cfe0565230f",
       "rows": [
        [
         "0",
         "1",
         "Alice",
         "25.0",
         "50000.0",
         "2020-01-10",
         "Male",
         "New York",
         "25.0",
         "25.0",
         "25.0"
        ],
        [
         "1",
         "2",
         "Bob",
         "58.0",
         "60000.0",
         "01/15/2021",
         "M",
         "new york",
         "64.25",
         "34.0",
         "25.0"
        ],
        [
         "2",
         "3",
         "Charlie",
         "35.0",
         "68333.33333333333",
         "March 5, 2021",
         "male",
         "NEW YORK",
         "35.0",
         "35.0",
         "35.0"
        ],
        [
         "3",
         "4",
         "alice",
         "45.0",
         "80000.0",
         "2021-04-12",
         "Female",
         "Los Angeles",
         "45.0",
         "45.0",
         "45.0"
        ],
        [
         "4",
         "5",
         "BOB",
         "200.0",
         "1200000.0",
         "12-05-2021",
         "F",
         "los angeles",
         "200.0",
         "200.0",
         "200.0"
        ]
       ],
       "shape": {
        "columns": 10,
        "rows": 5
       }
      },
      "text/html": [
       "<div>\n",
       "<style scoped>\n",
       "    .dataframe tbody tr th:only-of-type {\n",
       "        vertical-align: middle;\n",
       "    }\n",
       "\n",
       "    .dataframe tbody tr th {\n",
       "        vertical-align: top;\n",
       "    }\n",
       "\n",
       "    .dataframe thead th {\n",
       "        text-align: right;\n",
       "    }\n",
       "</style>\n",
       "<table border=\"1\" class=\"dataframe\">\n",
       "  <thead>\n",
       "    <tr style=\"text-align: right;\">\n",
       "      <th></th>\n",
       "      <th>id</th>\n",
       "      <th>name</th>\n",
       "      <th>age</th>\n",
       "      <th>salary</th>\n",
       "      <th>joining_date</th>\n",
       "      <th>gender</th>\n",
       "      <th>city</th>\n",
       "      <th>age_mean</th>\n",
       "      <th>age_median</th>\n",
       "      <th>age_mode</th>\n",
       "    </tr>\n",
       "  </thead>\n",
       "  <tbody>\n",
       "    <tr>\n",
       "      <th>0</th>\n",
       "      <td>1</td>\n",
       "      <td>Alice</td>\n",
       "      <td>25.0</td>\n",
       "      <td>5.000000e+04</td>\n",
       "      <td>2020-01-10</td>\n",
       "      <td>Male</td>\n",
       "      <td>New York</td>\n",
       "      <td>25.00</td>\n",
       "      <td>25.0</td>\n",
       "      <td>25.0</td>\n",
       "    </tr>\n",
       "    <tr>\n",
       "      <th>1</th>\n",
       "      <td>2</td>\n",
       "      <td>Bob</td>\n",
       "      <td>58.0</td>\n",
       "      <td>6.000000e+04</td>\n",
       "      <td>01/15/2021</td>\n",
       "      <td>M</td>\n",
       "      <td>new york</td>\n",
       "      <td>64.25</td>\n",
       "      <td>34.0</td>\n",
       "      <td>25.0</td>\n",
       "    </tr>\n",
       "    <tr>\n",
       "      <th>2</th>\n",
       "      <td>3</td>\n",
       "      <td>Charlie</td>\n",
       "      <td>35.0</td>\n",
       "      <td>6.833333e+04</td>\n",
       "      <td>March 5, 2021</td>\n",
       "      <td>male</td>\n",
       "      <td>NEW YORK</td>\n",
       "      <td>35.00</td>\n",
       "      <td>35.0</td>\n",
       "      <td>35.0</td>\n",
       "    </tr>\n",
       "    <tr>\n",
       "      <th>3</th>\n",
       "      <td>4</td>\n",
       "      <td>alice</td>\n",
       "      <td>45.0</td>\n",
       "      <td>8.000000e+04</td>\n",
       "      <td>2021-04-12</td>\n",
       "      <td>Female</td>\n",
       "      <td>Los Angeles</td>\n",
       "      <td>45.00</td>\n",
       "      <td>45.0</td>\n",
       "      <td>45.0</td>\n",
       "    </tr>\n",
       "    <tr>\n",
       "      <th>4</th>\n",
       "      <td>5</td>\n",
       "      <td>BOB</td>\n",
       "      <td>200.0</td>\n",
       "      <td>1.200000e+06</td>\n",
       "      <td>12-05-2021</td>\n",
       "      <td>F</td>\n",
       "      <td>los angeles</td>\n",
       "      <td>200.00</td>\n",
       "      <td>200.0</td>\n",
       "      <td>200.0</td>\n",
       "    </tr>\n",
       "  </tbody>\n",
       "</table>\n",
       "</div>"
      ],
      "text/plain": [
       "   id     name    age        salary   joining_date  gender         city  \\\n",
       "0   1    Alice   25.0  5.000000e+04     2020-01-10    Male     New York   \n",
       "1   2      Bob   58.0  6.000000e+04     01/15/2021       M     new york   \n",
       "2   3  Charlie   35.0  6.833333e+04  March 5, 2021    male     NEW YORK   \n",
       "3   4    alice   45.0  8.000000e+04     2021-04-12  Female  Los Angeles   \n",
       "4   5      BOB  200.0  1.200000e+06     12-05-2021       F  los angeles   \n",
       "\n",
       "   age_mean  age_median  age_mode  \n",
       "0     25.00        25.0      25.0  \n",
       "1     64.25        34.0      25.0  \n",
       "2     35.00        35.0      35.0  \n",
       "3     45.00        45.0      45.0  \n",
       "4    200.00       200.0     200.0  "
      ]
     },
     "execution_count": 3,
     "metadata": {},
     "output_type": "execute_result"
    }
   ],
   "source": [
    "\n",
    "# Check missing values\n",
    "df.isnull().sum()\n",
    "\n",
    "# Drop missing\n",
    "df_drop = df.dropna()\n",
    "\n",
    "# Fill with mean/median/mode\n",
    "df['age_mean'] = df['age'].fillna(df['age'].mean())\n",
    "df['age_median'] = df['age'].fillna(df['age'].median())\n",
    "df['age_mode'] = df['age'].fillna(df['age'].mode()[0])\n",
    "\n",
    "# KNN Imputation (example with sklearn)\n",
    "from sklearn.impute import KNNImputer\n",
    "imputer = KNNImputer(n_neighbors=3)\n",
    "df[['age','salary']] = imputer.fit_transform(df[['age','salary']])\n",
    "\n",
    "# MICE Imputation (using IterativeImputer)\n",
    "from sklearn.experimental import enable_iterative_imputer\n",
    "from sklearn.impute import IterativeImputer\n",
    "imp = IterativeImputer()\n",
    "df[['age','salary']] = imp.fit_transform(df[['age','salary']])\n",
    "\n",
    "df.head()\n"
   ]
  },
  {
   "cell_type": "markdown",
   "id": "c4a139c0",
   "metadata": {},
   "source": [
    "## 3. Scaling and Normalization"
   ]
  },
  {
   "cell_type": "code",
   "execution_count": 4,
   "id": "b48b5cd1",
   "metadata": {},
   "outputs": [
    {
     "data": {
      "application/vnd.microsoft.datawrangler.viewer.v0+json": {
       "columns": [
        {
         "name": "index",
         "rawType": "int64",
         "type": "integer"
        },
        {
         "name": "salary",
         "rawType": "float64",
         "type": "float"
        },
        {
         "name": "salary_minmax",
         "rawType": "float64",
         "type": "float"
        },
        {
         "name": "salary_standard",
         "rawType": "float64",
         "type": "float"
        },
        {
         "name": "salary_robust",
         "rawType": "float64",
         "type": "float"
        }
       ],
       "ref": "02a2e566-5908-4e83-b971-fd7d8452c691",
       "rows": [
        [
         "0",
         "50000.0",
         "0.0",
         "-0.3751803858702448",
         "-1.3071895424836593"
        ],
        [
         "1",
         "60000.0",
         "0.008695652173913049",
         "-0.34583885412856774",
         "-0.5228758169934633"
        ],
        [
         "2",
         "68333.33333333333",
         "0.015942028985507242",
         "-0.32138757767717013",
         "0.13071895424836638"
        ],
        [
         "3",
         "80000.0",
         "0.026086956521739132",
         "-0.28715579064521346",
         "1.0457516339869288"
        ],
        [
         "4",
         "1200000.0",
         "1.0",
         "2.999095764422625",
         "88.88888888888889"
        ]
       ],
       "shape": {
        "columns": 4,
        "rows": 5
       }
      },
      "text/html": [
       "<div>\n",
       "<style scoped>\n",
       "    .dataframe tbody tr th:only-of-type {\n",
       "        vertical-align: middle;\n",
       "    }\n",
       "\n",
       "    .dataframe tbody tr th {\n",
       "        vertical-align: top;\n",
       "    }\n",
       "\n",
       "    .dataframe thead th {\n",
       "        text-align: right;\n",
       "    }\n",
       "</style>\n",
       "<table border=\"1\" class=\"dataframe\">\n",
       "  <thead>\n",
       "    <tr style=\"text-align: right;\">\n",
       "      <th></th>\n",
       "      <th>salary</th>\n",
       "      <th>salary_minmax</th>\n",
       "      <th>salary_standard</th>\n",
       "      <th>salary_robust</th>\n",
       "    </tr>\n",
       "  </thead>\n",
       "  <tbody>\n",
       "    <tr>\n",
       "      <th>0</th>\n",
       "      <td>5.000000e+04</td>\n",
       "      <td>0.000000</td>\n",
       "      <td>-0.375180</td>\n",
       "      <td>-1.307190</td>\n",
       "    </tr>\n",
       "    <tr>\n",
       "      <th>1</th>\n",
       "      <td>6.000000e+04</td>\n",
       "      <td>0.008696</td>\n",
       "      <td>-0.345839</td>\n",
       "      <td>-0.522876</td>\n",
       "    </tr>\n",
       "    <tr>\n",
       "      <th>2</th>\n",
       "      <td>6.833333e+04</td>\n",
       "      <td>0.015942</td>\n",
       "      <td>-0.321388</td>\n",
       "      <td>0.130719</td>\n",
       "    </tr>\n",
       "    <tr>\n",
       "      <th>3</th>\n",
       "      <td>8.000000e+04</td>\n",
       "      <td>0.026087</td>\n",
       "      <td>-0.287156</td>\n",
       "      <td>1.045752</td>\n",
       "    </tr>\n",
       "    <tr>\n",
       "      <th>4</th>\n",
       "      <td>1.200000e+06</td>\n",
       "      <td>1.000000</td>\n",
       "      <td>2.999096</td>\n",
       "      <td>88.888889</td>\n",
       "    </tr>\n",
       "  </tbody>\n",
       "</table>\n",
       "</div>"
      ],
      "text/plain": [
       "         salary  salary_minmax  salary_standard  salary_robust\n",
       "0  5.000000e+04       0.000000        -0.375180      -1.307190\n",
       "1  6.000000e+04       0.008696        -0.345839      -0.522876\n",
       "2  6.833333e+04       0.015942        -0.321388       0.130719\n",
       "3  8.000000e+04       0.026087        -0.287156       1.045752\n",
       "4  1.200000e+06       1.000000         2.999096      88.888889"
      ]
     },
     "execution_count": 4,
     "metadata": {},
     "output_type": "execute_result"
    }
   ],
   "source": [
    "\n",
    "from sklearn.preprocessing import MinMaxScaler, StandardScaler, RobustScaler\n",
    "\n",
    "scaler = MinMaxScaler()\n",
    "df['salary_minmax'] = scaler.fit_transform(df[['salary']])\n",
    "\n",
    "scaler = StandardScaler()\n",
    "df['salary_standard'] = scaler.fit_transform(df[['salary']])\n",
    "\n",
    "scaler = RobustScaler()\n",
    "df['salary_robust'] = scaler.fit_transform(df[['salary']])\n",
    "\n",
    "df[['salary','salary_minmax','salary_standard','salary_robust']].head()\n"
   ]
  },
  {
   "cell_type": "markdown",
   "id": "e5e4e0ca",
   "metadata": {},
   "source": [
    "## 4. Parsing Dates"
   ]
  },
  {
   "cell_type": "code",
   "execution_count": 5,
   "id": "0d0dfa32",
   "metadata": {},
   "outputs": [
    {
     "name": "stderr",
     "output_type": "stream",
     "text": [
      "/var/folders/y5/g1x0tvb16bbf0rjf7219mhmh0000gn/T/ipykernel_47819/1980692542.py:2: UserWarning: The argument 'infer_datetime_format' is deprecated and will be removed in a future version. A strict version of it is now the default, see https://pandas.pydata.org/pdeps/0004-consistent-to-datetime-parsing.html. You can safely remove this argument.\n",
      "  df['joining_date_parsed'] = pd.to_datetime(df['joining_date'], errors='coerce', infer_datetime_format=True)\n"
     ]
    },
    {
     "data": {
      "application/vnd.microsoft.datawrangler.viewer.v0+json": {
       "columns": [
        {
         "name": "index",
         "rawType": "int64",
         "type": "integer"
        },
        {
         "name": "joining_date",
         "rawType": "object",
         "type": "unknown"
        },
        {
         "name": "joining_date_parsed",
         "rawType": "datetime64[ns]",
         "type": "datetime"
        }
       ],
       "ref": "ba204ae1-e7d1-4c55-83f6-d6c8c7a06ca9",
       "rows": [
        [
         "0",
         "2020-01-10",
         "2020-01-10 00:00:00"
        ],
        [
         "1",
         "01/15/2021",
         null
        ],
        [
         "2",
         "March 5, 2021",
         null
        ],
        [
         "3",
         "2021-04-12",
         "2021-04-12 00:00:00"
        ],
        [
         "4",
         "12-05-2021",
         null
        ],
        [
         "5",
         null,
         null
        ],
        [
         "6",
         "2021/07/20",
         null
        ],
        [
         "7",
         "20210815",
         null
        ],
        [
         "8",
         "2021.09.01",
         null
        ],
        [
         "9",
         "10th Oct 2021",
         null
        ]
       ],
       "shape": {
        "columns": 2,
        "rows": 10
       }
      },
      "text/html": [
       "<div>\n",
       "<style scoped>\n",
       "    .dataframe tbody tr th:only-of-type {\n",
       "        vertical-align: middle;\n",
       "    }\n",
       "\n",
       "    .dataframe tbody tr th {\n",
       "        vertical-align: top;\n",
       "    }\n",
       "\n",
       "    .dataframe thead th {\n",
       "        text-align: right;\n",
       "    }\n",
       "</style>\n",
       "<table border=\"1\" class=\"dataframe\">\n",
       "  <thead>\n",
       "    <tr style=\"text-align: right;\">\n",
       "      <th></th>\n",
       "      <th>joining_date</th>\n",
       "      <th>joining_date_parsed</th>\n",
       "    </tr>\n",
       "  </thead>\n",
       "  <tbody>\n",
       "    <tr>\n",
       "      <th>0</th>\n",
       "      <td>2020-01-10</td>\n",
       "      <td>2020-01-10</td>\n",
       "    </tr>\n",
       "    <tr>\n",
       "      <th>1</th>\n",
       "      <td>01/15/2021</td>\n",
       "      <td>NaT</td>\n",
       "    </tr>\n",
       "    <tr>\n",
       "      <th>2</th>\n",
       "      <td>March 5, 2021</td>\n",
       "      <td>NaT</td>\n",
       "    </tr>\n",
       "    <tr>\n",
       "      <th>3</th>\n",
       "      <td>2021-04-12</td>\n",
       "      <td>2021-04-12</td>\n",
       "    </tr>\n",
       "    <tr>\n",
       "      <th>4</th>\n",
       "      <td>12-05-2021</td>\n",
       "      <td>NaT</td>\n",
       "    </tr>\n",
       "    <tr>\n",
       "      <th>5</th>\n",
       "      <td>NaN</td>\n",
       "      <td>NaT</td>\n",
       "    </tr>\n",
       "    <tr>\n",
       "      <th>6</th>\n",
       "      <td>2021/07/20</td>\n",
       "      <td>NaT</td>\n",
       "    </tr>\n",
       "    <tr>\n",
       "      <th>7</th>\n",
       "      <td>20210815</td>\n",
       "      <td>NaT</td>\n",
       "    </tr>\n",
       "    <tr>\n",
       "      <th>8</th>\n",
       "      <td>2021.09.01</td>\n",
       "      <td>NaT</td>\n",
       "    </tr>\n",
       "    <tr>\n",
       "      <th>9</th>\n",
       "      <td>10th Oct 2021</td>\n",
       "      <td>NaT</td>\n",
       "    </tr>\n",
       "  </tbody>\n",
       "</table>\n",
       "</div>"
      ],
      "text/plain": [
       "    joining_date joining_date_parsed\n",
       "0     2020-01-10          2020-01-10\n",
       "1     01/15/2021                 NaT\n",
       "2  March 5, 2021                 NaT\n",
       "3     2021-04-12          2021-04-12\n",
       "4     12-05-2021                 NaT\n",
       "5            NaN                 NaT\n",
       "6     2021/07/20                 NaT\n",
       "7       20210815                 NaT\n",
       "8     2021.09.01                 NaT\n",
       "9  10th Oct 2021                 NaT"
      ]
     },
     "execution_count": 5,
     "metadata": {},
     "output_type": "execute_result"
    }
   ],
   "source": [
    "\n",
    "# Convert messy date formats\n",
    "df['joining_date_parsed'] = pd.to_datetime(df['joining_date'], errors='coerce', infer_datetime_format=True)\n",
    "df[['joining_date','joining_date_parsed']]\n"
   ]
  },
  {
   "cell_type": "markdown",
   "id": "50f9dbdf",
   "metadata": {},
   "source": [
    "## 5. Character Encoding & Categorical Conversion"
   ]
  },
  {
   "cell_type": "code",
   "execution_count": 6,
   "id": "7423bf19",
   "metadata": {},
   "outputs": [
    {
     "data": {
      "application/vnd.microsoft.datawrangler.viewer.v0+json": {
       "columns": [
        {
         "name": "index",
         "rawType": "int64",
         "type": "integer"
        },
        {
         "name": "id",
         "rawType": "int64",
         "type": "integer"
        },
        {
         "name": "name",
         "rawType": "object",
         "type": "string"
        },
        {
         "name": "age",
         "rawType": "float64",
         "type": "float"
        },
        {
         "name": "salary",
         "rawType": "float64",
         "type": "float"
        },
        {
         "name": "joining_date",
         "rawType": "object",
         "type": "string"
        },
        {
         "name": "gender",
         "rawType": "object",
         "type": "string"
        },
        {
         "name": "city",
         "rawType": "object",
         "type": "string"
        },
        {
         "name": "age_mean",
         "rawType": "float64",
         "type": "float"
        },
        {
         "name": "age_median",
         "rawType": "float64",
         "type": "float"
        },
        {
         "name": "age_mode",
         "rawType": "float64",
         "type": "float"
        },
        {
         "name": "salary_minmax",
         "rawType": "float64",
         "type": "float"
        },
        {
         "name": "salary_standard",
         "rawType": "float64",
         "type": "float"
        },
        {
         "name": "salary_robust",
         "rawType": "float64",
         "type": "float"
        },
        {
         "name": "joining_date_parsed",
         "rawType": "datetime64[ns]",
         "type": "datetime"
        },
        {
         "name": "gender_clean_female",
         "rawType": "bool",
         "type": "boolean"
        },
        {
         "name": "gender_clean_male",
         "rawType": "bool",
         "type": "boolean"
        },
        {
         "name": "gender_clean_other",
         "rawType": "bool",
         "type": "boolean"
        }
       ],
       "ref": "a633bbe2-5aa0-43c1-904c-d90915ab198b",
       "rows": [
        [
         "0",
         "1",
         "Alice",
         "25.0",
         "50000.0",
         "2020-01-10",
         "Male",
         "New York",
         "25.0",
         "25.0",
         "25.0",
         "0.0",
         "-0.3751803858702448",
         "-1.3071895424836593",
         "2020-01-10 00:00:00",
         "False",
         "True",
         "False"
        ],
        [
         "1",
         "2",
         "Bob",
         "58.0",
         "60000.0",
         "01/15/2021",
         "M",
         "new york",
         "64.25",
         "34.0",
         "25.0",
         "0.008695652173913049",
         "-0.34583885412856774",
         "-0.5228758169934633",
         null,
         "False",
         "True",
         "False"
        ],
        [
         "2",
         "3",
         "Charlie",
         "35.0",
         "68333.33333333333",
         "March 5, 2021",
         "male",
         "NEW YORK",
         "35.0",
         "35.0",
         "35.0",
         "0.015942028985507242",
         "-0.32138757767717013",
         "0.13071895424836638",
         null,
         "False",
         "True",
         "False"
        ],
        [
         "3",
         "4",
         "alice",
         "45.0",
         "80000.0",
         "2021-04-12",
         "Female",
         "Los Angeles",
         "45.0",
         "45.0",
         "45.0",
         "0.026086956521739132",
         "-0.28715579064521346",
         "1.0457516339869288",
         "2021-04-12 00:00:00",
         "True",
         "False",
         "False"
        ],
        [
         "4",
         "5",
         "BOB",
         "200.0",
         "1200000.0",
         "12-05-2021",
         "F",
         "los angeles",
         "200.0",
         "200.0",
         "200.0",
         "1.0",
         "2.999095764422625",
         "88.88888888888889",
         null,
         "True",
         "False",
         "False"
        ]
       ],
       "shape": {
        "columns": 17,
        "rows": 5
       }
      },
      "text/html": [
       "<div>\n",
       "<style scoped>\n",
       "    .dataframe tbody tr th:only-of-type {\n",
       "        vertical-align: middle;\n",
       "    }\n",
       "\n",
       "    .dataframe tbody tr th {\n",
       "        vertical-align: top;\n",
       "    }\n",
       "\n",
       "    .dataframe thead th {\n",
       "        text-align: right;\n",
       "    }\n",
       "</style>\n",
       "<table border=\"1\" class=\"dataframe\">\n",
       "  <thead>\n",
       "    <tr style=\"text-align: right;\">\n",
       "      <th></th>\n",
       "      <th>id</th>\n",
       "      <th>name</th>\n",
       "      <th>age</th>\n",
       "      <th>salary</th>\n",
       "      <th>joining_date</th>\n",
       "      <th>gender</th>\n",
       "      <th>city</th>\n",
       "      <th>age_mean</th>\n",
       "      <th>age_median</th>\n",
       "      <th>age_mode</th>\n",
       "      <th>salary_minmax</th>\n",
       "      <th>salary_standard</th>\n",
       "      <th>salary_robust</th>\n",
       "      <th>joining_date_parsed</th>\n",
       "      <th>gender_clean_female</th>\n",
       "      <th>gender_clean_male</th>\n",
       "      <th>gender_clean_other</th>\n",
       "    </tr>\n",
       "  </thead>\n",
       "  <tbody>\n",
       "    <tr>\n",
       "      <th>0</th>\n",
       "      <td>1</td>\n",
       "      <td>Alice</td>\n",
       "      <td>25.0</td>\n",
       "      <td>5.000000e+04</td>\n",
       "      <td>2020-01-10</td>\n",
       "      <td>Male</td>\n",
       "      <td>New York</td>\n",
       "      <td>25.00</td>\n",
       "      <td>25.0</td>\n",
       "      <td>25.0</td>\n",
       "      <td>0.000000</td>\n",
       "      <td>-0.375180</td>\n",
       "      <td>-1.307190</td>\n",
       "      <td>2020-01-10</td>\n",
       "      <td>False</td>\n",
       "      <td>True</td>\n",
       "      <td>False</td>\n",
       "    </tr>\n",
       "    <tr>\n",
       "      <th>1</th>\n",
       "      <td>2</td>\n",
       "      <td>Bob</td>\n",
       "      <td>58.0</td>\n",
       "      <td>6.000000e+04</td>\n",
       "      <td>01/15/2021</td>\n",
       "      <td>M</td>\n",
       "      <td>new york</td>\n",
       "      <td>64.25</td>\n",
       "      <td>34.0</td>\n",
       "      <td>25.0</td>\n",
       "      <td>0.008696</td>\n",
       "      <td>-0.345839</td>\n",
       "      <td>-0.522876</td>\n",
       "      <td>NaT</td>\n",
       "      <td>False</td>\n",
       "      <td>True</td>\n",
       "      <td>False</td>\n",
       "    </tr>\n",
       "    <tr>\n",
       "      <th>2</th>\n",
       "      <td>3</td>\n",
       "      <td>Charlie</td>\n",
       "      <td>35.0</td>\n",
       "      <td>6.833333e+04</td>\n",
       "      <td>March 5, 2021</td>\n",
       "      <td>male</td>\n",
       "      <td>NEW YORK</td>\n",
       "      <td>35.00</td>\n",
       "      <td>35.0</td>\n",
       "      <td>35.0</td>\n",
       "      <td>0.015942</td>\n",
       "      <td>-0.321388</td>\n",
       "      <td>0.130719</td>\n",
       "      <td>NaT</td>\n",
       "      <td>False</td>\n",
       "      <td>True</td>\n",
       "      <td>False</td>\n",
       "    </tr>\n",
       "    <tr>\n",
       "      <th>3</th>\n",
       "      <td>4</td>\n",
       "      <td>alice</td>\n",
       "      <td>45.0</td>\n",
       "      <td>8.000000e+04</td>\n",
       "      <td>2021-04-12</td>\n",
       "      <td>Female</td>\n",
       "      <td>Los Angeles</td>\n",
       "      <td>45.00</td>\n",
       "      <td>45.0</td>\n",
       "      <td>45.0</td>\n",
       "      <td>0.026087</td>\n",
       "      <td>-0.287156</td>\n",
       "      <td>1.045752</td>\n",
       "      <td>2021-04-12</td>\n",
       "      <td>True</td>\n",
       "      <td>False</td>\n",
       "      <td>False</td>\n",
       "    </tr>\n",
       "    <tr>\n",
       "      <th>4</th>\n",
       "      <td>5</td>\n",
       "      <td>BOB</td>\n",
       "      <td>200.0</td>\n",
       "      <td>1.200000e+06</td>\n",
       "      <td>12-05-2021</td>\n",
       "      <td>F</td>\n",
       "      <td>los angeles</td>\n",
       "      <td>200.00</td>\n",
       "      <td>200.0</td>\n",
       "      <td>200.0</td>\n",
       "      <td>1.000000</td>\n",
       "      <td>2.999096</td>\n",
       "      <td>88.888889</td>\n",
       "      <td>NaT</td>\n",
       "      <td>True</td>\n",
       "      <td>False</td>\n",
       "      <td>False</td>\n",
       "    </tr>\n",
       "  </tbody>\n",
       "</table>\n",
       "</div>"
      ],
      "text/plain": [
       "   id     name    age        salary   joining_date  gender         city  \\\n",
       "0   1    Alice   25.0  5.000000e+04     2020-01-10    Male     New York   \n",
       "1   2      Bob   58.0  6.000000e+04     01/15/2021       M     new york   \n",
       "2   3  Charlie   35.0  6.833333e+04  March 5, 2021    male     NEW YORK   \n",
       "3   4    alice   45.0  8.000000e+04     2021-04-12  Female  Los Angeles   \n",
       "4   5      BOB  200.0  1.200000e+06     12-05-2021       F  los angeles   \n",
       "\n",
       "   age_mean  age_median  age_mode  salary_minmax  salary_standard  \\\n",
       "0     25.00        25.0      25.0       0.000000        -0.375180   \n",
       "1     64.25        34.0      25.0       0.008696        -0.345839   \n",
       "2     35.00        35.0      35.0       0.015942        -0.321388   \n",
       "3     45.00        45.0      45.0       0.026087        -0.287156   \n",
       "4    200.00       200.0     200.0       1.000000         2.999096   \n",
       "\n",
       "   salary_robust joining_date_parsed  gender_clean_female  gender_clean_male  \\\n",
       "0      -1.307190          2020-01-10                False               True   \n",
       "1      -0.522876                 NaT                False               True   \n",
       "2       0.130719                 NaT                False               True   \n",
       "3       1.045752          2021-04-12                 True              False   \n",
       "4      88.888889                 NaT                 True              False   \n",
       "\n",
       "   gender_clean_other  \n",
       "0               False  \n",
       "1               False  \n",
       "2               False  \n",
       "3               False  \n",
       "4               False  "
      ]
     },
     "execution_count": 6,
     "metadata": {},
     "output_type": "execute_result"
    }
   ],
   "source": [
    "\n",
    "# Standardize gender entries\n",
    "df['gender_clean'] = df['gender'].str.lower().replace({'m':'male','f':'female','o':'other'})\n",
    "\n",
    "# One-hot encoding\n",
    "df_encoded = pd.get_dummies(df, columns=['gender_clean'])\n",
    "df_encoded.head()\n"
   ]
  },
  {
   "cell_type": "markdown",
   "id": "fb1a37b6",
   "metadata": {},
   "source": [
    "## 6. Inconsistent Data Entry"
   ]
  },
  {
   "cell_type": "code",
   "execution_count": 7,
   "id": "c0919338",
   "metadata": {},
   "outputs": [
    {
     "data": {
      "text/plain": [
       "array(['new york', 'los angeles', 'chicago', 'miami', nan], dtype=object)"
      ]
     },
     "execution_count": 7,
     "metadata": {},
     "output_type": "execute_result"
    }
   ],
   "source": [
    "\n",
    "# Standardize city names\n",
    "df['city_clean'] = df['city'].str.lower().str.strip()\n",
    "df['city_clean'].unique()\n"
   ]
  },
  {
   "cell_type": "markdown",
   "id": "fbb201e1",
   "metadata": {},
   "source": [
    "## 7. Dealing with Outliers"
   ]
  },
  {
   "cell_type": "code",
   "execution_count": 8,
   "id": "e0569f8e",
   "metadata": {},
   "outputs": [
    {
     "name": "stdout",
     "output_type": "stream",
     "text": [
      "Number of outliers: 0\n"
     ]
    },
    {
     "data": {
      "application/vnd.microsoft.datawrangler.viewer.v0+json": {
       "columns": [
        {
         "name": "index",
         "rawType": "int64",
         "type": "integer"
        },
        {
         "name": "id",
         "rawType": "int64",
         "type": "integer"
        },
        {
         "name": "name",
         "rawType": "object",
         "type": "string"
        },
        {
         "name": "age",
         "rawType": "float64",
         "type": "float"
        },
        {
         "name": "salary",
         "rawType": "float64",
         "type": "float"
        },
        {
         "name": "joining_date",
         "rawType": "object",
         "type": "string"
        },
        {
         "name": "gender",
         "rawType": "object",
         "type": "string"
        },
        {
         "name": "city",
         "rawType": "object",
         "type": "string"
        },
        {
         "name": "age_mean",
         "rawType": "float64",
         "type": "float"
        },
        {
         "name": "age_median",
         "rawType": "float64",
         "type": "float"
        },
        {
         "name": "age_mode",
         "rawType": "float64",
         "type": "float"
        },
        {
         "name": "salary_minmax",
         "rawType": "float64",
         "type": "float"
        },
        {
         "name": "salary_standard",
         "rawType": "float64",
         "type": "float"
        },
        {
         "name": "salary_robust",
         "rawType": "float64",
         "type": "float"
        },
        {
         "name": "joining_date_parsed",
         "rawType": "datetime64[ns]",
         "type": "datetime"
        },
        {
         "name": "gender_clean",
         "rawType": "object",
         "type": "string"
        },
        {
         "name": "city_clean",
         "rawType": "object",
         "type": "string"
        }
       ],
       "ref": "a9c175bc-7af7-4479-ba28-19708023a28c",
       "rows": [
        [
         "4",
         "5",
         "BOB",
         "200.0",
         "1200000.0",
         "12-05-2021",
         "F",
         "los angeles",
         "200.0",
         "200.0",
         "200.0",
         "1.0",
         "2.999095764422625",
         "88.88888888888889",
         null,
         "female",
         "los angeles"
        ]
       ],
       "shape": {
        "columns": 16,
        "rows": 1
       }
      },
      "text/html": [
       "<div>\n",
       "<style scoped>\n",
       "    .dataframe tbody tr th:only-of-type {\n",
       "        vertical-align: middle;\n",
       "    }\n",
       "\n",
       "    .dataframe tbody tr th {\n",
       "        vertical-align: top;\n",
       "    }\n",
       "\n",
       "    .dataframe thead th {\n",
       "        text-align: right;\n",
       "    }\n",
       "</style>\n",
       "<table border=\"1\" class=\"dataframe\">\n",
       "  <thead>\n",
       "    <tr style=\"text-align: right;\">\n",
       "      <th></th>\n",
       "      <th>id</th>\n",
       "      <th>name</th>\n",
       "      <th>age</th>\n",
       "      <th>salary</th>\n",
       "      <th>joining_date</th>\n",
       "      <th>gender</th>\n",
       "      <th>city</th>\n",
       "      <th>age_mean</th>\n",
       "      <th>age_median</th>\n",
       "      <th>age_mode</th>\n",
       "      <th>salary_minmax</th>\n",
       "      <th>salary_standard</th>\n",
       "      <th>salary_robust</th>\n",
       "      <th>joining_date_parsed</th>\n",
       "      <th>gender_clean</th>\n",
       "      <th>city_clean</th>\n",
       "    </tr>\n",
       "  </thead>\n",
       "  <tbody>\n",
       "    <tr>\n",
       "      <th>4</th>\n",
       "      <td>5</td>\n",
       "      <td>BOB</td>\n",
       "      <td>200.0</td>\n",
       "      <td>1200000.0</td>\n",
       "      <td>12-05-2021</td>\n",
       "      <td>F</td>\n",
       "      <td>los angeles</td>\n",
       "      <td>200.0</td>\n",
       "      <td>200.0</td>\n",
       "      <td>200.0</td>\n",
       "      <td>1.0</td>\n",
       "      <td>2.999096</td>\n",
       "      <td>88.888889</td>\n",
       "      <td>NaT</td>\n",
       "      <td>female</td>\n",
       "      <td>los angeles</td>\n",
       "    </tr>\n",
       "  </tbody>\n",
       "</table>\n",
       "</div>"
      ],
      "text/plain": [
       "   id name    age     salary joining_date gender         city  age_mean  \\\n",
       "4   5  BOB  200.0  1200000.0   12-05-2021      F  los angeles     200.0   \n",
       "\n",
       "   age_median  age_mode  salary_minmax  salary_standard  salary_robust  \\\n",
       "4       200.0     200.0            1.0         2.999096      88.888889   \n",
       "\n",
       "  joining_date_parsed gender_clean   city_clean  \n",
       "4                 NaT       female  los angeles  "
      ]
     },
     "execution_count": 8,
     "metadata": {},
     "output_type": "execute_result"
    }
   ],
   "source": [
    "\n",
    "import numpy as np\n",
    "\n",
    "# Z-score method\n",
    "from scipy import stats\n",
    "z_scores = np.abs(stats.zscore(df[['age','salary']].dropna()))\n",
    "outliers = (z_scores > 3)\n",
    "print(\"Number of outliers:\", outliers.sum())\n",
    "\n",
    "# IQR method\n",
    "Q1 = df['salary'].quantile(0.25)\n",
    "Q3 = df['salary'].quantile(0.75)\n",
    "IQR = Q3 - Q1\n",
    "outliers_iqr = df[(df['salary'] < Q1 - 1.5*IQR) | (df['salary'] > Q3 + 1.5*IQR)]\n",
    "outliers_iqr\n"
   ]
  },
  {
   "cell_type": "markdown",
   "id": "1bacc43f",
   "metadata": {},
   "source": [
    "## 8. Data Deduplication"
   ]
  },
  {
   "cell_type": "code",
   "execution_count": 9,
   "id": "0b3964f3",
   "metadata": {},
   "outputs": [
    {
     "name": "stderr",
     "output_type": "stream",
     "text": [
      "/opt/homebrew/lib/python3.12/site-packages/fuzzywuzzy/fuzz.py:11: UserWarning: Using slow pure-python SequenceMatcher. Install python-Levenshtein to remove this warning\n",
      "  warnings.warn('Using slow pure-python SequenceMatcher. Install python-Levenshtein to remove this warning')\n"
     ]
    },
    {
     "data": {
      "text/plain": [
       "[('Alice', 100), ('alice', 100), ('Charlie', 67), ('Eve', 45), ('Ivy', 30)]"
      ]
     },
     "execution_count": 9,
     "metadata": {},
     "output_type": "execute_result"
    }
   ],
   "source": [
    "\n",
    "# Exact duplicates\n",
    "df_nodup = df.drop_duplicates()\n",
    "\n",
    "# Fuzzy matching (example with names)\n",
    "from fuzzywuzzy import process\n",
    "\n",
    "choices = df['name'].tolist()\n",
    "process.extract(\"alice\", choices, limit=5)\n"
   ]
  }
 ],
 "metadata": {
  "kernelspec": {
   "display_name": "Python 3",
   "language": "python",
   "name": "python3"
  },
  "language_info": {
   "codemirror_mode": {
    "name": "ipython",
    "version": 3
   },
   "file_extension": ".py",
   "mimetype": "text/x-python",
   "name": "python",
   "nbconvert_exporter": "python",
   "pygments_lexer": "ipython3",
   "version": "3.12.11"
  }
 },
 "nbformat": 4,
 "nbformat_minor": 5
}
