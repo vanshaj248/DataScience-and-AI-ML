{
 "cells": [
  {
   "cell_type": "markdown",
   "metadata": {
    "_cell_guid": "b91a74ba-85f4-486e-b5f9-d0898f0626bf",
    "_uuid": "6ac53f18b4f4ec0fc44348cedb5d1c319fa127c0"
   },
   "source": [
    "### All days of the challange:\n",
    "\n",
    "* [Day 1: Handling missing values](https://www.kaggle.com/rtatman/data-cleaning-challenge-handling-missing-values)\n",
    "* [Day 2: Scaling and normalization](https://www.kaggle.com/rtatman/data-cleaning-challenge-scale-and-normalize-data)\n",
    "* [Day 3: Parsing dates](https://www.kaggle.com/rtatman/data-cleaning-challenge-parsing-dates/)\n",
    "* [Day 4: Character encodings](https://www.kaggle.com/rtatman/data-cleaning-challenge-character-encodings/)\n",
    "* [Day 5: Inconsistent Data Entry](https://www.kaggle.com/rtatman/data-cleaning-challenge-inconsistent-data-entry/)\n",
    "___\n",
    "Welcome to day 1 of the 5-Day Data Challenge! Today, we're going to be looking at how to deal with missing values. To get started, click the blue \"Fork Notebook\" button in the upper, right hand corner. This will create a private copy of this notebook that you can edit and play with. Once you're finished with the exercises, you can choose to make your notebook public to share with others. :)\n",
    "\n",
    "> **Your turn!** As we work through this notebook, you'll see some notebook cells (a block of either code or text) that has \"Your Turn!\" written in it. These are exercises for you to do to help cement your understanding of the concepts we're talking about. Once you've written the code to answer a specific question, you can run the code by clicking inside the cell (box with code in it) with the code you want to run and then hit CTRL + ENTER (CMD + ENTER on a Mac). You can also click in a cell and then click on the right \"play\" arrow to the left of the code. If you want to run all the code in your notebook, you can use the double, \"fast forward\" arrows at the bottom of the notebook editor.\n",
    "\n",
    "Here's what we're going to do today:\n",
    "\n",
    "* [Take a first look at the data](#Take-a-first-look-at-the-data)\n",
    "* [See how many missing data points we have](#See-how-many-missing-data-points-we-have)\n",
    "* [Figure out why the data is missing](#Figure-out-why-the-data-is-missing)\n",
    "* [Drop missing values](#Drop-missing-values)\n",
    "* [Filling in missing values](#Filling-in-missing-values)\n",
    "\n",
    "Let's get started!"
   ]
  },
  {
   "cell_type": "markdown",
   "metadata": {
    "_cell_guid": "5cd5061f-ae30-4837-a53b-690ffd5c5830",
    "_uuid": "9d82bf13584b8e682962fbb96131f2447d741679"
   },
   "source": [
    "# Take a first look at the data\n",
    "________\n",
    "\n",
    "The first thing we'll need to do is load in the libraries and datasets we'll be using. For today, I'll be using a dataset of events that occured in American Football games for demonstration, and you'll be using a dataset of building permits issued in San Francisco.\n",
    "\n",
    "> **Important!** Make sure you run this cell yourself or the rest of your code won't work!"
   ]
  },
  {
   "cell_type": "code",
   "execution_count": 3,
   "metadata": {
    "_cell_guid": "135a7804-b5f5-40aa-8657-4a15774e3666",
    "_uuid": "835cbe0834b935fb0fd40c75b9c39454836f4d5f",
    "collapsed": true,
    "trusted": false
   },
   "outputs": [
    {
     "name": "stderr",
     "output_type": "stream",
     "text": [
      "/var/folders/28/b2_8q4jj4pg0_27h782xrsp00000gn/T/ipykernel_52478/3132955514.py:6: DtypeWarning: Columns (25,51) have mixed types. Specify dtype option on import or set low_memory=False.\n",
      "  nfl_data = pd.read_csv(\"/Users/vanshajshah/Downloads/archive (1)/NFL Play by Play 2009-2017 (v4).csv\")\n",
      "/var/folders/28/b2_8q4jj4pg0_27h782xrsp00000gn/T/ipykernel_52478/3132955514.py:7: DtypeWarning: Columns (22,32) have mixed types. Specify dtype option on import or set low_memory=False.\n",
      "  sf_permits = pd.read_csv(\"/Users/vanshajshah/Downloads/archive/Building_Permits.csv\")\n"
     ]
    }
   ],
   "source": [
    "# modules we'll use\n",
    "import pandas as pd\n",
    "import numpy as np\n",
    "\n",
    "# read in all our data\n",
    "nfl_data = pd.read_csv(\"/Users/vanshajshah/Downloads/archive (1)/NFL Play by Play 2009-2017 (v4).csv\")\n",
    "sf_permits = pd.read_csv(\"/Users/vanshajshah/Downloads/archive/Building_Permits.csv\")\n",
    "\n",
    "# set seed for reproducibility\n",
    "np.random.seed(0) "
   ]
  },
  {
   "cell_type": "markdown",
   "metadata": {
    "_cell_guid": "09b58d03-d34d-497a-b298-12a0ae962e3d",
    "_uuid": "53c84bf86149ac41b237633a1a79d6130d6a2cd4"
   },
   "source": [
    "The first thing I do when I get a new dataset is take a look at some of it. This lets me see that it all read in correctly and get an idea of what's going on with the data. In this case, I'm looking to see if I see any missing values, which will be reprsented with `NaN` or `None`."
   ]
  },
  {
   "cell_type": "code",
   "execution_count": 4,
   "metadata": {
    "_cell_guid": "79c7e3d0-c299-4dcb-8224-4455121ee9b0",
    "_uuid": "d629ff2d2480ee46fbb7e2d37f6b5fab8052498a",
    "collapsed": true,
    "trusted": false
   },
   "outputs": [
    {
     "data": {
      "application/vnd.microsoft.datawrangler.viewer.v0+json": {
       "columns": [
        {
         "name": "index",
         "rawType": "int64",
         "type": "integer"
        },
        {
         "name": "Date",
         "rawType": "object",
         "type": "string"
        },
        {
         "name": "GameID",
         "rawType": "int64",
         "type": "integer"
        },
        {
         "name": "Drive",
         "rawType": "int64",
         "type": "integer"
        },
        {
         "name": "qtr",
         "rawType": "int64",
         "type": "integer"
        },
        {
         "name": "down",
         "rawType": "float64",
         "type": "float"
        },
        {
         "name": "time",
         "rawType": "object",
         "type": "string"
        },
        {
         "name": "TimeUnder",
         "rawType": "int64",
         "type": "integer"
        },
        {
         "name": "TimeSecs",
         "rawType": "float64",
         "type": "float"
        },
        {
         "name": "PlayTimeDiff",
         "rawType": "float64",
         "type": "float"
        },
        {
         "name": "SideofField",
         "rawType": "object",
         "type": "string"
        },
        {
         "name": "yrdln",
         "rawType": "float64",
         "type": "float"
        },
        {
         "name": "yrdline100",
         "rawType": "float64",
         "type": "float"
        },
        {
         "name": "ydstogo",
         "rawType": "int64",
         "type": "integer"
        },
        {
         "name": "ydsnet",
         "rawType": "int64",
         "type": "integer"
        },
        {
         "name": "GoalToGo",
         "rawType": "float64",
         "type": "float"
        },
        {
         "name": "FirstDown",
         "rawType": "float64",
         "type": "float"
        },
        {
         "name": "posteam",
         "rawType": "object",
         "type": "string"
        },
        {
         "name": "DefensiveTeam",
         "rawType": "object",
         "type": "string"
        },
        {
         "name": "desc",
         "rawType": "object",
         "type": "string"
        },
        {
         "name": "PlayAttempted",
         "rawType": "int64",
         "type": "integer"
        },
        {
         "name": "Yards.Gained",
         "rawType": "int64",
         "type": "integer"
        },
        {
         "name": "sp",
         "rawType": "int64",
         "type": "integer"
        },
        {
         "name": "Touchdown",
         "rawType": "int64",
         "type": "integer"
        },
        {
         "name": "ExPointResult",
         "rawType": "object",
         "type": "unknown"
        },
        {
         "name": "TwoPointConv",
         "rawType": "object",
         "type": "unknown"
        },
        {
         "name": "DefTwoPoint",
         "rawType": "object",
         "type": "unknown"
        },
        {
         "name": "Safety",
         "rawType": "int64",
         "type": "integer"
        },
        {
         "name": "Onsidekick",
         "rawType": "int64",
         "type": "integer"
        },
        {
         "name": "PuntResult",
         "rawType": "object",
         "type": "unknown"
        },
        {
         "name": "PlayType",
         "rawType": "object",
         "type": "string"
        },
        {
         "name": "Passer",
         "rawType": "object",
         "type": "unknown"
        },
        {
         "name": "Passer_ID",
         "rawType": "object",
         "type": "unknown"
        },
        {
         "name": "PassAttempt",
         "rawType": "int64",
         "type": "integer"
        },
        {
         "name": "PassOutcome",
         "rawType": "object",
         "type": "unknown"
        },
        {
         "name": "PassLength",
         "rawType": "object",
         "type": "unknown"
        },
        {
         "name": "AirYards",
         "rawType": "int64",
         "type": "integer"
        },
        {
         "name": "YardsAfterCatch",
         "rawType": "int64",
         "type": "integer"
        },
        {
         "name": "QBHit",
         "rawType": "int64",
         "type": "integer"
        },
        {
         "name": "PassLocation",
         "rawType": "object",
         "type": "unknown"
        },
        {
         "name": "InterceptionThrown",
         "rawType": "int64",
         "type": "integer"
        },
        {
         "name": "Interceptor",
         "rawType": "object",
         "type": "unknown"
        },
        {
         "name": "Rusher",
         "rawType": "object",
         "type": "unknown"
        },
        {
         "name": "Rusher_ID",
         "rawType": "object",
         "type": "unknown"
        },
        {
         "name": "RushAttempt",
         "rawType": "int64",
         "type": "integer"
        },
        {
         "name": "RunLocation",
         "rawType": "object",
         "type": "unknown"
        },
        {
         "name": "RunGap",
         "rawType": "object",
         "type": "unknown"
        },
        {
         "name": "Receiver",
         "rawType": "object",
         "type": "unknown"
        },
        {
         "name": "Receiver_ID",
         "rawType": "object",
         "type": "unknown"
        },
        {
         "name": "Reception",
         "rawType": "int64",
         "type": "integer"
        },
        {
         "name": "ReturnResult",
         "rawType": "object",
         "type": "unknown"
        },
        {
         "name": "Returner",
         "rawType": "object",
         "type": "unknown"
        },
        {
         "name": "BlockingPlayer",
         "rawType": "object",
         "type": "unknown"
        },
        {
         "name": "Tackler1",
         "rawType": "object",
         "type": "unknown"
        },
        {
         "name": "Tackler2",
         "rawType": "object",
         "type": "unknown"
        },
        {
         "name": "FieldGoalResult",
         "rawType": "object",
         "type": "unknown"
        },
        {
         "name": "FieldGoalDistance",
         "rawType": "float64",
         "type": "float"
        },
        {
         "name": "Fumble",
         "rawType": "int64",
         "type": "integer"
        },
        {
         "name": "RecFumbTeam",
         "rawType": "object",
         "type": "unknown"
        },
        {
         "name": "RecFumbPlayer",
         "rawType": "object",
         "type": "unknown"
        },
        {
         "name": "Sack",
         "rawType": "int64",
         "type": "integer"
        },
        {
         "name": "Challenge.Replay",
         "rawType": "int64",
         "type": "integer"
        },
        {
         "name": "ChalReplayResult",
         "rawType": "object",
         "type": "unknown"
        },
        {
         "name": "Accepted.Penalty",
         "rawType": "int64",
         "type": "integer"
        },
        {
         "name": "PenalizedTeam",
         "rawType": "object",
         "type": "unknown"
        },
        {
         "name": "PenaltyType",
         "rawType": "object",
         "type": "unknown"
        },
        {
         "name": "PenalizedPlayer",
         "rawType": "object",
         "type": "unknown"
        },
        {
         "name": "Penalty.Yards",
         "rawType": "int64",
         "type": "integer"
        },
        {
         "name": "PosTeamScore",
         "rawType": "float64",
         "type": "float"
        },
        {
         "name": "DefTeamScore",
         "rawType": "float64",
         "type": "float"
        },
        {
         "name": "ScoreDiff",
         "rawType": "float64",
         "type": "float"
        },
        {
         "name": "AbsScoreDiff",
         "rawType": "float64",
         "type": "float"
        },
        {
         "name": "HomeTeam",
         "rawType": "object",
         "type": "string"
        },
        {
         "name": "AwayTeam",
         "rawType": "object",
         "type": "string"
        },
        {
         "name": "Timeout_Indicator",
         "rawType": "int64",
         "type": "integer"
        },
        {
         "name": "Timeout_Team",
         "rawType": "object",
         "type": "unknown"
        },
        {
         "name": "posteam_timeouts_pre",
         "rawType": "int64",
         "type": "integer"
        },
        {
         "name": "HomeTimeouts_Remaining_Pre",
         "rawType": "int64",
         "type": "integer"
        },
        {
         "name": "AwayTimeouts_Remaining_Pre",
         "rawType": "int64",
         "type": "integer"
        },
        {
         "name": "HomeTimeouts_Remaining_Post",
         "rawType": "int64",
         "type": "integer"
        },
        {
         "name": "AwayTimeouts_Remaining_Post",
         "rawType": "int64",
         "type": "integer"
        },
        {
         "name": "No_Score_Prob",
         "rawType": "float64",
         "type": "float"
        },
        {
         "name": "Opp_Field_Goal_Prob",
         "rawType": "float64",
         "type": "float"
        },
        {
         "name": "Opp_Safety_Prob",
         "rawType": "float64",
         "type": "float"
        },
        {
         "name": "Opp_Touchdown_Prob",
         "rawType": "float64",
         "type": "float"
        },
        {
         "name": "Field_Goal_Prob",
         "rawType": "float64",
         "type": "float"
        },
        {
         "name": "Safety_Prob",
         "rawType": "float64",
         "type": "float"
        },
        {
         "name": "Touchdown_Prob",
         "rawType": "float64",
         "type": "float"
        },
        {
         "name": "ExPoint_Prob",
         "rawType": "float64",
         "type": "float"
        },
        {
         "name": "TwoPoint_Prob",
         "rawType": "float64",
         "type": "float"
        },
        {
         "name": "ExpPts",
         "rawType": "float64",
         "type": "float"
        },
        {
         "name": "EPA",
         "rawType": "float64",
         "type": "float"
        },
        {
         "name": "airEPA",
         "rawType": "float64",
         "type": "float"
        },
        {
         "name": "yacEPA",
         "rawType": "float64",
         "type": "float"
        },
        {
         "name": "Home_WP_pre",
         "rawType": "float64",
         "type": "float"
        },
        {
         "name": "Away_WP_pre",
         "rawType": "float64",
         "type": "float"
        },
        {
         "name": "Home_WP_post",
         "rawType": "float64",
         "type": "float"
        },
        {
         "name": "Away_WP_post",
         "rawType": "float64",
         "type": "float"
        },
        {
         "name": "Win_Prob",
         "rawType": "float64",
         "type": "float"
        },
        {
         "name": "WPA",
         "rawType": "float64",
         "type": "float"
        },
        {
         "name": "airWPA",
         "rawType": "float64",
         "type": "float"
        },
        {
         "name": "yacWPA",
         "rawType": "float64",
         "type": "float"
        },
        {
         "name": "Season",
         "rawType": "int64",
         "type": "integer"
        }
       ],
       "ref": "f1408241-2c93-4cbe-b449-5fb75165a78c",
       "rows": [
        [
         "244485",
         "2014-10-26",
         "2014102607",
         "18",
         "3",
         "1.0",
         "00:39",
         "1",
         "939.0",
         "12.0",
         "TB",
         "49.0",
         "51.0",
         "10",
         "11",
         "0.0",
         "1.0",
         "TB",
         "MIN",
         "(:39) M.Glennon pass short middle to B.Rainey pushed ob at MIN 40 for 11 yards (X.Rhodes).",
         "1",
         "11",
         "0",
         "0",
         null,
         null,
         null,
         "0",
         "0",
         null,
         "Pass",
         "M.Glennon",
         "00-0030520",
         "1",
         "Complete",
         "Short",
         "0",
         "11",
         "0",
         "middle",
         "0",
         null,
         null,
         null,
         "0",
         null,
         null,
         "B.Rainey",
         "00-0029384",
         "1",
         null,
         null,
         null,
         "X.Rhodes",
         null,
         null,
         null,
         "0",
         null,
         null,
         "0",
         "0",
         null,
         "0",
         null,
         null,
         null,
         "0",
         "0.0",
         "10.0",
         "-10.0",
         "10.0",
         "TB",
         "MIN",
         "0",
         null,
         "3",
         "3",
         "3",
         "3",
         "3",
         "0.0241336619253006",
         "0.0833352622492945",
         "0.0005270875156275955",
         "0.1256242935060323",
         "0.3094042318089232",
         "0.0032790871212952",
         "0.4536963758735264",
         "0.0",
         "0.0",
         "2.9802154844626796",
         "0.6521985859181227",
         "-0.5881008295640187",
         "1.2402994154821414",
         "0.2256473500117122",
         "0.7743526499882878",
         "0.245582460257414",
         "0.7544175397425861",
         "0.2256473500117122",
         "0.0199351102457017",
         "-0.0181556763902906",
         "0.0380907866359924",
         "2014"
        ],
        [
         "115340",
         "2011-11-20",
         "2011112000",
         "22",
         "4",
         "1.0",
         "06:47",
         "7",
         "407.0",
         "44.0",
         "OAK",
         "31.0",
         "69.0",
         "10",
         "24",
         "0.0",
         "1.0",
         "OAK",
         "MIN",
         "(6:47) M.Bush up the middle to OAK 44 for 13 yards (Ty.Johnson).",
         "1",
         "13",
         "0",
         "0",
         null,
         null,
         null,
         "0",
         "0",
         null,
         "Run",
         null,
         null,
         "0",
         null,
         null,
         "0",
         "0",
         "0",
         null,
         "0",
         null,
         "M.Bush",
         "00-0025487",
         "1",
         "middle",
         null,
         null,
         null,
         "0",
         null,
         null,
         null,
         "Ty.Johnson",
         null,
         null,
         null,
         "0",
         null,
         null,
         "0",
         "0",
         null,
         "0",
         null,
         null,
         null,
         "0",
         "27.0",
         "14.0",
         "13.0",
         "13.0",
         "MIN",
         "OAK",
         "0",
         null,
         "3",
         "3",
         "3",
         "3",
         "3",
         "0.2469292082483666",
         "0.1011015149491307",
         "0.0018825080296051",
         "0.149761861308154",
         "0.1981424057979746",
         "0.0025982300145029",
         "0.2995842716522657",
         "0.0",
         "0.0",
         "1.3413109889251087",
         "0.8719436721639886",
         null,
         null,
         "0.0560360347382915",
         "0.9439639652617084",
         "0.0429628061619825",
         "0.9570371938380174",
         "0.9439639652617084",
         "0.0130732285763089",
         null,
         null,
         "2011"
        ],
        [
         "68357",
         "2010-11-14",
         "2010111401",
         "8",
         "2",
         null,
         "00:23",
         "1",
         "1823.0",
         "0.0",
         "CLE",
         "2.0",
         "2.0",
         "0",
         "80",
         "0.0",
         "0.0",
         "NYJ",
         "CLE",
         "N.Folk extra point is GOOD, Center-T.Purdum, Holder-S.Weatherford.",
         "1",
         "0",
         "1",
         "0",
         "Made",
         null,
         null,
         "0",
         "0",
         null,
         "Extra Point",
         null,
         null,
         "0",
         null,
         null,
         "0",
         "0",
         "0",
         null,
         "0",
         null,
         null,
         null,
         "0",
         null,
         null,
         null,
         null,
         "0",
         null,
         null,
         null,
         null,
         null,
         null,
         null,
         "0",
         null,
         null,
         "0",
         "0",
         null,
         "0",
         null,
         null,
         null,
         "0",
         "16.0",
         "13.0",
         "3.0",
         "3.0",
         "CLE",
         "NYJ",
         "0",
         null,
         "1",
         "2",
         "1",
         "2",
         "1",
         "0.0",
         "0.0",
         "0.0",
         "0.0",
         "0.0",
         "0.0",
         "0.0",
         "0.9907954004544308",
         "0.0",
         "0.9907954004544308",
         "0.009204599545569",
         null,
         null,
         "0.3653069357036392",
         "0.6346930642963607",
         "0.3846972444111719",
         "0.6153027555888281",
         "0.6346930642963607",
         "-0.0193903087075326",
         null,
         null,
         "2010"
        ],
        [
         "368377",
         "2017-09-24",
         "2017092405",
         "24",
         "4",
         "1.0",
         "08:48",
         "9",
         "528.0",
         "8.0",
         "CLE",
         "42.0",
         "58.0",
         "10",
         "25",
         "0.0",
         "1.0",
         "CLE",
         "IND",
         "(8:48) (Shotgun) D.Kizer pass short middle to D.Johnson to IND 33 for 25 yards (M.Farley).",
         "1",
         "25",
         "0",
         "0",
         null,
         null,
         null,
         "0",
         "0",
         null,
         "Pass",
         "D.Kizer",
         "00-0033899",
         "1",
         "Complete",
         "Short",
         "7",
         "18",
         "0",
         "middle",
         "0",
         null,
         null,
         null,
         "0",
         null,
         null,
         "D.Johnson",
         "00-0032257",
         "1",
         null,
         null,
         null,
         "M.Farley",
         null,
         null,
         null,
         "0",
         null,
         null,
         "0",
         "0",
         null,
         "0",
         null,
         null,
         null,
         "0",
         "14.0",
         "31.0",
         "-17.0",
         "17.0",
         "IND",
         "CLE",
         "0",
         null,
         "0",
         "2",
         "0",
         "2",
         "0",
         "0.1338136067236248",
         "0.0880174291363933",
         "0.0008446710354336466",
         "0.1307677947301457",
         "0.2582274808463302",
         "0.0029314993042957",
         "0.3853975182237764",
         "0.0",
         "0.0",
         "2.297211876122949",
         "1.4777403106952924",
         "0.4020798495044557",
         "1.0756604611908367",
         "0.9359951594689602",
         "0.0640048405310398",
         "0.9212309302823484",
         "0.0787690697176517",
         "0.0640048405310398",
         "0.0147642291866118",
         "0.0038655274082572",
         "0.0108987017783546",
         "2017"
        ],
        [
         "384684",
         "2017-11-05",
         "2017110505",
         "11",
         "2",
         "1.0",
         "09:15",
         "10",
         "2355.0",
         "0.0",
         "DEN",
         "25.0",
         "75.0",
         "10",
         "0",
         "0.0",
         "0.0",
         "DEN",
         "PHI",
         "(9:15) (Shotgun) J.Charles right end to DEN 25 for no gain (B.Graham).",
         "1",
         "0",
         "0",
         "0",
         null,
         null,
         null,
         "0",
         "0",
         null,
         "Run",
         null,
         null,
         "0",
         null,
         null,
         "0",
         "0",
         "0",
         null,
         "0",
         null,
         "J.Charles",
         "00-0026213",
         "1",
         "right",
         "end",
         null,
         null,
         "0",
         null,
         null,
         null,
         "B.Graham",
         null,
         null,
         null,
         "0",
         null,
         null,
         "0",
         "0",
         null,
         "0",
         null,
         null,
         null,
         "0",
         "6.0",
         "24.0",
         "-18.0",
         "18.0",
         "PHI",
         "DEN",
         "0",
         null,
         "2",
         "3",
         "2",
         "3",
         "2",
         "0.1707871840913217",
         "0.1287659538797524",
         "0.0034526492272884",
         "0.1919822388862792",
         "0.1997706852635111",
         "0.0028759494006252",
         "0.3023653392512218",
         "0.0",
         "0.0",
         "0.9845424970525474",
         "-0.6371782665533923",
         null,
         null,
         "0.9284742874107484",
         "0.0715257125892516",
         "0.9346406166496296",
         "0.0653593833503702",
         "0.0715257125892516",
         "-0.0061663292388813",
         null,
         null,
         "2017"
        ]
       ],
       "shape": {
        "columns": 102,
        "rows": 5
       }
      },
      "text/html": [
       "<div>\n",
       "<style scoped>\n",
       "    .dataframe tbody tr th:only-of-type {\n",
       "        vertical-align: middle;\n",
       "    }\n",
       "\n",
       "    .dataframe tbody tr th {\n",
       "        vertical-align: top;\n",
       "    }\n",
       "\n",
       "    .dataframe thead th {\n",
       "        text-align: right;\n",
       "    }\n",
       "</style>\n",
       "<table border=\"1\" class=\"dataframe\">\n",
       "  <thead>\n",
       "    <tr style=\"text-align: right;\">\n",
       "      <th></th>\n",
       "      <th>Date</th>\n",
       "      <th>GameID</th>\n",
       "      <th>Drive</th>\n",
       "      <th>qtr</th>\n",
       "      <th>down</th>\n",
       "      <th>time</th>\n",
       "      <th>TimeUnder</th>\n",
       "      <th>TimeSecs</th>\n",
       "      <th>PlayTimeDiff</th>\n",
       "      <th>SideofField</th>\n",
       "      <th>...</th>\n",
       "      <th>yacEPA</th>\n",
       "      <th>Home_WP_pre</th>\n",
       "      <th>Away_WP_pre</th>\n",
       "      <th>Home_WP_post</th>\n",
       "      <th>Away_WP_post</th>\n",
       "      <th>Win_Prob</th>\n",
       "      <th>WPA</th>\n",
       "      <th>airWPA</th>\n",
       "      <th>yacWPA</th>\n",
       "      <th>Season</th>\n",
       "    </tr>\n",
       "  </thead>\n",
       "  <tbody>\n",
       "    <tr>\n",
       "      <th>244485</th>\n",
       "      <td>2014-10-26</td>\n",
       "      <td>2014102607</td>\n",
       "      <td>18</td>\n",
       "      <td>3</td>\n",
       "      <td>1.0</td>\n",
       "      <td>00:39</td>\n",
       "      <td>1</td>\n",
       "      <td>939.0</td>\n",
       "      <td>12.0</td>\n",
       "      <td>TB</td>\n",
       "      <td>...</td>\n",
       "      <td>1.240299</td>\n",
       "      <td>0.225647</td>\n",
       "      <td>0.774353</td>\n",
       "      <td>0.245582</td>\n",
       "      <td>0.754418</td>\n",
       "      <td>0.225647</td>\n",
       "      <td>0.019935</td>\n",
       "      <td>-0.018156</td>\n",
       "      <td>0.038091</td>\n",
       "      <td>2014</td>\n",
       "    </tr>\n",
       "    <tr>\n",
       "      <th>115340</th>\n",
       "      <td>2011-11-20</td>\n",
       "      <td>2011112000</td>\n",
       "      <td>22</td>\n",
       "      <td>4</td>\n",
       "      <td>1.0</td>\n",
       "      <td>06:47</td>\n",
       "      <td>7</td>\n",
       "      <td>407.0</td>\n",
       "      <td>44.0</td>\n",
       "      <td>OAK</td>\n",
       "      <td>...</td>\n",
       "      <td>NaN</td>\n",
       "      <td>0.056036</td>\n",
       "      <td>0.943964</td>\n",
       "      <td>0.042963</td>\n",
       "      <td>0.957037</td>\n",
       "      <td>0.943964</td>\n",
       "      <td>0.013073</td>\n",
       "      <td>NaN</td>\n",
       "      <td>NaN</td>\n",
       "      <td>2011</td>\n",
       "    </tr>\n",
       "    <tr>\n",
       "      <th>68357</th>\n",
       "      <td>2010-11-14</td>\n",
       "      <td>2010111401</td>\n",
       "      <td>8</td>\n",
       "      <td>2</td>\n",
       "      <td>NaN</td>\n",
       "      <td>00:23</td>\n",
       "      <td>1</td>\n",
       "      <td>1823.0</td>\n",
       "      <td>0.0</td>\n",
       "      <td>CLE</td>\n",
       "      <td>...</td>\n",
       "      <td>NaN</td>\n",
       "      <td>0.365307</td>\n",
       "      <td>0.634693</td>\n",
       "      <td>0.384697</td>\n",
       "      <td>0.615303</td>\n",
       "      <td>0.634693</td>\n",
       "      <td>-0.019390</td>\n",
       "      <td>NaN</td>\n",
       "      <td>NaN</td>\n",
       "      <td>2010</td>\n",
       "    </tr>\n",
       "    <tr>\n",
       "      <th>368377</th>\n",
       "      <td>2017-09-24</td>\n",
       "      <td>2017092405</td>\n",
       "      <td>24</td>\n",
       "      <td>4</td>\n",
       "      <td>1.0</td>\n",
       "      <td>08:48</td>\n",
       "      <td>9</td>\n",
       "      <td>528.0</td>\n",
       "      <td>8.0</td>\n",
       "      <td>CLE</td>\n",
       "      <td>...</td>\n",
       "      <td>1.075660</td>\n",
       "      <td>0.935995</td>\n",
       "      <td>0.064005</td>\n",
       "      <td>0.921231</td>\n",
       "      <td>0.078769</td>\n",
       "      <td>0.064005</td>\n",
       "      <td>0.014764</td>\n",
       "      <td>0.003866</td>\n",
       "      <td>0.010899</td>\n",
       "      <td>2017</td>\n",
       "    </tr>\n",
       "    <tr>\n",
       "      <th>384684</th>\n",
       "      <td>2017-11-05</td>\n",
       "      <td>2017110505</td>\n",
       "      <td>11</td>\n",
       "      <td>2</td>\n",
       "      <td>1.0</td>\n",
       "      <td>09:15</td>\n",
       "      <td>10</td>\n",
       "      <td>2355.0</td>\n",
       "      <td>0.0</td>\n",
       "      <td>DEN</td>\n",
       "      <td>...</td>\n",
       "      <td>NaN</td>\n",
       "      <td>0.928474</td>\n",
       "      <td>0.071526</td>\n",
       "      <td>0.934641</td>\n",
       "      <td>0.065359</td>\n",
       "      <td>0.071526</td>\n",
       "      <td>-0.006166</td>\n",
       "      <td>NaN</td>\n",
       "      <td>NaN</td>\n",
       "      <td>2017</td>\n",
       "    </tr>\n",
       "  </tbody>\n",
       "</table>\n",
       "<p>5 rows × 102 columns</p>\n",
       "</div>"
      ],
      "text/plain": [
       "              Date      GameID  Drive  qtr  down   time  TimeUnder  TimeSecs  \\\n",
       "244485  2014-10-26  2014102607     18    3   1.0  00:39          1     939.0   \n",
       "115340  2011-11-20  2011112000     22    4   1.0  06:47          7     407.0   \n",
       "68357   2010-11-14  2010111401      8    2   NaN  00:23          1    1823.0   \n",
       "368377  2017-09-24  2017092405     24    4   1.0  08:48          9     528.0   \n",
       "384684  2017-11-05  2017110505     11    2   1.0  09:15         10    2355.0   \n",
       "\n",
       "        PlayTimeDiff SideofField  ...    yacEPA  Home_WP_pre  Away_WP_pre  \\\n",
       "244485          12.0          TB  ...  1.240299     0.225647     0.774353   \n",
       "115340          44.0         OAK  ...       NaN     0.056036     0.943964   \n",
       "68357            0.0         CLE  ...       NaN     0.365307     0.634693   \n",
       "368377           8.0         CLE  ...  1.075660     0.935995     0.064005   \n",
       "384684           0.0         DEN  ...       NaN     0.928474     0.071526   \n",
       "\n",
       "        Home_WP_post  Away_WP_post  Win_Prob       WPA    airWPA    yacWPA  \\\n",
       "244485      0.245582      0.754418  0.225647  0.019935 -0.018156  0.038091   \n",
       "115340      0.042963      0.957037  0.943964  0.013073       NaN       NaN   \n",
       "68357       0.384697      0.615303  0.634693 -0.019390       NaN       NaN   \n",
       "368377      0.921231      0.078769  0.064005  0.014764  0.003866  0.010899   \n",
       "384684      0.934641      0.065359  0.071526 -0.006166       NaN       NaN   \n",
       "\n",
       "        Season  \n",
       "244485    2014  \n",
       "115340    2011  \n",
       "68357     2010  \n",
       "368377    2017  \n",
       "384684    2017  \n",
       "\n",
       "[5 rows x 102 columns]"
      ]
     },
     "execution_count": 4,
     "metadata": {},
     "output_type": "execute_result"
    }
   ],
   "source": [
    "# look at a few rows of the nfl_data file. I can see a handful of missing data already!\n",
    "nfl_data.sample(5)"
   ]
  },
  {
   "cell_type": "markdown",
   "metadata": {
    "_cell_guid": "604ac3a4-b1d9-4264-b312-4bbeecdeec00",
    "_uuid": "03ce3b4afe87d98f777172c2c7be066a66a0b237"
   },
   "source": [
    "Yep, it looks like there's some missing values. What about in the sf_permits dataset?"
   ]
  },
  {
   "cell_type": "code",
   "execution_count": null,
   "metadata": {
    "_cell_guid": "8dca377c-95be-40ec-87dc-61a8fca750e2",
    "_uuid": "e389495bb2e5d27ab632d5f3648ca1f912c94706",
    "collapsed": true,
    "trusted": false
   },
   "outputs": [],
   "source": [
    "# your turn! Look at a couple of rows from the sf_permits dataset. Do you notice any missing data?\n",
    "\n",
    "# your code goes here :)"
   ]
  },
  {
   "cell_type": "markdown",
   "metadata": {
    "_cell_guid": "33656c2b-a74e-4b76-9af2-d7ecd518577b",
    "_uuid": "400b025f618cc76a39fec2537193f28ba1e49168"
   },
   "source": [
    "# See how many missing data points we have\n",
    "___\n",
    "\n",
    "Ok, now we know that we do have some missing values. Let's see how many we have in each column. "
   ]
  },
  {
   "cell_type": "code",
   "execution_count": null,
   "metadata": {
    "_cell_guid": "a69ac02d-197b-487b-a38f-2f853d208eed",
    "_uuid": "6dc0e32180c4a3bba003e7886faf126d93affadf",
    "collapsed": true,
    "trusted": false
   },
   "outputs": [],
   "source": [
    "# get the number of missing data points per column\n",
    "missing_values_count = nfl_data.isnull().sum()\n",
    "\n",
    "# look at the # of missing points in the first ten columns\n",
    "missing_values_count[0:10]"
   ]
  },
  {
   "cell_type": "markdown",
   "metadata": {
    "_cell_guid": "84455c7e-6c63-4e08-a7b4-7520a61072f9",
    "_uuid": "054ba8782a7b0555336eddb90c985fb638beac4d"
   },
   "source": [
    "That seems like a lot! It might be helpful to see what percentage of the values in our dataset were missing to give us a better sense of the scale of this problem:"
   ]
  },
  {
   "cell_type": "code",
   "execution_count": null,
   "metadata": {
    "_cell_guid": "fb77dd56-192e-48be-8181-2082985dd5a2",
    "_uuid": "d6e65ba197893f29d9dce0b0cd1c75017b60db09",
    "collapsed": true,
    "trusted": false
   },
   "outputs": [],
   "source": [
    "# how many total missing values do we have?\n",
    "total_cells = np.product(nfl_data.shape)\n",
    "total_missing = missing_values_count.sum()\n",
    "\n",
    "# percent of data that is missing\n",
    "(total_missing/total_cells) * 100"
   ]
  },
  {
   "cell_type": "markdown",
   "metadata": {
    "_cell_guid": "31daa324-9215-4930-985c-01dee717b6b8",
    "_uuid": "3331fa42efa16f3db2e8e196411f351c5f8309f5"
   },
   "source": [
    "Wow, almost a quarter of the cells in this dataset are empty! In the next step, we're going to take a closer look at some of the columns with missing values and try to figure out what might be going on with them."
   ]
  },
  {
   "cell_type": "code",
   "execution_count": null,
   "metadata": {
    "_cell_guid": "f20a9474-41ee-4ecd-a2f4-1ab147fc8655",
    "_uuid": "64487760aa1afaaa8b8a4d1f95206773759db101",
    "collapsed": true,
    "trusted": false
   },
   "outputs": [],
   "source": [
    "# your turn! Find out what percent of the sf_permits dataset is missing\n"
   ]
  },
  {
   "cell_type": "markdown",
   "metadata": {
    "_cell_guid": "62b9f021-5b80-43e2-bf60-8e0d5e22d572",
    "_uuid": "032a618abb98a28e60ab84376cf21402178f995d"
   },
   "source": [
    "# Figure out why the data is missing\n",
    "____\n",
    " \n",
    "This is the point at which we get into the part of data science that I like to call \"data intution\", by which I mean \"really looking at your data and trying to figure out why it is the way it is and how that will affect your analysis\". It can be a frustrating part of data science, especially if you're newer to the field and don't have a lot of experience. For dealing with missing values, you'll need to use your intution to figure out why the value is missing. One of the most important question you can ask yourself to help figure this out is this:\n",
    "\n",
    "> **Is this value missing becuase it wasn't recorded or becuase it dosen't exist?**\n",
    "\n",
    "If a value is missing becuase it doens't exist (like the height of the oldest child of someone who doesn't have any children) then it doesn't make sense to try and guess what it might be. These values you probalby do want to keep as NaN. On the other hand, if a value is missing becuase it wasn't recorded, then you can try to guess what it might have been based on the other values in that column and row. (This is called \"imputation\" and we'll learn how to do it next! :)\n",
    "\n",
    "Let's work through an example. Looking at the number of missing values in the nfl_data dataframe, I notice that the column `TimesSec` has a lot of missing values in it: "
   ]
  },
  {
   "cell_type": "code",
   "execution_count": null,
   "metadata": {
    "_cell_guid": "77739e82-8d32-4374-84bf-a924b6065168",
    "_uuid": "b65aea6046964806e44422c057bce8bd7f8e59d5",
    "collapsed": true,
    "trusted": false
   },
   "outputs": [],
   "source": [
    "# look at the # of missing points in the first ten columns\n",
    "missing_values_count[0:10]"
   ]
  },
  {
   "cell_type": "markdown",
   "metadata": {
    "_cell_guid": "1b17f4c9-dcab-4857-82f9-a2534e804c91",
    "_uuid": "5cff158285ab37a89b80dcc35d5c690cdb42d3a4"
   },
   "source": [
    "By looking at [the documentation](https://www.kaggle.com/maxhorowitz/nflplaybyplay2009to2016), I can see that this column has information on the number of seconds left in the game when the play was made. This means that these values are probably missing because they were not recorded, rather than because they don't exist. So, it would make sense for us to try and guess what they should be rather than just leaving them as NA's.\n",
    "\n",
    "On the other hand, there are other fields, like `PenalizedTeam` that also have lot of missing fields. In this case, though, the field is missing because if there was no penalty then it doesn't make sense to say *which* team was penalized. For this column, it would make more sense to either leave it empty or to add a third value like \"neither\" and use that to replace the NA's.\n",
    "\n",
    "> **Tip:** This is a great place to read over the dataset documentation if you haven't already! If you're working with a dataset that you've gotten from another person, you can also try reaching out to them to get more information.\n",
    "\n",
    "If you're doing very careful data analysis, this is the point at which you'd look at each column individually to figure out the best strategy for filling those missing values. For the rest of this notebook, we'll cover some \"quick and dirty\" techniques that can help you with missing values but will probably also end up removing some useful information or adding some noise to your data.\n",
    "\n",
    "## Your turn!\n",
    "\n",
    "* Look at the columns `Street Number Suffix` and `Zipcode` from the `sf_permits` datasets. Both of these contain missing values. Which, if either, of these are missing because they don't exist? Which, if either, are missing because they weren't recorded?"
   ]
  },
  {
   "cell_type": "markdown",
   "metadata": {
    "_cell_guid": "ea022b62-6419-47e7-973e-c3e707e2795f",
    "_uuid": "3f72f46f2464c7cd12f5eb2a752746ce1cd0b5a7"
   },
   "source": [
    "# Drop missing values\n",
    "___\n",
    "\n",
    "If you're in a hurry or don't have a reason to figure out why your values are missing, one option you have is to just remove any rows or columns that contain missing values. (Note: I don't generally recommend this approch for important projects! It's usually worth it to take the time to go through your data and really look at all the columns with missing values one-by-one to really get to know your dataset.)  \n",
    "\n",
    "If you're sure you want to drop rows with missing values, pandas does have a handy function, `dropna()` to help you do this. Let's try it out on our NFL dataset!"
   ]
  },
  {
   "cell_type": "code",
   "execution_count": null,
   "metadata": {
    "_cell_guid": "ad0ac9a2-2854-4bb7-8886-8eee7fad8756",
    "_uuid": "ad8ef7825ba9bce3472a47d7c5242a4522f14065",
    "collapsed": true,
    "trusted": false
   },
   "outputs": [],
   "source": [
    "# remove all the rows that contain a missing value\n",
    "nfl_data.dropna()"
   ]
  },
  {
   "cell_type": "markdown",
   "metadata": {
    "_cell_guid": "e0545655-3d37-448b-ae56-2c7707cd805d",
    "_uuid": "33eb849e076d2a4d0c409f58d78b5f303879b1b3"
   },
   "source": [
    "Oh dear, it looks like that's removed all our data! 😱 This is because every row in our dataset had at least one missing value. We might have better luck removing all the *columns* that have at least one missing value instead."
   ]
  },
  {
   "cell_type": "code",
   "execution_count": null,
   "metadata": {
    "_cell_guid": "97709ad4-f7b8-4cd0-8911-56e14db904ae",
    "_uuid": "87c569672854fe23e1ee9376ef3115ba4712cbf5",
    "collapsed": true,
    "trusted": false
   },
   "outputs": [],
   "source": [
    "# remove all columns with at least one missing value\n",
    "columns_with_na_dropped = nfl_data.dropna(axis=1)\n",
    "columns_with_na_dropped.head()"
   ]
  },
  {
   "cell_type": "code",
   "execution_count": null,
   "metadata": {
    "_cell_guid": "0e51b19b-c44d-4487-8417-725d2b911739",
    "_uuid": "e60a092d2799851aa725eadf28b197022a6b127f",
    "collapsed": true,
    "trusted": false
   },
   "outputs": [],
   "source": [
    "# just how much data did we lose?\n",
    "print(\"Columns in original dataset: %d \\n\" % nfl_data.shape[1])\n",
    "print(\"Columns with na's dropped: %d\" % columns_with_na_dropped.shape[1])"
   ]
  },
  {
   "cell_type": "markdown",
   "metadata": {
    "_cell_guid": "f417c614-f77f-45eb-b16b-fdc0be936502",
    "_uuid": "bac84fee4ca849e54839c716c43dddfbb559954b"
   },
   "source": [
    "We've lost quite a bit of data, but at this point we have successfully removed all the `NaN`'s from our data. "
   ]
  },
  {
   "cell_type": "code",
   "execution_count": null,
   "metadata": {
    "_cell_guid": "0fe94654-7dad-4e8d-bbbb-e65e2bb2f767",
    "_uuid": "8207912f74712835283f7e1b30dad0471ee2e1fc",
    "collapsed": true,
    "trusted": false
   },
   "outputs": [],
   "source": [
    "# Your turn! Try removing all the rows from the sf_permits dataset that contain missing values. How many are left?\n"
   ]
  },
  {
   "cell_type": "code",
   "execution_count": null,
   "metadata": {
    "_cell_guid": "7ec643e1-abba-4683-b794-a1924e657501",
    "_uuid": "f804c0448b18b6d411ddf8452d15abba8292fffa",
    "collapsed": true,
    "trusted": false
   },
   "outputs": [],
   "source": [
    "# Now try removing all the columns with empty values. Now how much of your data is left?\n"
   ]
  },
  {
   "cell_type": "markdown",
   "metadata": {
    "_cell_guid": "1dbe153d-7b30-4ad8-80ad-a4c7fb53928e",
    "_uuid": "eb1ef8d47d9ebed77c3d21eca24708708ed4d45f"
   },
   "source": [
    "# Filling in missing values automatically\n",
    "_____\n",
    "\n",
    "Another option is to try and fill in the missing values. For this next bit, I'm getting a small sub-section of the NFL data so that it will print well."
   ]
  },
  {
   "cell_type": "code",
   "execution_count": null,
   "metadata": {
    "_cell_guid": "76fd83fb-a6d9-4c03-8c94-a111ee529881",
    "_uuid": "e0944282c73a63513d5345689ddd6a9da0fc8547",
    "collapsed": true,
    "trusted": false
   },
   "outputs": [],
   "source": [
    "# get a small subset of the NFL dataset\n",
    "subset_nfl_data = nfl_data.loc[:, 'EPA':'Season'].head()\n",
    "subset_nfl_data"
   ]
  },
  {
   "cell_type": "markdown",
   "metadata": {
    "_cell_guid": "527c8703-4b29-459d-af7d-5505da36016b",
    "_uuid": "f8cfe916904af3265d8ecc4f791f9f62e34ff458"
   },
   "source": [
    "We can use the Panda's fillna() function to fill in missing values in a dataframe for us. One option we have is to specify what we want the `NaN` values to be replaced with. Here, I'm saying that I would like to replace all the `NaN` values with 0."
   ]
  },
  {
   "cell_type": "code",
   "execution_count": null,
   "metadata": {
    "_cell_guid": "c01ed989-8901-43c8-afa3-6ca36605dfb5",
    "_uuid": "77eac530ce398b8c13eb7886f86bce48fd997f34",
    "collapsed": true,
    "trusted": false
   },
   "outputs": [],
   "source": [
    "# replace all NA's with 0\n",
    "subset_nfl_data.fillna(0)"
   ]
  },
  {
   "cell_type": "markdown",
   "metadata": {
    "_cell_guid": "1103b725-c823-4f40-9bda-e97997856339",
    "_uuid": "bec603202c6bfaae7a49b4a4042f37019ad1d801"
   },
   "source": [
    "I could also be a bit more savvy and replace missing values with whatever value comes directly after it in the same column. (This makes a lot of sense for datasets where the observations have some sort of logical order to them.)"
   ]
  },
  {
   "cell_type": "code",
   "execution_count": null,
   "metadata": {
    "_cell_guid": "90ddac9b-ee20-492e-b437-0519c97ca317",
    "_uuid": "afba99aa7897539e9a0af77dce03daab94d0ca68",
    "collapsed": true,
    "trusted": false
   },
   "outputs": [],
   "source": [
    "# replace all NA's the value that comes directly after it in the same column, \n",
    "# then replace all the reamining na's with 0\n",
    "subset_nfl_data.fillna(method = 'bfill', axis=0).fillna(0)"
   ]
  },
  {
   "cell_type": "markdown",
   "metadata": {
    "_cell_guid": "980e5d67-7e9c-41a3-b17e-51d87e9da9cf",
    "_uuid": "1f8ac8b52f2933612e315f06a53185e164e6c5bc"
   },
   "source": [
    "Filling in missing values is also known as \"imputation\", and you can find more exercises on it [in this lesson, also linked under the \"More practice!\" section](https://www.kaggle.com/dansbecker/handling-missing-values). First, however, why don't you try replacing some of the missing values in the sf_permit dataset?"
   ]
  },
  {
   "cell_type": "code",
   "execution_count": null,
   "metadata": {
    "_cell_guid": "da426397-7e17-40ce-a0d4-ca6d39e47498",
    "_uuid": "f7d403c19eaf31ee0a4e04b9e1119eda96a9f95c",
    "collapsed": true,
    "trusted": false
   },
   "outputs": [],
   "source": [
    "# Your turn! Try replacing all the NaN's in the sf_permits data with the one that\n",
    "# comes directly after it and then replacing any remaining NaN's with 0"
   ]
  },
  {
   "cell_type": "markdown",
   "metadata": {
    "_cell_guid": "b4f37fce-4d08-409e-bbbd-6a26c3bbc6ee",
    "_uuid": "52b0af56e3c77db96056e9acd785f8f435f7caf5"
   },
   "source": [
    "And that's it for today! If you have any questions, be sure to post them in the comments below or [on the forums](https://www.kaggle.com/questions-and-answers). \n",
    "\n",
    "Remember that your notebook is private by default, and in order to share it with other people or ask for help with it, you'll need to make it public. First, you'll need to save a version of your notebook that shows your current work by hitting the \"Commit & Run\" button. (Your work is saved automatically, but versioning your work lets you go back and look at what it was like at the point you saved it. It also let's you share a nice compiled notebook instead of just the raw code.) Then, once your notebook is finished running, you can go to the Settings tab in the panel to the left (you may have to expand it by hitting the [<] button next to the \"Commit & Run\" button) and setting the \"Visibility\" dropdown to \"Public\".\n",
    "\n",
    "# More practice!\n",
    "___\n",
    "\n",
    "If you're looking for more practice handling missing values, check out these extra-credit\\* exercises:\n",
    "\n",
    "* [Handling Missing Values](https://www.kaggle.com/dansbecker/handling-missing-values): In this notebook Dan shows you several approaches to imputing missing data using scikit-learn's imputer. \n",
    "* Look back at the `Zipcode` column in the `sf_permits` dataset, which has some missing values. How would you go about figuring out what the actual zipcode of each address should be? (You might try using another dataset. You can search for datasets about San Fransisco on the [Datasets listing](https://www.kaggle.com/datasets).) \n",
    "\n",
    "\\* no actual credit is given for completing the challenge, you just learn how to clean data real good :P"
   ]
  }
 ],
 "metadata": {
  "kernelspec": {
   "display_name": "Python 3",
   "language": "python",
   "name": "python3"
  },
  "language_info": {
   "codemirror_mode": {
    "name": "ipython",
    "version": 3
   },
   "file_extension": ".py",
   "mimetype": "text/x-python",
   "name": "python",
   "nbconvert_exporter": "python",
   "pygments_lexer": "ipython3",
   "version": "3.11.13"
  }
 },
 "nbformat": 4,
 "nbformat_minor": 1
}
