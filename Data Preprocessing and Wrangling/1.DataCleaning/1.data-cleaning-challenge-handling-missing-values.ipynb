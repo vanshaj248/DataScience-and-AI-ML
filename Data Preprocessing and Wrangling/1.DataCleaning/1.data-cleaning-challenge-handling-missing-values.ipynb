{
 "cells": [
  {
   "cell_type": "markdown",
   "metadata": {
    "_cell_guid": "b91a74ba-85f4-486e-b5f9-d0898f0626bf",
    "_uuid": "6ac53f18b4f4ec0fc44348cedb5d1c319fa127c0"
   },
   "source": [
    "### All days of the challange:\n",
    "\n",
    "* [Day 1: Handling missing values](https://www.kaggle.com/rtatman/data-cleaning-challenge-handling-missing-values)\n",
    "* [Day 2: Scaling and normalization](https://www.kaggle.com/rtatman/data-cleaning-challenge-scale-and-normalize-data)\n",
    "* [Day 3: Parsing dates](https://www.kaggle.com/rtatman/data-cleaning-challenge-parsing-dates/)\n",
    "* [Day 4: Character encodings](https://www.kaggle.com/rtatman/data-cleaning-challenge-character-encodings/)\n",
    "* [Day 5: Inconsistent Data Entry](https://www.kaggle.com/rtatman/data-cleaning-challenge-inconsistent-data-entry/)\n",
    "___\n",
    "Welcome to day 1 of the 5-Day Data Challenge! Today, we're going to be looking at how to deal with missing values. To get started, click the blue \"Fork Notebook\" button in the upper, right hand corner. This will create a private copy of this notebook that you can edit and play with. Once you're finished with the exercises, you can choose to make your notebook public to share with others. :)\n",
    "\n",
    "> **Your turn!** As we work through this notebook, you'll see some notebook cells (a block of either code or text) that has \"Your Turn!\" written in it. These are exercises for you to do to help cement your understanding of the concepts we're talking about. Once you've written the code to answer a specific question, you can run the code by clicking inside the cell (box with code in it) with the code you want to run and then hit CTRL + ENTER (CMD + ENTER on a Mac). You can also click in a cell and then click on the right \"play\" arrow to the left of the code. If you want to run all the code in your notebook, you can use the double, \"fast forward\" arrows at the bottom of the notebook editor.\n",
    "\n",
    "Here's what we're going to do today:\n",
    "\n",
    "* [Take a first look at the data](#Take-a-first-look-at-the-data)\n",
    "* [See how many missing data points we have](#See-how-many-missing-data-points-we-have)\n",
    "* [Figure out why the data is missing](#Figure-out-why-the-data-is-missing)\n",
    "* [Drop missing values](#Drop-missing-values)\n",
    "* [Filling in missing values](#Filling-in-missing-values)\n",
    "\n",
    "Let's get started!"
   ]
  },
  {
   "cell_type": "markdown",
   "metadata": {
    "_cell_guid": "5cd5061f-ae30-4837-a53b-690ffd5c5830",
    "_uuid": "9d82bf13584b8e682962fbb96131f2447d741679"
   },
   "source": [
    "# Take a first look at the data\n",
    "________\n",
    "\n",
    "The first thing we'll need to do is load in the libraries and datasets we'll be using. For today, I'll be using a dataset of events that occured in American Football games for demonstration, and you'll be using a dataset of building permits issued in San Francisco.\n",
    "\n",
    "> **Important!** Make sure you run this cell yourself or the rest of your code won't work!"
   ]
  },
  {
   "cell_type": "code",
   "execution_count": 5,
   "metadata": {
    "_cell_guid": "135a7804-b5f5-40aa-8657-4a15774e3666",
    "_uuid": "835cbe0834b935fb0fd40c75b9c39454836f4d5f",
    "collapsed": true,
    "trusted": false
   },
   "outputs": [
    {
     "name": "stderr",
     "output_type": "stream",
     "text": [
      "/var/folders/28/b2_8q4jj4pg0_27h782xrsp00000gn/T/ipykernel_3086/3132955514.py:6: DtypeWarning: Columns (25,51) have mixed types. Specify dtype option on import or set low_memory=False.\n",
      "  nfl_data = pd.read_csv(\"/Users/vanshajshah/Downloads/archive (1)/NFL Play by Play 2009-2017 (v4).csv\")\n",
      "/var/folders/28/b2_8q4jj4pg0_27h782xrsp00000gn/T/ipykernel_3086/3132955514.py:7: DtypeWarning: Columns (22,32) have mixed types. Specify dtype option on import or set low_memory=False.\n",
      "  sf_permits = pd.read_csv(\"/Users/vanshajshah/Downloads/archive/Building_Permits.csv\")\n"
     ]
    }
   ],
   "source": [
    "# modules we'll use\n",
    "import pandas as pd\n",
    "import numpy as np\n",
    "\n",
    "# read in all our data\n",
    "nfl_data = pd.read_csv(\"/Users/vanshajshah/Downloads/archive (1)/NFL Play by Play 2009-2017 (v4).csv\")\n",
    "sf_permits = pd.read_csv(\"/Users/vanshajshah/Downloads/archive/Building_Permits.csv\")\n",
    "\n",
    "# set seed for reproducibility\n",
    "np.random.seed(0) "
   ]
  },
  {
   "cell_type": "markdown",
   "metadata": {
    "_cell_guid": "09b58d03-d34d-497a-b298-12a0ae962e3d",
    "_uuid": "53c84bf86149ac41b237633a1a79d6130d6a2cd4"
   },
   "source": [
    "The first thing I do when I get a new dataset is take a look at some of it. This lets me see that it all read in correctly and get an idea of what's going on with the data. In this case, I'm looking to see if I see any missing values, which will be reprsented with `NaN` or `None`."
   ]
  },
  {
   "cell_type": "code",
   "execution_count": 9,
   "metadata": {
    "_cell_guid": "79c7e3d0-c299-4dcb-8224-4455121ee9b0",
    "_uuid": "d629ff2d2480ee46fbb7e2d37f6b5fab8052498a",
    "collapsed": true,
    "trusted": false
   },
   "outputs": [
    {
     "data": {
      "application/vnd.microsoft.datawrangler.viewer.v0+json": {
       "columns": [
        {
         "name": "index",
         "rawType": "int64",
         "type": "integer"
        },
        {
         "name": "Date",
         "rawType": "object",
         "type": "string"
        },
        {
         "name": "GameID",
         "rawType": "int64",
         "type": "integer"
        },
        {
         "name": "Drive",
         "rawType": "int64",
         "type": "integer"
        },
        {
         "name": "qtr",
         "rawType": "int64",
         "type": "integer"
        },
        {
         "name": "down",
         "rawType": "float64",
         "type": "float"
        },
        {
         "name": "time",
         "rawType": "object",
         "type": "string"
        },
        {
         "name": "TimeUnder",
         "rawType": "int64",
         "type": "integer"
        },
        {
         "name": "TimeSecs",
         "rawType": "float64",
         "type": "float"
        },
        {
         "name": "PlayTimeDiff",
         "rawType": "float64",
         "type": "float"
        },
        {
         "name": "SideofField",
         "rawType": "object",
         "type": "string"
        },
        {
         "name": "yrdln",
         "rawType": "float64",
         "type": "float"
        },
        {
         "name": "yrdline100",
         "rawType": "float64",
         "type": "float"
        },
        {
         "name": "ydstogo",
         "rawType": "int64",
         "type": "integer"
        },
        {
         "name": "ydsnet",
         "rawType": "int64",
         "type": "integer"
        },
        {
         "name": "GoalToGo",
         "rawType": "float64",
         "type": "float"
        },
        {
         "name": "FirstDown",
         "rawType": "float64",
         "type": "float"
        },
        {
         "name": "posteam",
         "rawType": "object",
         "type": "string"
        },
        {
         "name": "DefensiveTeam",
         "rawType": "object",
         "type": "string"
        },
        {
         "name": "desc",
         "rawType": "object",
         "type": "string"
        },
        {
         "name": "PlayAttempted",
         "rawType": "int64",
         "type": "integer"
        },
        {
         "name": "Yards.Gained",
         "rawType": "int64",
         "type": "integer"
        },
        {
         "name": "sp",
         "rawType": "int64",
         "type": "integer"
        },
        {
         "name": "Touchdown",
         "rawType": "int64",
         "type": "integer"
        },
        {
         "name": "ExPointResult",
         "rawType": "object",
         "type": "unknown"
        },
        {
         "name": "TwoPointConv",
         "rawType": "object",
         "type": "unknown"
        },
        {
         "name": "DefTwoPoint",
         "rawType": "object",
         "type": "unknown"
        },
        {
         "name": "Safety",
         "rawType": "int64",
         "type": "integer"
        },
        {
         "name": "Onsidekick",
         "rawType": "int64",
         "type": "integer"
        },
        {
         "name": "PuntResult",
         "rawType": "object",
         "type": "unknown"
        },
        {
         "name": "PlayType",
         "rawType": "object",
         "type": "string"
        },
        {
         "name": "Passer",
         "rawType": "object",
         "type": "unknown"
        },
        {
         "name": "Passer_ID",
         "rawType": "object",
         "type": "unknown"
        },
        {
         "name": "PassAttempt",
         "rawType": "int64",
         "type": "integer"
        },
        {
         "name": "PassOutcome",
         "rawType": "object",
         "type": "unknown"
        },
        {
         "name": "PassLength",
         "rawType": "object",
         "type": "unknown"
        },
        {
         "name": "AirYards",
         "rawType": "int64",
         "type": "integer"
        },
        {
         "name": "YardsAfterCatch",
         "rawType": "int64",
         "type": "integer"
        },
        {
         "name": "QBHit",
         "rawType": "int64",
         "type": "integer"
        },
        {
         "name": "PassLocation",
         "rawType": "object",
         "type": "unknown"
        },
        {
         "name": "InterceptionThrown",
         "rawType": "int64",
         "type": "integer"
        },
        {
         "name": "Interceptor",
         "rawType": "object",
         "type": "unknown"
        },
        {
         "name": "Rusher",
         "rawType": "object",
         "type": "unknown"
        },
        {
         "name": "Rusher_ID",
         "rawType": "object",
         "type": "unknown"
        },
        {
         "name": "RushAttempt",
         "rawType": "int64",
         "type": "integer"
        },
        {
         "name": "RunLocation",
         "rawType": "object",
         "type": "unknown"
        },
        {
         "name": "RunGap",
         "rawType": "object",
         "type": "unknown"
        },
        {
         "name": "Receiver",
         "rawType": "object",
         "type": "unknown"
        },
        {
         "name": "Receiver_ID",
         "rawType": "object",
         "type": "unknown"
        },
        {
         "name": "Reception",
         "rawType": "int64",
         "type": "integer"
        },
        {
         "name": "ReturnResult",
         "rawType": "object",
         "type": "unknown"
        },
        {
         "name": "Returner",
         "rawType": "object",
         "type": "unknown"
        },
        {
         "name": "BlockingPlayer",
         "rawType": "object",
         "type": "unknown"
        },
        {
         "name": "Tackler1",
         "rawType": "object",
         "type": "unknown"
        },
        {
         "name": "Tackler2",
         "rawType": "object",
         "type": "unknown"
        },
        {
         "name": "FieldGoalResult",
         "rawType": "object",
         "type": "unknown"
        },
        {
         "name": "FieldGoalDistance",
         "rawType": "float64",
         "type": "float"
        },
        {
         "name": "Fumble",
         "rawType": "int64",
         "type": "integer"
        },
        {
         "name": "RecFumbTeam",
         "rawType": "object",
         "type": "unknown"
        },
        {
         "name": "RecFumbPlayer",
         "rawType": "object",
         "type": "unknown"
        },
        {
         "name": "Sack",
         "rawType": "int64",
         "type": "integer"
        },
        {
         "name": "Challenge.Replay",
         "rawType": "int64",
         "type": "integer"
        },
        {
         "name": "ChalReplayResult",
         "rawType": "object",
         "type": "unknown"
        },
        {
         "name": "Accepted.Penalty",
         "rawType": "int64",
         "type": "integer"
        },
        {
         "name": "PenalizedTeam",
         "rawType": "object",
         "type": "unknown"
        },
        {
         "name": "PenaltyType",
         "rawType": "object",
         "type": "unknown"
        },
        {
         "name": "PenalizedPlayer",
         "rawType": "object",
         "type": "unknown"
        },
        {
         "name": "Penalty.Yards",
         "rawType": "int64",
         "type": "integer"
        },
        {
         "name": "PosTeamScore",
         "rawType": "float64",
         "type": "float"
        },
        {
         "name": "DefTeamScore",
         "rawType": "float64",
         "type": "float"
        },
        {
         "name": "ScoreDiff",
         "rawType": "float64",
         "type": "float"
        },
        {
         "name": "AbsScoreDiff",
         "rawType": "float64",
         "type": "float"
        },
        {
         "name": "HomeTeam",
         "rawType": "object",
         "type": "string"
        },
        {
         "name": "AwayTeam",
         "rawType": "object",
         "type": "string"
        },
        {
         "name": "Timeout_Indicator",
         "rawType": "int64",
         "type": "integer"
        },
        {
         "name": "Timeout_Team",
         "rawType": "object",
         "type": "unknown"
        },
        {
         "name": "posteam_timeouts_pre",
         "rawType": "int64",
         "type": "integer"
        },
        {
         "name": "HomeTimeouts_Remaining_Pre",
         "rawType": "int64",
         "type": "integer"
        },
        {
         "name": "AwayTimeouts_Remaining_Pre",
         "rawType": "int64",
         "type": "integer"
        },
        {
         "name": "HomeTimeouts_Remaining_Post",
         "rawType": "int64",
         "type": "integer"
        },
        {
         "name": "AwayTimeouts_Remaining_Post",
         "rawType": "int64",
         "type": "integer"
        },
        {
         "name": "No_Score_Prob",
         "rawType": "float64",
         "type": "float"
        },
        {
         "name": "Opp_Field_Goal_Prob",
         "rawType": "float64",
         "type": "float"
        },
        {
         "name": "Opp_Safety_Prob",
         "rawType": "float64",
         "type": "float"
        },
        {
         "name": "Opp_Touchdown_Prob",
         "rawType": "float64",
         "type": "float"
        },
        {
         "name": "Field_Goal_Prob",
         "rawType": "float64",
         "type": "float"
        },
        {
         "name": "Safety_Prob",
         "rawType": "float64",
         "type": "float"
        },
        {
         "name": "Touchdown_Prob",
         "rawType": "float64",
         "type": "float"
        },
        {
         "name": "ExPoint_Prob",
         "rawType": "float64",
         "type": "float"
        },
        {
         "name": "TwoPoint_Prob",
         "rawType": "float64",
         "type": "float"
        },
        {
         "name": "ExpPts",
         "rawType": "float64",
         "type": "float"
        },
        {
         "name": "EPA",
         "rawType": "float64",
         "type": "float"
        },
        {
         "name": "airEPA",
         "rawType": "float64",
         "type": "float"
        },
        {
         "name": "yacEPA",
         "rawType": "float64",
         "type": "float"
        },
        {
         "name": "Home_WP_pre",
         "rawType": "float64",
         "type": "float"
        },
        {
         "name": "Away_WP_pre",
         "rawType": "float64",
         "type": "float"
        },
        {
         "name": "Home_WP_post",
         "rawType": "float64",
         "type": "float"
        },
        {
         "name": "Away_WP_post",
         "rawType": "float64",
         "type": "float"
        },
        {
         "name": "Win_Prob",
         "rawType": "float64",
         "type": "float"
        },
        {
         "name": "WPA",
         "rawType": "float64",
         "type": "float"
        },
        {
         "name": "airWPA",
         "rawType": "float64",
         "type": "float"
        },
        {
         "name": "yacWPA",
         "rawType": "float64",
         "type": "float"
        },
        {
         "name": "Season",
         "rawType": "int64",
         "type": "integer"
        }
       ],
       "ref": "3ca76e0c-755b-409c-8e69-4cc9a059a5a5",
       "rows": [
        [
         "188903",
         "2013-09-29",
         "2013092907",
         "10",
         "2",
         "2.0",
         "08:32",
         "9",
         "2312.0",
         "7.0",
         "TB",
         "14.0",
         "86.0",
         "10",
         "-2",
         "0.0",
         "0.0",
         "TB",
         "ARI",
         "(8:32) D.Martin left end to TB 12 for -2 yards (C.Campbell, Y.Bell).",
         "1",
         "-2",
         "0",
         "0",
         null,
         null,
         null,
         "0",
         "0",
         null,
         "Run",
         null,
         null,
         "0",
         null,
         null,
         "0",
         "0",
         "0",
         null,
         "0",
         null,
         "D.Martin",
         "00-0029613",
         "1",
         "left",
         "end",
         null,
         null,
         "0",
         null,
         null,
         null,
         "C.Campbell",
         "Y.Bell",
         null,
         null,
         "0",
         null,
         null,
         "0",
         "0",
         null,
         "0",
         null,
         null,
         null,
         "0",
         "7.0",
         "0.0",
         "7.0",
         "7.0",
         "TB",
         "ARI",
         "0",
         null,
         "3",
         "3",
         "3",
         "3",
         "3",
         "0.2316200509595969",
         "0.170712610543525",
         "0.0086057750585877",
         "0.2541201106988173",
         "0.1329133596868306",
         "0.0027903046114292",
         "0.1992377884412129",
         "0.0",
         "0.0",
         "-0.5092049492676305",
         "-0.888452336358869",
         null,
         null,
         "0.7048576684425785",
         "0.2951423315574215",
         "0.6765808868495766",
         "0.3234191131504234",
         "0.7048576684425785",
         "-0.0282767815930018",
         null,
         null,
         "2013"
        ],
        [
         "282740",
         "2015-10-11",
         "2015101104",
         "6",
         "2",
         "1.0",
         "10:39",
         "11",
         "2439.0",
         "0.0",
         "JAC",
         "15.0",
         "85.0",
         "15",
         "3",
         "0.0",
         "0.0",
         "JAC",
         "TB",
         "(10:39) T.Yeldon left tackle to JAC 23 for 8 yards (C.McDonald).",
         "1",
         "8",
         "0",
         "0",
         null,
         null,
         null,
         "0",
         "0",
         null,
         "Run",
         null,
         null,
         "0",
         null,
         null,
         "0",
         "0",
         "0",
         null,
         "0",
         null,
         "T.Yeldon",
         "00-0032209",
         "1",
         "left",
         "tackle",
         null,
         null,
         "0",
         null,
         null,
         null,
         "C.McDonald",
         null,
         null,
         null,
         "0",
         null,
         null,
         "0",
         "0",
         null,
         "0",
         null,
         null,
         null,
         "0",
         "7.0",
         "6.0",
         "1.0",
         "1.0",
         "TB",
         "JAC",
         "0",
         null,
         "3",
         "3",
         "3",
         "3",
         "3",
         "0.1476974483349858",
         "0.1677841330843623",
         "0.008336689340845",
         "0.2512411453386172",
         "0.1803501475196599",
         "0.0031092895506427",
         "0.2414811468308868",
         "0.0",
         "0.0",
         "-0.0410767458286251",
         "0.3755232063789664",
         null,
         null,
         "0.4938206002725018",
         "0.5061793997274981",
         "0.4794160330404944",
         "0.5205839669595056",
         "0.5061793997274981",
         "0.0144045672320074",
         null,
         null,
         "2015"
        ],
        [
         "296190",
         "2015-11-15",
         "2015111508",
         "1",
         "1",
         "2.0",
         "12:46",
         "13",
         "3466.0",
         "34.0",
         "MIN",
         "35.0",
         "65.0",
         "7",
         "69",
         "0.0",
         "1.0",
         "MIN",
         "OAK",
         "(12:46) (No Huddle, Shotgun) T.Bridgewater pass incomplete deep right to S.Diggs [A.Smith]. Penalty on OAK-D.Hayden, Illegal Contact, declined. PENALTY on OAK-D.Hayden, Defensive Pass Interference, 32 yards, enforced at MIN 35 - No Play.",
         "1",
         "0",
         "0",
         "0",
         null,
         null,
         null,
         "0",
         "0",
         null,
         "No Play",
         "T.Bridgewater",
         null,
         "1",
         "Incomplete Pass",
         "Deep",
         "0",
         "0",
         "0",
         "right",
         "0",
         null,
         null,
         null,
         "0",
         null,
         null,
         "S.Diggs",
         null,
         "0",
         null,
         null,
         null,
         null,
         null,
         null,
         null,
         "0",
         null,
         null,
         "0",
         "0",
         null,
         "1",
         "OAK",
         null,
         "D.Hayden",
         "32",
         "0.0",
         "0.0",
         "0.0",
         "0.0",
         "OAK",
         "MIN",
         "0",
         null,
         "3",
         "3",
         "3",
         "3",
         "3",
         "0.0020074220147791",
         "0.1472890258214413",
         "0.0025874975811004",
         "0.2283408857118918",
         "0.2576513700260555",
         "0.0039931161689902",
         "0.3581306826757414",
         "0.0",
         "0.0",
         "1.2424268485365688",
         "2.672759155384794",
         null,
         null,
         "0.4799044989348522",
         "0.5200955010651478",
         "0.3943891149052609",
         "0.605610885094739",
         "0.5200955010651478",
         "0.0855153840295912",
         null,
         null,
         "2015"
        ],
        [
         "157452",
         "2012-11-04",
         "2012110410",
         "6",
         "1",
         "1.0",
         "03:03",
         "4",
         "2883.0",
         "11.0",
         "PIT",
         "42.0",
         "58.0",
         "10",
         "17",
         "0.0",
         "1.0",
         "PIT",
         "NYG",
         "(3:03) I.Redman up the middle to NYG 41 for 17 yards (S.Brown).",
         "1",
         "17",
         "0",
         "0",
         null,
         null,
         null,
         "0",
         "0",
         null,
         "Run",
         null,
         null,
         "0",
         null,
         null,
         "0",
         "0",
         "0",
         null,
         "0",
         null,
         "I.Redman",
         "00-0026566",
         "1",
         "middle",
         null,
         null,
         null,
         "0",
         null,
         null,
         null,
         "S.Brown",
         null,
         null,
         null,
         "0",
         null,
         null,
         "0",
         "0",
         null,
         "0",
         null,
         null,
         null,
         "0",
         "0.0",
         "0.0",
         "0.0",
         "0.0",
         "NYG",
         "PIT",
         "0",
         null,
         "3",
         "3",
         "3",
         "3",
         "3",
         "0.016430477641637",
         "0.1029547827429333",
         "0.0009960616158250512",
         "0.1562088966339377",
         "0.2915632564685155",
         "0.0034388254694241",
         "0.4284076994277272",
         "0.0",
         "0.0",
         "2.4761025684404707",
         "1.1103672544786312",
         null,
         null,
         "0.4398079267704223",
         "0.5601920732295776",
         "0.4063076630787708",
         "0.5936923369212291",
         "0.5601920732295776",
         "0.0335002636916514",
         null,
         null,
         "2012"
        ],
        [
         "32324",
         "2009-12-06",
         "2009120604",
         "9",
         "2",
         "3.0",
         "02:00",
         "2",
         "1920.0",
         "0.0",
         "TEN",
         "4.0",
         "4.0",
         "4",
         "42",
         "1.0",
         "0.0",
         "IND",
         "TEN",
         "(2:00) (Shotgun) P.Manning pass short middle to A.Collie for 4 yards, TOUCHDOWN.",
         "1",
         "4",
         "1",
         "1",
         null,
         null,
         null,
         "0",
         "0",
         null,
         "Pass",
         "P.Manning",
         "00-0010346",
         "1",
         "Complete",
         "Short",
         "4",
         "0",
         "0",
         "middle",
         "0",
         null,
         null,
         null,
         "0",
         null,
         null,
         "A.Collie",
         "00-0027092",
         "1",
         null,
         null,
         null,
         null,
         null,
         null,
         null,
         "0",
         null,
         null,
         "0",
         "0",
         null,
         "0",
         null,
         null,
         null,
         "0",
         "14.0",
         "3.0",
         "11.0",
         "11.0",
         "IND",
         "TEN",
         "0",
         null,
         "3",
         "3",
         "2",
         "3",
         "2",
         "0.1194897329579008",
         "0.0142169593896109",
         "7.07367175782661e-05",
         "0.0180757328551827",
         "0.3844824900608597",
         "0.0027033471530945",
         "0.4609610008657727",
         "0.0",
         "0.0",
         "4.216258688958908",
         "2.7837413110410916",
         "2.7837413110410916",
         "0.0",
         "0.9088518842738889",
         "0.0911481157261112",
         "0.9395411250145616",
         "0.0604588749854383",
         "0.9088518842738889",
         "0.0306892407406729",
         "0.0306892407406729",
         "0.0",
         "2009"
        ]
       ],
       "shape": {
        "columns": 102,
        "rows": 5
       }
      },
      "text/html": [
       "<div>\n",
       "<style scoped>\n",
       "    .dataframe tbody tr th:only-of-type {\n",
       "        vertical-align: middle;\n",
       "    }\n",
       "\n",
       "    .dataframe tbody tr th {\n",
       "        vertical-align: top;\n",
       "    }\n",
       "\n",
       "    .dataframe thead th {\n",
       "        text-align: right;\n",
       "    }\n",
       "</style>\n",
       "<table border=\"1\" class=\"dataframe\">\n",
       "  <thead>\n",
       "    <tr style=\"text-align: right;\">\n",
       "      <th></th>\n",
       "      <th>Date</th>\n",
       "      <th>GameID</th>\n",
       "      <th>Drive</th>\n",
       "      <th>qtr</th>\n",
       "      <th>down</th>\n",
       "      <th>time</th>\n",
       "      <th>TimeUnder</th>\n",
       "      <th>TimeSecs</th>\n",
       "      <th>PlayTimeDiff</th>\n",
       "      <th>SideofField</th>\n",
       "      <th>...</th>\n",
       "      <th>yacEPA</th>\n",
       "      <th>Home_WP_pre</th>\n",
       "      <th>Away_WP_pre</th>\n",
       "      <th>Home_WP_post</th>\n",
       "      <th>Away_WP_post</th>\n",
       "      <th>Win_Prob</th>\n",
       "      <th>WPA</th>\n",
       "      <th>airWPA</th>\n",
       "      <th>yacWPA</th>\n",
       "      <th>Season</th>\n",
       "    </tr>\n",
       "  </thead>\n",
       "  <tbody>\n",
       "    <tr>\n",
       "      <th>188903</th>\n",
       "      <td>2013-09-29</td>\n",
       "      <td>2013092907</td>\n",
       "      <td>10</td>\n",
       "      <td>2</td>\n",
       "      <td>2.0</td>\n",
       "      <td>08:32</td>\n",
       "      <td>9</td>\n",
       "      <td>2312.0</td>\n",
       "      <td>7.0</td>\n",
       "      <td>TB</td>\n",
       "      <td>...</td>\n",
       "      <td>NaN</td>\n",
       "      <td>0.704858</td>\n",
       "      <td>0.295142</td>\n",
       "      <td>0.676581</td>\n",
       "      <td>0.323419</td>\n",
       "      <td>0.704858</td>\n",
       "      <td>-0.028277</td>\n",
       "      <td>NaN</td>\n",
       "      <td>NaN</td>\n",
       "      <td>2013</td>\n",
       "    </tr>\n",
       "    <tr>\n",
       "      <th>282740</th>\n",
       "      <td>2015-10-11</td>\n",
       "      <td>2015101104</td>\n",
       "      <td>6</td>\n",
       "      <td>2</td>\n",
       "      <td>1.0</td>\n",
       "      <td>10:39</td>\n",
       "      <td>11</td>\n",
       "      <td>2439.0</td>\n",
       "      <td>0.0</td>\n",
       "      <td>JAC</td>\n",
       "      <td>...</td>\n",
       "      <td>NaN</td>\n",
       "      <td>0.493821</td>\n",
       "      <td>0.506179</td>\n",
       "      <td>0.479416</td>\n",
       "      <td>0.520584</td>\n",
       "      <td>0.506179</td>\n",
       "      <td>0.014405</td>\n",
       "      <td>NaN</td>\n",
       "      <td>NaN</td>\n",
       "      <td>2015</td>\n",
       "    </tr>\n",
       "    <tr>\n",
       "      <th>296190</th>\n",
       "      <td>2015-11-15</td>\n",
       "      <td>2015111508</td>\n",
       "      <td>1</td>\n",
       "      <td>1</td>\n",
       "      <td>2.0</td>\n",
       "      <td>12:46</td>\n",
       "      <td>13</td>\n",
       "      <td>3466.0</td>\n",
       "      <td>34.0</td>\n",
       "      <td>MIN</td>\n",
       "      <td>...</td>\n",
       "      <td>NaN</td>\n",
       "      <td>0.479904</td>\n",
       "      <td>0.520096</td>\n",
       "      <td>0.394389</td>\n",
       "      <td>0.605611</td>\n",
       "      <td>0.520096</td>\n",
       "      <td>0.085515</td>\n",
       "      <td>NaN</td>\n",
       "      <td>NaN</td>\n",
       "      <td>2015</td>\n",
       "    </tr>\n",
       "    <tr>\n",
       "      <th>157452</th>\n",
       "      <td>2012-11-04</td>\n",
       "      <td>2012110410</td>\n",
       "      <td>6</td>\n",
       "      <td>1</td>\n",
       "      <td>1.0</td>\n",
       "      <td>03:03</td>\n",
       "      <td>4</td>\n",
       "      <td>2883.0</td>\n",
       "      <td>11.0</td>\n",
       "      <td>PIT</td>\n",
       "      <td>...</td>\n",
       "      <td>NaN</td>\n",
       "      <td>0.439808</td>\n",
       "      <td>0.560192</td>\n",
       "      <td>0.406308</td>\n",
       "      <td>0.593692</td>\n",
       "      <td>0.560192</td>\n",
       "      <td>0.033500</td>\n",
       "      <td>NaN</td>\n",
       "      <td>NaN</td>\n",
       "      <td>2012</td>\n",
       "    </tr>\n",
       "    <tr>\n",
       "      <th>32324</th>\n",
       "      <td>2009-12-06</td>\n",
       "      <td>2009120604</td>\n",
       "      <td>9</td>\n",
       "      <td>2</td>\n",
       "      <td>3.0</td>\n",
       "      <td>02:00</td>\n",
       "      <td>2</td>\n",
       "      <td>1920.0</td>\n",
       "      <td>0.0</td>\n",
       "      <td>TEN</td>\n",
       "      <td>...</td>\n",
       "      <td>0.0</td>\n",
       "      <td>0.908852</td>\n",
       "      <td>0.091148</td>\n",
       "      <td>0.939541</td>\n",
       "      <td>0.060459</td>\n",
       "      <td>0.908852</td>\n",
       "      <td>0.030689</td>\n",
       "      <td>0.030689</td>\n",
       "      <td>0.0</td>\n",
       "      <td>2009</td>\n",
       "    </tr>\n",
       "  </tbody>\n",
       "</table>\n",
       "<p>5 rows × 102 columns</p>\n",
       "</div>"
      ],
      "text/plain": [
       "              Date      GameID  Drive  qtr  down   time  TimeUnder  TimeSecs  \\\n",
       "188903  2013-09-29  2013092907     10    2   2.0  08:32          9    2312.0   \n",
       "282740  2015-10-11  2015101104      6    2   1.0  10:39         11    2439.0   \n",
       "296190  2015-11-15  2015111508      1    1   2.0  12:46         13    3466.0   \n",
       "157452  2012-11-04  2012110410      6    1   1.0  03:03          4    2883.0   \n",
       "32324   2009-12-06  2009120604      9    2   3.0  02:00          2    1920.0   \n",
       "\n",
       "        PlayTimeDiff SideofField  ...  yacEPA  Home_WP_pre  Away_WP_pre  \\\n",
       "188903           7.0          TB  ...     NaN     0.704858     0.295142   \n",
       "282740           0.0         JAC  ...     NaN     0.493821     0.506179   \n",
       "296190          34.0         MIN  ...     NaN     0.479904     0.520096   \n",
       "157452          11.0         PIT  ...     NaN     0.439808     0.560192   \n",
       "32324            0.0         TEN  ...     0.0     0.908852     0.091148   \n",
       "\n",
       "        Home_WP_post  Away_WP_post  Win_Prob       WPA    airWPA yacWPA  \\\n",
       "188903      0.676581      0.323419  0.704858 -0.028277       NaN    NaN   \n",
       "282740      0.479416      0.520584  0.506179  0.014405       NaN    NaN   \n",
       "296190      0.394389      0.605611  0.520096  0.085515       NaN    NaN   \n",
       "157452      0.406308      0.593692  0.560192  0.033500       NaN    NaN   \n",
       "32324       0.939541      0.060459  0.908852  0.030689  0.030689    0.0   \n",
       "\n",
       "        Season  \n",
       "188903    2013  \n",
       "282740    2015  \n",
       "296190    2015  \n",
       "157452    2012  \n",
       "32324     2009  \n",
       "\n",
       "[5 rows x 102 columns]"
      ]
     },
     "execution_count": 9,
     "metadata": {},
     "output_type": "execute_result"
    }
   ],
   "source": [
    "# look at a few rows of the nfl_data file. I can see a handful of missing data already!\n",
    "nfl_data.sample(5)\n"
   ]
  },
  {
   "cell_type": "markdown",
   "metadata": {
    "_cell_guid": "604ac3a4-b1d9-4264-b312-4bbeecdeec00",
    "_uuid": "03ce3b4afe87d98f777172c2c7be066a66a0b237"
   },
   "source": [
    "Yep, it looks like there's some missing values. What about in the sf_permits dataset?"
   ]
  },
  {
   "cell_type": "code",
   "execution_count": 10,
   "metadata": {
    "_cell_guid": "8dca377c-95be-40ec-87dc-61a8fca750e2",
    "_uuid": "e389495bb2e5d27ab632d5f3648ca1f912c94706",
    "collapsed": true,
    "trusted": false
   },
   "outputs": [
    {
     "data": {
      "application/vnd.microsoft.datawrangler.viewer.v0+json": {
       "columns": [
        {
         "name": "index",
         "rawType": "int64",
         "type": "integer"
        },
        {
         "name": "Permit Number",
         "rawType": "object",
         "type": "string"
        },
        {
         "name": "Permit Type",
         "rawType": "int64",
         "type": "integer"
        },
        {
         "name": "Permit Type Definition",
         "rawType": "object",
         "type": "string"
        },
        {
         "name": "Permit Creation Date",
         "rawType": "object",
         "type": "string"
        },
        {
         "name": "Block",
         "rawType": "object",
         "type": "string"
        },
        {
         "name": "Lot",
         "rawType": "object",
         "type": "string"
        },
        {
         "name": "Street Number",
         "rawType": "int64",
         "type": "integer"
        },
        {
         "name": "Street Number Suffix",
         "rawType": "object",
         "type": "unknown"
        },
        {
         "name": "Street Name",
         "rawType": "object",
         "type": "string"
        },
        {
         "name": "Street Suffix",
         "rawType": "object",
         "type": "string"
        },
        {
         "name": "Unit",
         "rawType": "float64",
         "type": "float"
        },
        {
         "name": "Unit Suffix",
         "rawType": "object",
         "type": "unknown"
        },
        {
         "name": "Description",
         "rawType": "object",
         "type": "string"
        },
        {
         "name": "Current Status",
         "rawType": "object",
         "type": "string"
        },
        {
         "name": "Current Status Date",
         "rawType": "object",
         "type": "string"
        },
        {
         "name": "Filed Date",
         "rawType": "object",
         "type": "string"
        },
        {
         "name": "Issued Date",
         "rawType": "object",
         "type": "string"
        },
        {
         "name": "Completed Date",
         "rawType": "object",
         "type": "string"
        },
        {
         "name": "First Construction Document Date",
         "rawType": "object",
         "type": "string"
        },
        {
         "name": "Structural Notification",
         "rawType": "object",
         "type": "unknown"
        },
        {
         "name": "Number of Existing Stories",
         "rawType": "float64",
         "type": "float"
        },
        {
         "name": "Number of Proposed Stories",
         "rawType": "float64",
         "type": "float"
        },
        {
         "name": "Voluntary Soft-Story Retrofit",
         "rawType": "object",
         "type": "unknown"
        },
        {
         "name": "Fire Only Permit",
         "rawType": "object",
         "type": "unknown"
        },
        {
         "name": "Permit Expiration Date",
         "rawType": "object",
         "type": "string"
        },
        {
         "name": "Estimated Cost",
         "rawType": "float64",
         "type": "float"
        },
        {
         "name": "Revised Cost",
         "rawType": "float64",
         "type": "float"
        },
        {
         "name": "Existing Use",
         "rawType": "object",
         "type": "string"
        },
        {
         "name": "Existing Units",
         "rawType": "float64",
         "type": "float"
        },
        {
         "name": "Proposed Use",
         "rawType": "object",
         "type": "string"
        },
        {
         "name": "Proposed Units",
         "rawType": "float64",
         "type": "float"
        },
        {
         "name": "Plansets",
         "rawType": "float64",
         "type": "float"
        },
        {
         "name": "TIDF Compliance",
         "rawType": "object",
         "type": "unknown"
        },
        {
         "name": "Existing Construction Type",
         "rawType": "float64",
         "type": "float"
        },
        {
         "name": "Existing Construction Type Description",
         "rawType": "object",
         "type": "string"
        },
        {
         "name": "Proposed Construction Type",
         "rawType": "float64",
         "type": "float"
        },
        {
         "name": "Proposed Construction Type Description",
         "rawType": "object",
         "type": "string"
        },
        {
         "name": "Site Permit",
         "rawType": "object",
         "type": "unknown"
        },
        {
         "name": "Supervisor District",
         "rawType": "float64",
         "type": "float"
        },
        {
         "name": "Neighborhoods - Analysis Boundaries",
         "rawType": "object",
         "type": "string"
        },
        {
         "name": "Zipcode",
         "rawType": "float64",
         "type": "float"
        },
        {
         "name": "Location",
         "rawType": "object",
         "type": "string"
        },
        {
         "name": "Record ID",
         "rawType": "int64",
         "type": "integer"
        }
       ],
       "ref": "eabba4da-1d95-4eec-9b2d-dd8da60f81c4",
       "rows": [
        [
         "76202",
         "201502188627",
         "8",
         "otc alterations permit",
         "02/18/2015",
         "0302",
         "008A",
         "816",
         null,
         "Geary",
         "St",
         null,
         null,
         "unit #32: replace drywall for water leak at closet in unit 32 violation #201490833 item #2 complaint #201403711. to comply iwth n.o.v.",
         "complete",
         "07/06/2015",
         "02/18/2015",
         "02/18/2015",
         "07/06/2015",
         "02/18/2015",
         null,
         "5.0",
         "5.0",
         null,
         null,
         "02/13/2016",
         "3000.0",
         "3000.0",
         "apartments",
         "24.0",
         "apartments",
         "24.0",
         "0.0",
         null,
         "3.0",
         "constr type 3",
         "3.0",
         "constr type 3",
         null,
         "6.0",
         "Tenderloin",
         "94109.0",
         "(37.78647965131357, -122.41685481133996)",
         "137146967276"
        ],
        [
         "15398",
         "201306129281",
         "8",
         "otc alterations permit",
         "06/12/2013",
         "0267",
         "016",
         "180",
         null,
         "Sansome",
         "St",
         null,
         null,
         "6th & 9th floors-tenant improvement-removal & construction of non structural partitions, new finishes throughout. m.e.p, fire life safety & sprinkler under seperate permits",
         "complete",
         "11/07/2013",
         "06/12/2013",
         "07/12/2013",
         "11/07/2013",
         "07/12/2013",
         null,
         "19.0",
         "19.0",
         null,
         null,
         "06/26/2016",
         "281000.0",
         "281000.0",
         "office",
         "0.0",
         "office",
         "0.0",
         "2.0",
         null,
         "1.0",
         "constr type 1",
         "1.0",
         "constr type 1",
         null,
         "3.0",
         "Financial District/South Beach",
         "94104.0",
         "(37.79191928972, -122.40059728458246)",
         "1307729351184"
        ],
        [
         "101640",
         "201510089241",
         "8",
         "otc alterations permit",
         "10/08/2015",
         "3609",
         "092",
         "350",
         null,
         "San Carlos",
         "St",
         "0.0",
         null,
         "replace existing foundation to new reinforced concrete slab foundation, replace existing ground floor- floor framing to concrete slab on grade.",
         "complete",
         "01/09/2017",
         "10/08/2015",
         "12/17/2015",
         "01/09/2017",
         "12/17/2015",
         null,
         "3.0",
         "3.0",
         null,
         null,
         "12/11/2016",
         "30000.0",
         "70000.0",
         "apartments",
         "3.0",
         "apartments",
         "3.0",
         "2.0",
         null,
         "5.0",
         "wood frame (5)",
         "5.0",
         "wood frame (5)",
         null,
         "9.0",
         "Mission",
         "94110.0",
         "(37.757742992533196, -122.4199577914691)",
         "1398681418946"
        ],
        [
         "24003",
         "201309066180",
         "8",
         "otc alterations permit",
         "09/06/2013",
         "4281A",
         "008",
         "1452",
         null,
         "Rhode Island",
         "St",
         null,
         null,
         "to obtain final inspection for work approved under pa #9719685. all work is complete.",
         "complete",
         "09/12/2013",
         "09/06/2013",
         "09/06/2013",
         "09/12/2013",
         "09/06/2013",
         null,
         "2.0",
         "2.0",
         null,
         null,
         "09/01/2014",
         "1.0",
         "1.0",
         "2 family dwelling",
         "2.0",
         "2 family dwelling",
         "2.0",
         "0.0",
         null,
         "5.0",
         "wood frame (5)",
         "5.0",
         "wood frame (5)",
         null,
         "10.0",
         "Potrero Hill",
         "94107.0",
         "(37.751248245567574, -122.40158667080013)",
         "1316733373683"
        ],
        [
         "17995",
         "201307091388",
         "8",
         "otc alterations permit",
         "07/09/2013",
         "1884",
         "010",
         "1539",
         null,
         "38th",
         "Av",
         null,
         null,
         "reroofing",
         "complete",
         "07/11/2013",
         "07/09/2013",
         "07/09/2013",
         "07/11/2013",
         "07/09/2013",
         null,
         "2.0",
         "2.0",
         null,
         null,
         "07/04/2014",
         "10600.0",
         "10600.0",
         "1 family dwelling",
         "1.0",
         "1 family dwelling",
         "1.0",
         "0.0",
         null,
         "5.0",
         "wood frame (5)",
         "5.0",
         "wood frame (5)",
         null,
         "4.0",
         "Sunset/Parkside",
         "94122.0",
         "(37.75816432641094, -122.49749692907085)",
         "1310451118724"
        ]
       ],
       "shape": {
        "columns": 43,
        "rows": 5
       }
      },
      "text/html": [
       "<div>\n",
       "<style scoped>\n",
       "    .dataframe tbody tr th:only-of-type {\n",
       "        vertical-align: middle;\n",
       "    }\n",
       "\n",
       "    .dataframe tbody tr th {\n",
       "        vertical-align: top;\n",
       "    }\n",
       "\n",
       "    .dataframe thead th {\n",
       "        text-align: right;\n",
       "    }\n",
       "</style>\n",
       "<table border=\"1\" class=\"dataframe\">\n",
       "  <thead>\n",
       "    <tr style=\"text-align: right;\">\n",
       "      <th></th>\n",
       "      <th>Permit Number</th>\n",
       "      <th>Permit Type</th>\n",
       "      <th>Permit Type Definition</th>\n",
       "      <th>Permit Creation Date</th>\n",
       "      <th>Block</th>\n",
       "      <th>Lot</th>\n",
       "      <th>Street Number</th>\n",
       "      <th>Street Number Suffix</th>\n",
       "      <th>Street Name</th>\n",
       "      <th>Street Suffix</th>\n",
       "      <th>...</th>\n",
       "      <th>Existing Construction Type</th>\n",
       "      <th>Existing Construction Type Description</th>\n",
       "      <th>Proposed Construction Type</th>\n",
       "      <th>Proposed Construction Type Description</th>\n",
       "      <th>Site Permit</th>\n",
       "      <th>Supervisor District</th>\n",
       "      <th>Neighborhoods - Analysis Boundaries</th>\n",
       "      <th>Zipcode</th>\n",
       "      <th>Location</th>\n",
       "      <th>Record ID</th>\n",
       "    </tr>\n",
       "  </thead>\n",
       "  <tbody>\n",
       "    <tr>\n",
       "      <th>76202</th>\n",
       "      <td>201502188627</td>\n",
       "      <td>8</td>\n",
       "      <td>otc alterations permit</td>\n",
       "      <td>02/18/2015</td>\n",
       "      <td>0302</td>\n",
       "      <td>008A</td>\n",
       "      <td>816</td>\n",
       "      <td>NaN</td>\n",
       "      <td>Geary</td>\n",
       "      <td>St</td>\n",
       "      <td>...</td>\n",
       "      <td>3.0</td>\n",
       "      <td>constr type 3</td>\n",
       "      <td>3.0</td>\n",
       "      <td>constr type 3</td>\n",
       "      <td>NaN</td>\n",
       "      <td>6.0</td>\n",
       "      <td>Tenderloin</td>\n",
       "      <td>94109.0</td>\n",
       "      <td>(37.78647965131357, -122.41685481133996)</td>\n",
       "      <td>137146967276</td>\n",
       "    </tr>\n",
       "    <tr>\n",
       "      <th>15398</th>\n",
       "      <td>201306129281</td>\n",
       "      <td>8</td>\n",
       "      <td>otc alterations permit</td>\n",
       "      <td>06/12/2013</td>\n",
       "      <td>0267</td>\n",
       "      <td>016</td>\n",
       "      <td>180</td>\n",
       "      <td>NaN</td>\n",
       "      <td>Sansome</td>\n",
       "      <td>St</td>\n",
       "      <td>...</td>\n",
       "      <td>1.0</td>\n",
       "      <td>constr type 1</td>\n",
       "      <td>1.0</td>\n",
       "      <td>constr type 1</td>\n",
       "      <td>NaN</td>\n",
       "      <td>3.0</td>\n",
       "      <td>Financial District/South Beach</td>\n",
       "      <td>94104.0</td>\n",
       "      <td>(37.79191928972, -122.40059728458246)</td>\n",
       "      <td>1307729351184</td>\n",
       "    </tr>\n",
       "    <tr>\n",
       "      <th>101640</th>\n",
       "      <td>201510089241</td>\n",
       "      <td>8</td>\n",
       "      <td>otc alterations permit</td>\n",
       "      <td>10/08/2015</td>\n",
       "      <td>3609</td>\n",
       "      <td>092</td>\n",
       "      <td>350</td>\n",
       "      <td>NaN</td>\n",
       "      <td>San Carlos</td>\n",
       "      <td>St</td>\n",
       "      <td>...</td>\n",
       "      <td>5.0</td>\n",
       "      <td>wood frame (5)</td>\n",
       "      <td>5.0</td>\n",
       "      <td>wood frame (5)</td>\n",
       "      <td>NaN</td>\n",
       "      <td>9.0</td>\n",
       "      <td>Mission</td>\n",
       "      <td>94110.0</td>\n",
       "      <td>(37.757742992533196, -122.4199577914691)</td>\n",
       "      <td>1398681418946</td>\n",
       "    </tr>\n",
       "    <tr>\n",
       "      <th>24003</th>\n",
       "      <td>201309066180</td>\n",
       "      <td>8</td>\n",
       "      <td>otc alterations permit</td>\n",
       "      <td>09/06/2013</td>\n",
       "      <td>4281A</td>\n",
       "      <td>008</td>\n",
       "      <td>1452</td>\n",
       "      <td>NaN</td>\n",
       "      <td>Rhode Island</td>\n",
       "      <td>St</td>\n",
       "      <td>...</td>\n",
       "      <td>5.0</td>\n",
       "      <td>wood frame (5)</td>\n",
       "      <td>5.0</td>\n",
       "      <td>wood frame (5)</td>\n",
       "      <td>NaN</td>\n",
       "      <td>10.0</td>\n",
       "      <td>Potrero Hill</td>\n",
       "      <td>94107.0</td>\n",
       "      <td>(37.751248245567574, -122.40158667080013)</td>\n",
       "      <td>1316733373683</td>\n",
       "    </tr>\n",
       "    <tr>\n",
       "      <th>17995</th>\n",
       "      <td>201307091388</td>\n",
       "      <td>8</td>\n",
       "      <td>otc alterations permit</td>\n",
       "      <td>07/09/2013</td>\n",
       "      <td>1884</td>\n",
       "      <td>010</td>\n",
       "      <td>1539</td>\n",
       "      <td>NaN</td>\n",
       "      <td>38th</td>\n",
       "      <td>Av</td>\n",
       "      <td>...</td>\n",
       "      <td>5.0</td>\n",
       "      <td>wood frame (5)</td>\n",
       "      <td>5.0</td>\n",
       "      <td>wood frame (5)</td>\n",
       "      <td>NaN</td>\n",
       "      <td>4.0</td>\n",
       "      <td>Sunset/Parkside</td>\n",
       "      <td>94122.0</td>\n",
       "      <td>(37.75816432641094, -122.49749692907085)</td>\n",
       "      <td>1310451118724</td>\n",
       "    </tr>\n",
       "  </tbody>\n",
       "</table>\n",
       "<p>5 rows × 43 columns</p>\n",
       "</div>"
      ],
      "text/plain": [
       "       Permit Number  Permit Type  Permit Type Definition  \\\n",
       "76202   201502188627            8  otc alterations permit   \n",
       "15398   201306129281            8  otc alterations permit   \n",
       "101640  201510089241            8  otc alterations permit   \n",
       "24003   201309066180            8  otc alterations permit   \n",
       "17995   201307091388            8  otc alterations permit   \n",
       "\n",
       "       Permit Creation Date  Block   Lot  Street Number Street Number Suffix  \\\n",
       "76202            02/18/2015   0302  008A            816                  NaN   \n",
       "15398            06/12/2013   0267   016            180                  NaN   \n",
       "101640           10/08/2015   3609   092            350                  NaN   \n",
       "24003            09/06/2013  4281A   008           1452                  NaN   \n",
       "17995            07/09/2013   1884   010           1539                  NaN   \n",
       "\n",
       "         Street Name Street Suffix  ...  Existing Construction Type  \\\n",
       "76202          Geary            St  ...                         3.0   \n",
       "15398        Sansome            St  ...                         1.0   \n",
       "101640    San Carlos            St  ...                         5.0   \n",
       "24003   Rhode Island            St  ...                         5.0   \n",
       "17995           38th            Av  ...                         5.0   \n",
       "\n",
       "       Existing Construction Type Description Proposed Construction Type  \\\n",
       "76202                           constr type 3                        3.0   \n",
       "15398                           constr type 1                        1.0   \n",
       "101640                         wood frame (5)                        5.0   \n",
       "24003                          wood frame (5)                        5.0   \n",
       "17995                          wood frame (5)                        5.0   \n",
       "\n",
       "       Proposed Construction Type Description Site Permit Supervisor District  \\\n",
       "76202                           constr type 3         NaN                 6.0   \n",
       "15398                           constr type 1         NaN                 3.0   \n",
       "101640                         wood frame (5)         NaN                 9.0   \n",
       "24003                          wood frame (5)         NaN                10.0   \n",
       "17995                          wood frame (5)         NaN                 4.0   \n",
       "\n",
       "       Neighborhoods - Analysis Boundaries  Zipcode  \\\n",
       "76202                           Tenderloin  94109.0   \n",
       "15398       Financial District/South Beach  94104.0   \n",
       "101640                             Mission  94110.0   \n",
       "24003                         Potrero Hill  94107.0   \n",
       "17995                      Sunset/Parkside  94122.0   \n",
       "\n",
       "                                         Location      Record ID  \n",
       "76202    (37.78647965131357, -122.41685481133996)   137146967276  \n",
       "15398       (37.79191928972, -122.40059728458246)  1307729351184  \n",
       "101640   (37.757742992533196, -122.4199577914691)  1398681418946  \n",
       "24003   (37.751248245567574, -122.40158667080013)  1316733373683  \n",
       "17995    (37.75816432641094, -122.49749692907085)  1310451118724  \n",
       "\n",
       "[5 rows x 43 columns]"
      ]
     },
     "execution_count": 10,
     "metadata": {},
     "output_type": "execute_result"
    }
   ],
   "source": [
    "# your turn! Look at a couple of rows from the sf_permits dataset. Do you notice any missing data?\n",
    "sf_permits.sample(5)\n",
    "# your code goes here :)"
   ]
  },
  {
   "cell_type": "markdown",
   "metadata": {
    "_cell_guid": "33656c2b-a74e-4b76-9af2-d7ecd518577b",
    "_uuid": "400b025f618cc76a39fec2537193f28ba1e49168"
   },
   "source": [
    "# See how many missing data points we have\n",
    "___\n",
    "\n",
    "Ok, now we know that we do have some missing values. Let's see how many we have in each column. "
   ]
  },
  {
   "cell_type": "code",
   "execution_count": 11,
   "metadata": {
    "_cell_guid": "a69ac02d-197b-487b-a38f-2f853d208eed",
    "_uuid": "6dc0e32180c4a3bba003e7886faf126d93affadf",
    "collapsed": true,
    "trusted": false
   },
   "outputs": [
    {
     "data": {
      "application/vnd.microsoft.datawrangler.viewer.v0+json": {
       "columns": [
        {
         "name": "index",
         "rawType": "object",
         "type": "string"
        },
        {
         "name": "0",
         "rawType": "int64",
         "type": "integer"
        }
       ],
       "ref": "95a978ab-d8ba-4395-a43f-e0b9b966294e",
       "rows": [
        [
         "Date",
         "0"
        ],
        [
         "GameID",
         "0"
        ],
        [
         "Drive",
         "0"
        ],
        [
         "qtr",
         "0"
        ],
        [
         "down",
         "61154"
        ],
        [
         "time",
         "224"
        ],
        [
         "TimeUnder",
         "0"
        ],
        [
         "TimeSecs",
         "224"
        ],
        [
         "PlayTimeDiff",
         "444"
        ],
        [
         "SideofField",
         "528"
        ]
       ],
       "shape": {
        "columns": 1,
        "rows": 10
       }
      },
      "text/plain": [
       "Date                0\n",
       "GameID              0\n",
       "Drive               0\n",
       "qtr                 0\n",
       "down            61154\n",
       "time              224\n",
       "TimeUnder           0\n",
       "TimeSecs          224\n",
       "PlayTimeDiff      444\n",
       "SideofField       528\n",
       "dtype: int64"
      ]
     },
     "execution_count": 11,
     "metadata": {},
     "output_type": "execute_result"
    }
   ],
   "source": [
    "# get the number of missing data points per column\n",
    "missing_values_count = nfl_data.isnull().sum()\n",
    "\n",
    "# look at the # of missing points in the first ten columns\n",
    "missing_values_count[0:10]"
   ]
  },
  {
   "cell_type": "markdown",
   "metadata": {
    "_cell_guid": "84455c7e-6c63-4e08-a7b4-7520a61072f9",
    "_uuid": "054ba8782a7b0555336eddb90c985fb638beac4d"
   },
   "source": [
    "That seems like a lot! It might be helpful to see what percentage of the values in our dataset were missing to give us a better sense of the scale of this problem:"
   ]
  },
  {
   "cell_type": "code",
   "execution_count": 15,
   "metadata": {
    "_cell_guid": "fb77dd56-192e-48be-8181-2082985dd5a2",
    "_uuid": "d6e65ba197893f29d9dce0b0cd1c75017b60db09",
    "collapsed": true,
    "trusted": false
   },
   "outputs": [
    {
     "data": {
      "text/plain": [
       "np.float64(27.66722370547874)"
      ]
     },
     "execution_count": 15,
     "metadata": {},
     "output_type": "execute_result"
    }
   ],
   "source": [
    "# how many total missing values do we have?\n",
    "total_cells = np.prod(nfl_data.shape)\n",
    "total_missing = missing_values_count.sum()\n",
    "\n",
    "# percent of data that is missing\n",
    "(total_missing/total_cells) * 100"
   ]
  },
  {
   "cell_type": "markdown",
   "metadata": {
    "_cell_guid": "31daa324-9215-4930-985c-01dee717b6b8",
    "_uuid": "3331fa42efa16f3db2e8e196411f351c5f8309f5"
   },
   "source": [
    "Wow, almost a quarter of the cells in this dataset are empty! In the next step, we're going to take a closer look at some of the columns with missing values and try to figure out what might be going on with them."
   ]
  },
  {
   "cell_type": "code",
   "execution_count": null,
   "metadata": {
    "_cell_guid": "f20a9474-41ee-4ecd-a2f4-1ab147fc8655",
    "_uuid": "64487760aa1afaaa8b8a4d1f95206773759db101",
    "collapsed": true,
    "trusted": false
   },
   "outputs": [],
   "source": [
    "# your turn! Find out what percent of the sf_permits dataset is missing\n"
   ]
  },
  {
   "cell_type": "markdown",
   "metadata": {
    "_cell_guid": "62b9f021-5b80-43e2-bf60-8e0d5e22d572",
    "_uuid": "032a618abb98a28e60ab84376cf21402178f995d"
   },
   "source": [
    "# Figure out why the data is missing\n",
    "____\n",
    " \n",
    "This is the point at which we get into the part of data science that I like to call \"data intution\", by which I mean \"really looking at your data and trying to figure out why it is the way it is and how that will affect your analysis\". It can be a frustrating part of data science, especially if you're newer to the field and don't have a lot of experience. For dealing with missing values, you'll need to use your intution to figure out why the value is missing. One of the most important question you can ask yourself to help figure this out is this:\n",
    "\n",
    "> **Is this value missing becuase it wasn't recorded or becuase it dosen't exist?**\n",
    "\n",
    "If a value is missing becuase it doens't exist (like the height of the oldest child of someone who doesn't have any children) then it doesn't make sense to try and guess what it might be. These values you probalby do want to keep as NaN. On the other hand, if a value is missing becuase it wasn't recorded, then you can try to guess what it might have been based on the other values in that column and row. (This is called \"imputation\" and we'll learn how to do it next! :)\n",
    "\n",
    "Let's work through an example. Looking at the number of missing values in the nfl_data dataframe, I notice that the column `TimesSec` has a lot of missing values in it: "
   ]
  },
  {
   "cell_type": "code",
   "execution_count": null,
   "metadata": {
    "_cell_guid": "77739e82-8d32-4374-84bf-a924b6065168",
    "_uuid": "b65aea6046964806e44422c057bce8bd7f8e59d5",
    "collapsed": true,
    "trusted": false
   },
   "outputs": [],
   "source": [
    "# look at the # of missing points in the first ten columns\n",
    "missing_values_count[0:10]"
   ]
  },
  {
   "cell_type": "markdown",
   "metadata": {
    "_cell_guid": "1b17f4c9-dcab-4857-82f9-a2534e804c91",
    "_uuid": "5cff158285ab37a89b80dcc35d5c690cdb42d3a4"
   },
   "source": [
    "By looking at [the documentation](https://www.kaggle.com/maxhorowitz/nflplaybyplay2009to2016), I can see that this column has information on the number of seconds left in the game when the play was made. This means that these values are probably missing because they were not recorded, rather than because they don't exist. So, it would make sense for us to try and guess what they should be rather than just leaving them as NA's.\n",
    "\n",
    "On the other hand, there are other fields, like `PenalizedTeam` that also have lot of missing fields. In this case, though, the field is missing because if there was no penalty then it doesn't make sense to say *which* team was penalized. For this column, it would make more sense to either leave it empty or to add a third value like \"neither\" and use that to replace the NA's.\n",
    "\n",
    "> **Tip:** This is a great place to read over the dataset documentation if you haven't already! If you're working with a dataset that you've gotten from another person, you can also try reaching out to them to get more information.\n",
    "\n",
    "If you're doing very careful data analysis, this is the point at which you'd look at each column individually to figure out the best strategy for filling those missing values. For the rest of this notebook, we'll cover some \"quick and dirty\" techniques that can help you with missing values but will probably also end up removing some useful information or adding some noise to your data.\n",
    "\n",
    "## Your turn!\n",
    "\n",
    "* Look at the columns `Street Number Suffix` and `Zipcode` from the `sf_permits` datasets. Both of these contain missing values. Which, if either, of these are missing because they don't exist? Which, if either, are missing because they weren't recorded?"
   ]
  },
  {
   "cell_type": "markdown",
   "metadata": {
    "_cell_guid": "ea022b62-6419-47e7-973e-c3e707e2795f",
    "_uuid": "3f72f46f2464c7cd12f5eb2a752746ce1cd0b5a7"
   },
   "source": [
    "# Drop missing values\n",
    "___\n",
    "\n",
    "If you're in a hurry or don't have a reason to figure out why your values are missing, one option you have is to just remove any rows or columns that contain missing values. (Note: I don't generally recommend this approch for important projects! It's usually worth it to take the time to go through your data and really look at all the columns with missing values one-by-one to really get to know your dataset.)  \n",
    "\n",
    "If you're sure you want to drop rows with missing values, pandas does have a handy function, `dropna()` to help you do this. Let's try it out on our NFL dataset!"
   ]
  },
  {
   "cell_type": "code",
   "execution_count": null,
   "metadata": {
    "_cell_guid": "ad0ac9a2-2854-4bb7-8886-8eee7fad8756",
    "_uuid": "ad8ef7825ba9bce3472a47d7c5242a4522f14065",
    "collapsed": true,
    "trusted": false
   },
   "outputs": [],
   "source": [
    "# remove all the rows that contain a missing value\n",
    "nfl_data.dropna()"
   ]
  },
  {
   "cell_type": "markdown",
   "metadata": {
    "_cell_guid": "e0545655-3d37-448b-ae56-2c7707cd805d",
    "_uuid": "33eb849e076d2a4d0c409f58d78b5f303879b1b3"
   },
   "source": [
    "Oh dear, it looks like that's removed all our data! 😱 This is because every row in our dataset had at least one missing value. We might have better luck removing all the *columns* that have at least one missing value instead."
   ]
  },
  {
   "cell_type": "code",
   "execution_count": null,
   "metadata": {
    "_cell_guid": "97709ad4-f7b8-4cd0-8911-56e14db904ae",
    "_uuid": "87c569672854fe23e1ee9376ef3115ba4712cbf5",
    "collapsed": true,
    "trusted": false
   },
   "outputs": [],
   "source": [
    "# remove all columns with at least one missing value\n",
    "columns_with_na_dropped = nfl_data.dropna(axis=1)\n",
    "columns_with_na_dropped.head()"
   ]
  },
  {
   "cell_type": "code",
   "execution_count": null,
   "metadata": {
    "_cell_guid": "0e51b19b-c44d-4487-8417-725d2b911739",
    "_uuid": "e60a092d2799851aa725eadf28b197022a6b127f",
    "collapsed": true,
    "trusted": false
   },
   "outputs": [],
   "source": [
    "# just how much data did we lose?\n",
    "print(\"Columns in original dataset: %d \\n\" % nfl_data.shape[1])\n",
    "print(\"Columns with na's dropped: %d\" % columns_with_na_dropped.shape[1])"
   ]
  },
  {
   "cell_type": "markdown",
   "metadata": {
    "_cell_guid": "f417c614-f77f-45eb-b16b-fdc0be936502",
    "_uuid": "bac84fee4ca849e54839c716c43dddfbb559954b"
   },
   "source": [
    "We've lost quite a bit of data, but at this point we have successfully removed all the `NaN`'s from our data. "
   ]
  },
  {
   "cell_type": "code",
   "execution_count": null,
   "metadata": {
    "_cell_guid": "0fe94654-7dad-4e8d-bbbb-e65e2bb2f767",
    "_uuid": "8207912f74712835283f7e1b30dad0471ee2e1fc",
    "collapsed": true,
    "trusted": false
   },
   "outputs": [],
   "source": [
    "# Your turn! Try removing all the rows from the sf_permits dataset that contain missing values. How many are left?\n"
   ]
  },
  {
   "cell_type": "code",
   "execution_count": null,
   "metadata": {
    "_cell_guid": "7ec643e1-abba-4683-b794-a1924e657501",
    "_uuid": "f804c0448b18b6d411ddf8452d15abba8292fffa",
    "collapsed": true,
    "trusted": false
   },
   "outputs": [],
   "source": [
    "# Now try removing all the columns with empty values. Now how much of your data is left?\n"
   ]
  },
  {
   "cell_type": "markdown",
   "metadata": {
    "_cell_guid": "1dbe153d-7b30-4ad8-80ad-a4c7fb53928e",
    "_uuid": "eb1ef8d47d9ebed77c3d21eca24708708ed4d45f"
   },
   "source": [
    "# Filling in missing values automatically\n",
    "_____\n",
    "\n",
    "Another option is to try and fill in the missing values. For this next bit, I'm getting a small sub-section of the NFL data so that it will print well."
   ]
  },
  {
   "cell_type": "code",
   "execution_count": null,
   "metadata": {
    "_cell_guid": "76fd83fb-a6d9-4c03-8c94-a111ee529881",
    "_uuid": "e0944282c73a63513d5345689ddd6a9da0fc8547",
    "collapsed": true,
    "trusted": false
   },
   "outputs": [],
   "source": [
    "# get a small subset of the NFL dataset\n",
    "subset_nfl_data = nfl_data.loc[:, 'EPA':'Season'].head()\n",
    "subset_nfl_data"
   ]
  },
  {
   "cell_type": "markdown",
   "metadata": {
    "_cell_guid": "527c8703-4b29-459d-af7d-5505da36016b",
    "_uuid": "f8cfe916904af3265d8ecc4f791f9f62e34ff458"
   },
   "source": [
    "We can use the Panda's fillna() function to fill in missing values in a dataframe for us. One option we have is to specify what we want the `NaN` values to be replaced with. Here, I'm saying that I would like to replace all the `NaN` values with 0."
   ]
  },
  {
   "cell_type": "code",
   "execution_count": null,
   "metadata": {
    "_cell_guid": "c01ed989-8901-43c8-afa3-6ca36605dfb5",
    "_uuid": "77eac530ce398b8c13eb7886f86bce48fd997f34",
    "collapsed": true,
    "trusted": false
   },
   "outputs": [],
   "source": [
    "# replace all NA's with 0\n",
    "subset_nfl_data.fillna(0)"
   ]
  },
  {
   "cell_type": "markdown",
   "metadata": {
    "_cell_guid": "1103b725-c823-4f40-9bda-e97997856339",
    "_uuid": "bec603202c6bfaae7a49b4a4042f37019ad1d801"
   },
   "source": [
    "I could also be a bit more savvy and replace missing values with whatever value comes directly after it in the same column. (This makes a lot of sense for datasets where the observations have some sort of logical order to them.)"
   ]
  },
  {
   "cell_type": "code",
   "execution_count": null,
   "metadata": {
    "_cell_guid": "90ddac9b-ee20-492e-b437-0519c97ca317",
    "_uuid": "afba99aa7897539e9a0af77dce03daab94d0ca68",
    "collapsed": true,
    "trusted": false
   },
   "outputs": [],
   "source": [
    "# replace all NA's the value that comes directly after it in the same column, \n",
    "# then replace all the reamining na's with 0\n",
    "subset_nfl_data.fillna(method = 'bfill', axis=0).fillna(0)"
   ]
  },
  {
   "cell_type": "markdown",
   "metadata": {
    "_cell_guid": "980e5d67-7e9c-41a3-b17e-51d87e9da9cf",
    "_uuid": "1f8ac8b52f2933612e315f06a53185e164e6c5bc"
   },
   "source": [
    "Filling in missing values is also known as \"imputation\", and you can find more exercises on it [in this lesson, also linked under the \"More practice!\" section](https://www.kaggle.com/dansbecker/handling-missing-values). First, however, why don't you try replacing some of the missing values in the sf_permit dataset?"
   ]
  },
  {
   "cell_type": "code",
   "execution_count": null,
   "metadata": {
    "_cell_guid": "da426397-7e17-40ce-a0d4-ca6d39e47498",
    "_uuid": "f7d403c19eaf31ee0a4e04b9e1119eda96a9f95c",
    "collapsed": true,
    "trusted": false
   },
   "outputs": [],
   "source": [
    "# Your turn! Try replacing all the NaN's in the sf_permits data with the one that\n",
    "# comes directly after it and then replacing any remaining NaN's with 0"
   ]
  },
  {
   "cell_type": "markdown",
   "metadata": {
    "_cell_guid": "b4f37fce-4d08-409e-bbbd-6a26c3bbc6ee",
    "_uuid": "52b0af56e3c77db96056e9acd785f8f435f7caf5"
   },
   "source": [
    "And that's it for today! If you have any questions, be sure to post them in the comments below or [on the forums](https://www.kaggle.com/questions-and-answers). \n",
    "\n",
    "Remember that your notebook is private by default, and in order to share it with other people or ask for help with it, you'll need to make it public. First, you'll need to save a version of your notebook that shows your current work by hitting the \"Commit & Run\" button. (Your work is saved automatically, but versioning your work lets you go back and look at what it was like at the point you saved it. It also let's you share a nice compiled notebook instead of just the raw code.) Then, once your notebook is finished running, you can go to the Settings tab in the panel to the left (you may have to expand it by hitting the [<] button next to the \"Commit & Run\" button) and setting the \"Visibility\" dropdown to \"Public\".\n",
    "\n",
    "# More practice!\n",
    "___\n",
    "\n",
    "If you're looking for more practice handling missing values, check out these extra-credit\\* exercises:\n",
    "\n",
    "* [Handling Missing Values](https://www.kaggle.com/dansbecker/handling-missing-values): In this notebook Dan shows you several approaches to imputing missing data using scikit-learn's imputer. \n",
    "* Look back at the `Zipcode` column in the `sf_permits` dataset, which has some missing values. How would you go about figuring out what the actual zipcode of each address should be? (You might try using another dataset. You can search for datasets about San Fransisco on the [Datasets listing](https://www.kaggle.com/datasets).) \n",
    "\n",
    "\\* no actual credit is given for completing the challenge, you just learn how to clean data real good :P"
   ]
  }
 ],
 "metadata": {
  "kernelspec": {
   "display_name": "Python 3",
   "language": "python",
   "name": "python3"
  },
  "language_info": {
   "codemirror_mode": {
    "name": "ipython",
    "version": 3
   },
   "file_extension": ".py",
   "mimetype": "text/x-python",
   "name": "python",
   "nbconvert_exporter": "python",
   "pygments_lexer": "ipython3",
   "version": "3.11.13"
  }
 },
 "nbformat": 4,
 "nbformat_minor": 1
}
